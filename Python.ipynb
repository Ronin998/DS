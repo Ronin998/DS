{
 "cells": [
  {
   "attachments": {},
   "cell_type": "markdown",
   "metadata": {},
   "source": [
    "<h1>Data Type</h1>\n",
    "\n",
    "> Elemental (int ,float, string, bool)\n",
    "\n",
    "> Containers (list, tuple, set, dicitionary)\n",
    "\n",
    "> --Operationa on a list--"
   ]
  },
  {
   "attachments": {},
   "cell_type": "markdown",
   "metadata": {},
   "source": [
    "<h1>List</h1>\n",
    "\n",
    "1. List is ordered \n",
    "2. List is indexed\n",
    "3. List Allows mutation\n",
    "4. List Allows Duplicates"
   ]
  },
  {
   "cell_type": "code",
   "execution_count": 29,
   "metadata": {},
   "outputs": [
    {
     "name": "stdout",
     "output_type": "stream",
     "text": [
      "[1, 2, 3, 'a', 'b', 'c', 7.5, True, 5, 6, 7, 'p', 'q', 'r', 10.5, False]\n",
      "[1, 2, 3, 'a', 'b', 'c', 7.5, True, 1, 2, 3, 'a', 'b', 'c', 7.5, True, 1, 2, 3, 'a', 'b', 'c', 7.5, True]\n",
      "True\n",
      "3\n",
      "[1, 2, 3.5, 'a', 'b', 'c', 7.5, True]\n"
     ]
    }
   ],
   "source": [
    "List = [1,2,3,\"a\",'b','c',7.5,True]\n",
    "\n",
    "List2 = [5,6,7,'p','q','r', 10.5, False]\n",
    "\n",
    "\n",
    "#Concat\n",
    "\n",
    "print(List + List2)\n",
    "\n",
    "#multiply by int will work\n",
    "\n",
    "print(List * 3)\n",
    "\n",
    "# in operator\n",
    "\n",
    "print(2 in List)\n",
    "\n",
    "#comapare\n",
    "\n",
    "List < List2\n",
    "\n",
    "#mutetion\n",
    "\n",
    "print(List[2])\n",
    "\n",
    "List[2] = 3.5\n",
    "\n",
    "print(List)"
   ]
  },
  {
   "attachments": {},
   "cell_type": "markdown",
   "metadata": {},
   "source": [
    "<h1>Tuple</h1> \n",
    "\n",
    "1. Tuple Allows Duplicates \n",
    "2. Tuple allows ordering \n",
    "3. Tuple allows Indexing \n",
    "4. Tuple dose not allows the Mutation "
   ]
  },
  {
   "cell_type": "code",
   "execution_count": 30,
   "metadata": {},
   "outputs": [
    {
     "name": "stdout",
     "output_type": "stream",
     "text": [
      "(1, 2, 3, 4, 5) (5, 6, 7, 8, 9) (10, 11, 12, 13)\n",
      "(1, 2, 3, 4, 5, 5, 6, 7, 8, 9, 10, 11, 12, 13)\n",
      "(10, 11, 12, 13, 10, 11, 12, 13, 10, 11, 12, 13)\n"
     ]
    }
   ],
   "source": [
    "#Declartion of the tuples\n",
    "Tuple = (1,2,3,4,5)\n",
    "Tuple2 = (5,6,7,8,9)\n",
    "Tuple3 = 10,11,12,13\n",
    "\n",
    "print(Tuple,Tuple2,Tuple3)\n",
    "\n",
    "# operations on Tuple\n",
    "print(Tuple+Tuple2+Tuple3)\n",
    "\n",
    "print(Tuple3 * 3)\n",
    "\n"
   ]
  },
  {
   "attachments": {},
   "cell_type": "markdown",
   "metadata": {},
   "source": [
    "<h1>Set</h1>\n",
    "\n",
    "1. Set is unordered \n",
    "2. Set dose not allow duplicates \n",
    "3. Set dose not allow indexing \n",
    "4. Set dose not allow mutation "
   ]
  },
  {
   "cell_type": "code",
   "execution_count": 31,
   "metadata": {},
   "outputs": [
    {
     "name": "stdout",
     "output_type": "stream",
     "text": [
      "{1, 2, 3}\n",
      "{5, 6, 7}\n",
      "True\n",
      "False\n",
      "False\n"
     ]
    }
   ],
   "source": [
    "# declaration \n",
    "\n",
    "SET = {1,2,3,4}\n",
    "SET2 = {4,5,6,7}\n",
    "\n",
    "#operation \n",
    "\n",
    "#print(SET + SET2) #not Supported \n",
    "\n",
    "print(SET - SET2) #substraction\n",
    "print(SET2 - SET)\n",
    "\n",
    "print(2 in SET) #membership operator\n",
    "\n",
    "print(SET < SET2) #comparsion operator\n",
    "print(SET2 < SET)"
   ]
  },
  {
   "attachments": {},
   "cell_type": "markdown",
   "metadata": {},
   "source": [
    "<h1>Dictionary</h1>\n",
    "\n",
    "1. Dictionary is ordered\n",
    "2. Dictionary is Indexed (will search the values on basis of keys)\n",
    "3. Dictionary is Semi-Mutable (Key is not Mutable but values is mutable) (it will overite the values of lastest one)\n",
    "4. Dictionary is partially allows duplicates (Key is not duplicate but values can be duplicate)\n"
   ]
  },
  {
   "cell_type": "code",
   "execution_count": 32,
   "metadata": {},
   "outputs": [
    {
     "name": "stdout",
     "output_type": "stream",
     "text": [
      "True\n",
      "B\n",
      "{1: 'A', 2: 'B', 3: 10}\n"
     ]
    }
   ],
   "source": [
    "Dict ={ 'A' : 1, 'B' : 2, 'C' : 3}\n",
    "Dict2 = {1 : 'A', 2 : 'B' , 3 : 'C'}\n",
    "\n",
    "#print(Dict / Dict2) # Arithmatic dose not work\n",
    "\n",
    "print(2 in Dict2) # memebership Operators works\n",
    "\n",
    "#print(Dict < Dict2) # comaparsion operators dose not works\n",
    "\n",
    "#indexing \n",
    "\n",
    "print(Dict2[2])\n",
    "\n",
    "#mutation\n",
    "\n",
    "Dict2[3] = 10 # type: ignore\n",
    "\n",
    "print(Dict2)"
   ]
  },
  {
   "attachments": {},
   "cell_type": "markdown",
   "metadata": {},
   "source": [
    "<h1>Indexing in detail</h1> \n",
    "\n",
    "<b><i>classically used with LIST</i></b> \n",
    "\n",
    "--------Rules of indexing ------------\n",
    "1. Indexing always starts with 0\n",
    "2. for a range of index use \":\" where end point dose not inculded\n",
    "3. if start = 0 & end = Len then need not to be mentioned \n",
    "4. reverse indexing starts form back like -1,-2,-3 etc.\n",
    "5. step is also availble using \":\""
   ]
  },
  {
   "cell_type": "code",
   "execution_count": 33,
   "metadata": {},
   "outputs": [
    {
     "name": "stdout",
     "output_type": "stream",
     "text": [
      "[3, 4, ['Apple', 'Banana', 'coconut']]\n",
      "[3, 4, ['Apple', 'Banana', 'coconut'], 'Saurabh']\n",
      "[1, 2, 3, 4]\n",
      "[1, 2, 3, 4, ['Apple', 'Banana', 'coconut'], 'Saurabh']\n",
      "[1, 3, ['Apple', 'Banana', 'coconut']]\n",
      "<class 'int'>\n",
      "Banana\n",
      "Ban\n",
      "Saurabh\n",
      "['Saurabh', ['Apple', 'Banana', 'coconut'], 4, 3, 2, 1]\n"
     ]
    }
   ],
   "source": [
    "lst = [1,2,3,4,['Apple', 'Banana', 'coconut'],'Saurabh']\n",
    "\n",
    "len(lst)\n",
    "\n",
    "#calling multiple values form the List\n",
    "\n",
    "print(lst[2:5])\n",
    "\n",
    "#example indexing \n",
    "print(lst[2:])\n",
    "\n",
    "\n",
    "print(lst[:4])\n",
    "\n",
    "#Step Example \n",
    "print(lst[:])\n",
    "print(lst[::2]) # this will skip the 2 records in a LIST\n",
    "#checking the data types\n",
    "\n",
    "print(type(lst[3]))\n",
    "\n",
    "# double indexing \n",
    "print(lst[4][1])\n",
    "\n",
    "#indexing on a List in list and getting the desired values \n",
    "print(lst[4][1][0:3])\n",
    "\n",
    "#reverse Indexing \n",
    "print(lst[-1])\n",
    "\n",
    "# step and reverse indexing \n",
    "print(lst[::-1])\n"
   ]
  },
  {
   "attachments": {},
   "cell_type": "markdown",
   "metadata": {},
   "source": [
    "<h1>Type casting</h1>\n",
    "\n",
    "> type casting any thing to string is possible \n",
    "\n",
    "> number are mostly hard to type cast "
   ]
  },
  {
   "cell_type": "code",
   "execution_count": 34,
   "metadata": {},
   "outputs": [
    {
     "name": "stdout",
     "output_type": "stream",
     "text": [
      "10\n",
      "<class 'int'>\n",
      "<class 'float'>\n",
      "10.0\n"
     ]
    }
   ],
   "source": [
    "#nu,m has data type of int \n",
    "num = 10\n",
    "print(num)\n",
    "print(type(num))\n",
    "\n",
    "#converting nums data type from INT to FLOAT\n",
    "num= float(num)\n",
    "print(type(num))\n",
    "print(num)\n",
    "\n",
    "\n"
   ]
  },
  {
   "attachments": {},
   "cell_type": "markdown",
   "metadata": {},
   "source": [
    "<H1> If Else </h1>\n",
    "\n",
    "> conditonal \n",
    "\n",
    ">mutually exclusive \n",
    "\n",
    ">either will work it will not work simultenously\n",
    "\n",
    ">if else are strict about the indentatoin \n",
    "\n",
    "> else is optional\n",
    "\n",
    "> String will only trated as flase when its empty (null)\n",
    "\n",
    ">Double is also allowed.\n",
    "\n",
    "> List is also allowed (when list is non empty it will give the value true)"
   ]
  },
  {
   "cell_type": "code",
   "execution_count": 35,
   "metadata": {},
   "outputs": [
    {
     "name": "stdout",
     "output_type": "stream",
     "text": [
      "True\n",
      "False\n",
      "True\n",
      "True\n",
      "True\n"
     ]
    }
   ],
   "source": [
    "#noraml Comparison\n",
    "if 2>1 :\n",
    "    print('True')\n",
    "else:\n",
    "    print('False')\n",
    "\n",
    "#variable comparison\n",
    "a = 3\n",
    "if a>5 :\n",
    "    print('True')\n",
    "else:\n",
    "    print('False')\n",
    "\n",
    "#equal comparison\n",
    "b = 10\n",
    "if b<15 :\n",
    "    print('True')\n",
    "elif b == 10:\n",
    "    print('equal')\n",
    "else:\n",
    "    print('False')\n",
    "\n",
    "\n",
    "#else is optional \n",
    "if True:\n",
    "    print('True')\n",
    "\n",
    "# using 0 and 1 as boolean values (All the non zero values are treated as true and it will work on string and double)\n",
    "\n",
    "if 1:\n",
    "    print('True')\n",
    "else:\n",
    "    print('Flase')\n",
    "\n"
   ]
  },
  {
   "attachments": {},
   "cell_type": "markdown",
   "metadata": {},
   "source": [
    "<h1>ELIF</h1>\n",
    "\n",
    "> used when you want to add layers of conditions to the loop.\n",
    "\n",
    ">it will stop at the first true condition and wont execute the later loops."
   ]
  },
  {
   "cell_type": "code",
   "execution_count": 36,
   "metadata": {},
   "outputs": [
    {
     "name": "stdout",
     "output_type": "stream",
     "text": [
      "False\n"
     ]
    }
   ],
   "source": [
    "#elif for multiple layer to the equation \n",
    "b = 2\n",
    "if b>15 :\n",
    "    print('True')\n",
    "elif b == 10:\n",
    "    print('equal')\n",
    "else:\n",
    "    print('False')"
   ]
  },
  {
   "attachments": {},
   "cell_type": "markdown",
   "metadata": {},
   "source": [
    "<h1><b>New Data Type</b></h1>\n",
    "\n",
    "<h2><b><u><i>None</i></u></b></h2>\n",
    "\n",
    ">Datatype : NoneType\n",
    "\n",
    ">equvalance : 0\n",
    "\n",
    ">Treated as the null value "
   ]
  },
  {
   "cell_type": "code",
   "execution_count": 37,
   "metadata": {},
   "outputs": [
    {
     "data": {
      "text/plain": [
       "NoneType"
      ]
     },
     "execution_count": 37,
     "metadata": {},
     "output_type": "execute_result"
    }
   ],
   "source": [
    "A = None\n",
    "\n",
    "type(A)"
   ]
  },
  {
   "attachments": {},
   "cell_type": "markdown",
   "metadata": {},
   "source": [
    "<h1>Nested Loops</h1>\n",
    "\n",
    ">pass is operation & none is a datatype"
   ]
  },
  {
   "cell_type": "code",
   "execution_count": 38,
   "metadata": {},
   "outputs": [
    {
     "name": "stdout",
     "output_type": "stream",
     "text": [
      "Bye\n",
      "Hey\n",
      "welcome\n"
     ]
    }
   ],
   "source": [
    "\n",
    "#Example 1: Its o/p will be flase \n",
    "a = 5\n",
    "\n",
    "if a >10:\n",
    "    print('Hey')\n",
    "    if 1:\n",
    "        print('Hello')\n",
    "    else:\n",
    "        print('welcome')\n",
    "\n",
    "else:\n",
    "    print('Bye')\n",
    "\n",
    "#example 2: it output will be True False\n",
    "\n",
    "a = 12\n",
    "\n",
    "if a >10:\n",
    "    print('Hey')\n",
    "    if 0:\n",
    "        print('Hello')\n",
    "    else:\n",
    "        print('welcome')\n",
    "else:\n",
    "    print('Bye')\n",
    "\n",
    "\n",
    "# Example 3: pass \n",
    "\n",
    "if True:\n",
    "    pass\n",
    "else:\n",
    "    print(0)"
   ]
  },
  {
   "attachments": {},
   "cell_type": "markdown",
   "metadata": {},
   "source": [
    "|   For\t|   While\t|\n",
    "|---\t|---\t|\n",
    "| itarable to known numbers\t|   \titarable for unknown numbers|\n",
    "|   itarates over itrable items and sequence |   itarate till the conditions are flase\t|\n",
    "|   \tincrement happens automatically  \t|increments are not automatic |\n",
    "|  itarator is not needed to be defined \t|   initiazae a condition might be the requied\t|\n",
    "|   \t|   \t|"
   ]
  },
  {
   "cell_type": "code",
   "execution_count": 39,
   "metadata": {},
   "outputs": [
    {
     "name": "stdout",
     "output_type": "stream",
     "text": [
      "10\n",
      "20\n",
      "30\n",
      "40\n",
      "50\n",
      "60\n",
      " \n",
      "I\n",
      "n\n",
      "d\n",
      "i\n",
      "a\n",
      " \n",
      "Name\n",
      "Age\n",
      " \n",
      "('Name', 'Saurabh')\n",
      "('Age', 25)\n",
      " \n",
      "Name Saurabh\n",
      "Age 25\n",
      " \n"
     ]
    }
   ],
   "source": [
    "#Example 1:\n",
    "\n",
    "lst = [10,20,30,40,50,60]\n",
    "\n",
    "for i in lst:\n",
    "    print(i)\n",
    "\n",
    "print(\" \")\n",
    "\n",
    "#Example 2:\n",
    "for char in \"India\":\n",
    "    print(char)\n",
    "print(\" \")\n",
    "#Example 3:\n",
    "#This will only provides the keys \n",
    "dict = {\"Name\": \"Saurabh\", \"Age\" :25}\n",
    "for i in dict:\n",
    "    print(i)\n",
    "\n",
    "#This will give the key value pair \n",
    "print(\" \")\n",
    "for i in dict.items():\n",
    "    print(i)\n",
    "\n",
    "#Example 4: \n",
    "# you cam extract 2 values at once\n",
    "print(\" \")\n",
    "for key, Value in dict.items():\n",
    "    print(key, Value)\n",
    "\n",
    "print(\" \")"
   ]
  },
  {
   "attachments": {},
   "cell_type": "markdown",
   "metadata": {},
   "source": [
    "<h1>Range</h1>\n",
    "\n",
    ">it a generate function \n",
    "\n",
    ">output will not shown directly we need to type caste itno a list and set.\n",
    "\n",
    ">Range works in 3 format range(5) #only the range , range(1,5) #start and stop range, range(1,5,2) #start stop and step "
   ]
  },
  {
   "cell_type": "code",
   "execution_count": 40,
   "metadata": {},
   "outputs": [
    {
     "name": "stdout",
     "output_type": "stream",
     "text": [
      "[1, 2, 3, 4, 5, 6, 7, 8, 9]\n",
      "[1, 3, 5, 7, 9]\n"
     ]
    }
   ],
   "source": [
    "range(1,10)\n",
    "\n",
    "#convarting range Into a List\n",
    "a = list(range(1,10))\n",
    "print(a)\n",
    "\n",
    "\n",
    "#Adding Range and a sequences with arithmatic progression \n",
    "b = list(range(1,10,2))\n",
    "print(b)"
   ]
  },
  {
   "attachments": {},
   "cell_type": "markdown",
   "metadata": {},
   "source": [
    "<h1>Range and For Loop</h1>"
   ]
  },
  {
   "cell_type": "code",
   "execution_count": 41,
   "metadata": {},
   "outputs": [
    {
     "name": "stdout",
     "output_type": "stream",
     "text": [
      "1\n",
      "4\n",
      "9\n",
      "16\n",
      "25\n",
      "36\n",
      "49\n",
      "64\n",
      "81\n",
      "100\n",
      " \n",
      "India\n",
      "India\n",
      "India\n",
      "India\n",
      "India\n",
      "India\n",
      "India\n",
      "India\n",
      "India\n",
      "India\n",
      " \n",
      "1 is Odd\n",
      "2 is Even\n",
      "3 is Odd\n",
      "4 is Even\n",
      "5 is Odd\n",
      "6 is Even\n",
      "7 is Odd\n",
      "8 is Even\n",
      "9 is Odd\n",
      " \n",
      "0 [1, 2, 3, 4, 5, 6, 7, 8, 9]\n",
      "0 [1, 3, 5, 7, 9]\n",
      "1 [1, 2, 3, 4, 5, 6, 7, 8, 9]\n",
      "1 [1, 3, 5, 7, 9]\n",
      "2 [1, 2, 3, 4, 5, 6, 7, 8, 9]\n",
      "2 [1, 3, 5, 7, 9]\n"
     ]
    }
   ],
   "source": [
    "#Example 1:\n",
    "#printing the squre of numbers \n",
    "for i in range(1,11):\n",
    "    print(i**2)\n",
    "\n",
    "#Example 2:\n",
    "print(\" \")\n",
    "for i in range(1,11):\n",
    "    print(\"India\")\n",
    "print(\" \")\n",
    "\n",
    "#Example 3:\n",
    "for i in range(1,10):\n",
    "    if i%2 == 0:\n",
    "        print(i,\"is Even\")\n",
    "    else:\n",
    "        print(i, \"is Odd\")\n",
    "print(\" \")\n",
    "\n",
    "#example 4:\n",
    "\n",
    "for i in range(3):\n",
    "    for j in [a,b]:\n",
    "        print(i,j)\n"
   ]
  },
  {
   "attachments": {},
   "cell_type": "markdown",
   "metadata": {},
   "source": [
    "<h1>While Loop</h1>"
   ]
  },
  {
   "cell_type": "code",
   "execution_count": 13,
   "metadata": {},
   "outputs": [
    {
     "name": "stdout",
     "output_type": "stream",
     "text": [
      "0 1 2 3 4 \n",
      "1 2 3 4 5 \n",
      "Print Started......\n",
      "9 8 7 6 5 \n",
      " Loop Ended\n"
     ]
    }
   ],
   "source": [
    "#Example 1 :\n",
    "\n",
    "a = 0 \n",
    "while a<5 :\n",
    "    print(a , end = \" \")\n",
    "    a= a+1\n",
    "\n",
    "print()\n",
    "\n",
    "#Example 2:\n",
    "A = 0 \n",
    "while A< 5:\n",
    "\n",
    "    A=A+1\n",
    "    print(A , end = ' ')\n",
    "\n",
    "#Example 3:\n",
    "print()\n",
    "B = 10\n",
    "print('Print Started......')\n",
    "while B>5:\n",
    "    B =B - 1\n",
    "    print(B , end = \" \")\n",
    "else:\n",
    "    print('\\n Loop Ended......')\n",
    "\n"
   ]
  }
 ],
 "metadata": {
  "kernelspec": {
   "display_name": "Python 3",
   "language": "python",
   "name": "python3"
  },
  "language_info": {
   "codemirror_mode": {
    "name": "ipython",
    "version": 3
   },
   "file_extension": ".py",
   "mimetype": "text/x-python",
   "name": "python",
   "nbconvert_exporter": "python",
   "pygments_lexer": "ipython3",
   "version": "3.11.0"
  },
  "orig_nbformat": 4
 },
 "nbformat": 4,
 "nbformat_minor": 2
}
