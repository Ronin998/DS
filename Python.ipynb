{
 "cells": [
  {
   "attachments": {},
   "cell_type": "markdown",
   "metadata": {},
   "source": [
    "<h1>Data Type</h1>\n",
    "\n",
    "> Elemental (int ,float, string, bool)\n",
    "\n",
    "> Containers (list, tuple, set, dicitionary)\n",
    "\n",
    "> --Operationa on a list--"
   ]
  },
  {
   "attachments": {},
   "cell_type": "markdown",
   "metadata": {},
   "source": [
    "<h1>List</h1>\n",
    "\n",
    "1. List is ordered \n",
    "2. List is indexed\n",
    "3. List Allows mutation\n",
    "4. List Allows Duplicates"
   ]
  },
  {
   "cell_type": "code",
   "execution_count": 3,
   "metadata": {},
   "outputs": [
    {
     "name": "stdout",
     "output_type": "stream",
     "text": [
      "[1, 2, 3, 'a', 'b', 'c', 7.5, True, 5, 6, 7, 'p', 'q', 'r', 10.5, False]\n",
      "[1, 2, 3, 'a', 'b', 'c', 7.5, True, 1, 2, 3, 'a', 'b', 'c', 7.5, True, 1, 2, 3, 'a', 'b', 'c', 7.5, True]\n",
      "True\n",
      "3\n",
      "[1, 2, 3.5, 'a', 'b', 'c', 7.5, True]\n"
     ]
    }
   ],
   "source": [
    "List = [1,2,3,\"a\",'b','c',7.5,True]\n",
    "\n",
    "List2 = [5,6,7,'p','q','r', 10.5, False]\n",
    "\n",
    "\n",
    "#Concat\n",
    "\n",
    "print(List + List2)\n",
    "\n",
    "#multiply by int will work\n",
    "\n",
    "print(List * 3)\n",
    "\n",
    "# in operator\n",
    "\n",
    "print(2 in List)\n",
    "\n",
    "#comapare\n",
    "\n",
    "List < List2\n",
    "\n",
    "#mutetion\n",
    "\n",
    "print(List[2])\n",
    "\n",
    "List[2] = 3.5\n",
    "\n",
    "print(List)"
   ]
  },
  {
   "attachments": {},
   "cell_type": "markdown",
   "metadata": {},
   "source": [
    "<h1>Tuple</h1> \n",
    "\n",
    "1. Tuple Allows Duplicates \n",
    "2. Tuple allows ordering \n",
    "3. Tuple allows Indexing \n",
    "4. Tuple dose not allows the Mutation \n",
    "5. Tuple is hashable "
   ]
  },
  {
   "cell_type": "code",
   "execution_count": 4,
   "metadata": {},
   "outputs": [
    {
     "name": "stdout",
     "output_type": "stream",
     "text": [
      "(1, 2, 3, 4, 5) (5, 6, 7, 8, 9) (10, 11, 12, 13)\n",
      "(1, 2, 3, 4, 5, 5, 6, 7, 8, 9, 10, 11, 12, 13)\n",
      "(10, 11, 12, 13, 10, 11, 12, 13, 10, 11, 12, 13)\n"
     ]
    }
   ],
   "source": [
    "#Declartion of the tuples\n",
    "Tuple = (1,2,3,4,5)\n",
    "Tuple2 = (5,6,7,8,9)\n",
    "Tuple3 = 10,11,12,13\n",
    "\n",
    "print(Tuple,Tuple2,Tuple3)\n",
    "\n",
    "# operations on Tuple\n",
    "print(Tuple+Tuple2+Tuple3)\n",
    "\n",
    "print(Tuple3 * 3)\n",
    "\n"
   ]
  },
  {
   "attachments": {},
   "cell_type": "markdown",
   "metadata": {},
   "source": [
    "<h1>Set</h1>\n",
    "\n",
    "1. Set is unordered \n",
    "2. Set dose not allow duplicates \n",
    "3. Set dose not allow indexing \n",
    "4. Set dose not allow mutation "
   ]
  },
  {
   "cell_type": "code",
   "execution_count": 5,
   "metadata": {},
   "outputs": [
    {
     "name": "stdout",
     "output_type": "stream",
     "text": [
      "{1, 2, 3}\n",
      "{5, 6, 7}\n",
      "True\n",
      "False\n",
      "False\n"
     ]
    }
   ],
   "source": [
    "# declaration \n",
    "\n",
    "SET = {1,2,3,4}\n",
    "SET2 = {4,5,6,7}\n",
    "\n",
    "#operation \n",
    "\n",
    "#print(SET + SET2) #not Supported \n",
    "\n",
    "print(SET - SET2) #substraction\n",
    "print(SET2 - SET)\n",
    "\n",
    "print(2 in SET) #membership operator\n",
    "\n",
    "print(SET < SET2) #comparsion operator\n",
    "print(SET2 < SET)"
   ]
  },
  {
   "attachments": {},
   "cell_type": "markdown",
   "metadata": {},
   "source": [
    "<h1>Dictionary</h1>\n",
    "\n",
    "1. Dictionary is ordered\n",
    "2. Dictionary is Indexed (will search the values on basis of keys)\n",
    "3. Dictionary is Semi-Mutable (Key is not Mutable but values is mutable) (it will overite the values of lastest one)\n",
    "4. Dictionary is partially allows duplicates (Key is not duplicate but values can be duplicate)\n",
    "5. list cant be a key"
   ]
  },
  {
   "cell_type": "code",
   "execution_count": 6,
   "metadata": {},
   "outputs": [
    {
     "name": "stdout",
     "output_type": "stream",
     "text": [
      "{1.1: 'A'}\n",
      "True\n",
      "B\n",
      "{1: 'A', 2: 'B', 3: 10}\n"
     ]
    }
   ],
   "source": [
    "Dict ={ 'A' : 1, 'B' : 2, 'C' : 3}\n",
    "Dict2 = {1 : 'A', 2 : 'B' , 3 : 'C'}\n",
    "Dict3 = {1.1: 'A'}\n",
    "\n",
    "print(Dict3)\n",
    "#print(Dict / Dict2) # Arithmatic dose not work\n",
    "\n",
    "print(2 in Dict2) # memebership Operators works\n",
    "\n",
    "#print(Dict < Dict2) # comaparsion operators dose not works\n",
    "\n",
    "#indexing \n",
    "\n",
    "print(Dict2[2])\n",
    "\n",
    "#mutation\n",
    "\n",
    "Dict2[3] = 10 # type: ignore\n",
    "\n",
    "print(Dict2)"
   ]
  },
  {
   "attachments": {},
   "cell_type": "markdown",
   "metadata": {},
   "source": [
    "<h1>Indexing in detail</h1> \n",
    "\n",
    "<b><i>classically used with LIST</i></b> \n",
    "\n",
    "--------Rules of indexing ------------\n",
    "1. Indexing always starts with 0\n",
    "2. for a range of index use \":\" where end point dose not inculded\n",
    "3. if start = 0 & end = Len then need not to be mentioned \n",
    "4. reverse indexing starts form back like -1,-2,-3 etc.\n",
    "5. step is also availble using \":\""
   ]
  },
  {
   "cell_type": "code",
   "execution_count": 7,
   "metadata": {},
   "outputs": [
    {
     "name": "stdout",
     "output_type": "stream",
     "text": [
      "[3, 4, ['Apple', 'Banana', 'coconut']]\n",
      "[3, 4, ['Apple', 'Banana', 'coconut'], 'Saurabh']\n",
      "[1, 2, 3, 4]\n",
      "[1, 2, 3, 4, ['Apple', 'Banana', 'coconut'], 'Saurabh']\n",
      "[1, 3, ['Apple', 'Banana', 'coconut']]\n",
      "<class 'int'>\n",
      "Banana\n",
      "Ban\n",
      "Saurabh\n",
      "['Saurabh', ['Apple', 'Banana', 'coconut'], 4, 3, 2, 1]\n"
     ]
    }
   ],
   "source": [
    "lst = [1,2,3,4,['Apple', 'Banana', 'coconut'],'Saurabh']\n",
    "\n",
    "len(lst)\n",
    "\n",
    "#calling multiple values form the List\n",
    "\n",
    "print(lst[2:5])\n",
    "\n",
    "#example indexing \n",
    "print(lst[2:])\n",
    "\n",
    "\n",
    "print(lst[:4])\n",
    "\n",
    "#Step Example \n",
    "print(lst[:])\n",
    "print(lst[::2]) # this will skip the 2 records in a LIST\n",
    "#checking the data types\n",
    "\n",
    "print(type(lst[3]))\n",
    "\n",
    "# double indexing \n",
    "print(lst[4][1])\n",
    "\n",
    "#indexing on a List in list and getting the desired values \n",
    "print(lst[4][1][0:3])\n",
    "\n",
    "#reverse Indexing \n",
    "print(lst[-1])\n",
    "\n",
    "# step and reverse indexing \n",
    "print(lst[::-1])\n"
   ]
  },
  {
   "attachments": {},
   "cell_type": "markdown",
   "metadata": {},
   "source": [
    "<h1>Type casting</h1>\n",
    "\n",
    "> type casting any thing to string is possible \n",
    "\n",
    "> number are mostly hard to type cast "
   ]
  },
  {
   "cell_type": "code",
   "execution_count": 8,
   "metadata": {},
   "outputs": [
    {
     "name": "stdout",
     "output_type": "stream",
     "text": [
      "10\n",
      "<class 'int'>\n",
      "<class 'float'>\n",
      "10.0\n"
     ]
    }
   ],
   "source": [
    "#nu,m has data type of int \n",
    "num = 10\n",
    "print(num)\n",
    "print(type(num))\n",
    "\n",
    "#converting nums data type from INT to FLOAT\n",
    "num= float(num)\n",
    "print(type(num))\n",
    "print(num)\n",
    "\n",
    "\n"
   ]
  },
  {
   "attachments": {},
   "cell_type": "markdown",
   "metadata": {},
   "source": [
    "<H1> If Else </h1>\n",
    "\n",
    "> conditonal \n",
    "\n",
    ">mutually exclusive \n",
    "\n",
    ">either will work it will not work simultenously\n",
    "\n",
    ">if else are strict about the indentatoin \n",
    "\n",
    "> else is optional\n",
    "\n",
    "> String will only trated as flase when its empty (null)\n",
    "\n",
    ">Double is also allowed.\n",
    "\n",
    "> List is also allowed (when list is non empty it will give the value true)"
   ]
  },
  {
   "cell_type": "code",
   "execution_count": 9,
   "metadata": {},
   "outputs": [
    {
     "name": "stdout",
     "output_type": "stream",
     "text": [
      "True\n",
      "False\n",
      "True\n",
      "True\n",
      "True\n"
     ]
    }
   ],
   "source": [
    "#noraml Comparison\n",
    "if 2>1 :\n",
    "    print('True')\n",
    "else:\n",
    "    print('False')\n",
    "\n",
    "#variable comparison\n",
    "a = 3\n",
    "if a>5 :\n",
    "    print('True')\n",
    "else:\n",
    "    print('False')\n",
    "\n",
    "#equal comparison\n",
    "b = 10\n",
    "if b<15 :\n",
    "    print('True')\n",
    "elif b == 10:\n",
    "    print('equal')\n",
    "else:\n",
    "    print('False')\n",
    "\n",
    "\n",
    "#else is optional \n",
    "if True:\n",
    "    print('True')\n",
    "\n",
    "# using 0 and 1 as boolean values (All the non zero values are treated as true and it will work on string and double)\n",
    "\n",
    "if 1:\n",
    "    print('True')\n",
    "else:\n",
    "    print('Flase')\n",
    "\n"
   ]
  },
  {
   "attachments": {},
   "cell_type": "markdown",
   "metadata": {},
   "source": [
    "<h1>ELIF</h1>\n",
    "\n",
    "> used when you want to add layers of conditions to the loop.\n",
    "\n",
    ">it will stop at the first true condition and wont execute the later loops."
   ]
  },
  {
   "cell_type": "code",
   "execution_count": 10,
   "metadata": {},
   "outputs": [
    {
     "name": "stdout",
     "output_type": "stream",
     "text": [
      "False\n"
     ]
    }
   ],
   "source": [
    "#elif for multiple layer to the equation \n",
    "b = 2\n",
    "if b>15 :\n",
    "    print('True')\n",
    "elif b == 10:\n",
    "    print('equal')\n",
    "else:\n",
    "    print('False')"
   ]
  },
  {
   "attachments": {},
   "cell_type": "markdown",
   "metadata": {},
   "source": [
    "<h1><b>New Data Type</b></h1>\n",
    "\n",
    "<h2><b><u><i>None</i></u></b></h2>\n",
    "\n",
    ">Datatype : NoneType\n",
    "\n",
    ">equvalance : 0\n",
    "\n",
    ">Treated as the null value "
   ]
  },
  {
   "cell_type": "code",
   "execution_count": 11,
   "metadata": {},
   "outputs": [
    {
     "data": {
      "text/plain": [
       "NoneType"
      ]
     },
     "execution_count": 11,
     "metadata": {},
     "output_type": "execute_result"
    }
   ],
   "source": [
    "A = None\n",
    "\n",
    "type(A)"
   ]
  },
  {
   "attachments": {},
   "cell_type": "markdown",
   "metadata": {},
   "source": [
    "<h1>Nested Loops</h1>\n",
    "\n",
    ">pass is operation & none is a datatype"
   ]
  },
  {
   "cell_type": "code",
   "execution_count": 12,
   "metadata": {},
   "outputs": [
    {
     "name": "stdout",
     "output_type": "stream",
     "text": [
      "Bye\n",
      "Hey\n",
      "welcome\n"
     ]
    }
   ],
   "source": [
    "\n",
    "#Example 1: Its o/p will be flase \n",
    "a = 5\n",
    "\n",
    "if a >10:\n",
    "    print('Hey')\n",
    "    if 1:\n",
    "        print('Hello')\n",
    "    else:\n",
    "        print('welcome')\n",
    "\n",
    "else:\n",
    "    print('Bye')\n",
    "\n",
    "#example 2: it output will be True False\n",
    "\n",
    "a = 12\n",
    "\n",
    "if a >10:\n",
    "    print('Hey')\n",
    "    if 0:\n",
    "        print('Hello')\n",
    "    else:\n",
    "        print('welcome')\n",
    "else:\n",
    "    print('Bye')\n",
    "\n",
    "\n",
    "# Example 3: pass \n",
    "\n",
    "if True:\n",
    "    pass\n",
    "else:\n",
    "    print(0)"
   ]
  },
  {
   "attachments": {},
   "cell_type": "markdown",
   "metadata": {},
   "source": [
    "|   For\t|   While\t|\n",
    "|---\t|---\t|\n",
    "| itarable to known numbers\t|   \titarable for unknown numbers|\n",
    "|   itarates over itrable items and sequence |   itarate till the conditions are flase\t|\n",
    "|   \tincrement happens automatically  \t|increments are not automatic |\n",
    "|  itarator is not needed to be defined \t|   initiazae a condition might be the requied\t|\n",
    "|   \t|   \t|"
   ]
  },
  {
   "cell_type": "code",
   "execution_count": 13,
   "metadata": {},
   "outputs": [
    {
     "name": "stdout",
     "output_type": "stream",
     "text": [
      "10\n",
      "20\n",
      "30\n",
      "40\n",
      "50\n",
      "60\n",
      " \n",
      "I\n",
      "n\n",
      "d\n",
      "i\n",
      "a\n",
      " \n",
      "Name\n",
      "Age\n",
      " \n",
      "('Name', 'Saurabh')\n",
      "('Age', 25)\n",
      " \n",
      "Name Saurabh\n",
      "Age 25\n",
      " \n"
     ]
    }
   ],
   "source": [
    "#Example 1:\n",
    "\n",
    "lst = [10,20,30,40,50,60]\n",
    "\n",
    "for i in lst:\n",
    "    print(i)\n",
    "\n",
    "print(\" \")\n",
    "\n",
    "#Example 2:\n",
    "for char in \"India\":\n",
    "    print(char)\n",
    "print(\" \")\n",
    "#Example 3:\n",
    "#This will only provides the keys \n",
    "dict = {\"Name\": \"Saurabh\", \"Age\" :25}\n",
    "for i in dict:\n",
    "    print(i)\n",
    "\n",
    "#This will give the key value pair \n",
    "print(\" \")\n",
    "for i in dict.items():\n",
    "    print(i)\n",
    "\n",
    "#Example 4: \n",
    "# you cam extract 2 values at once\n",
    "print(\" \")\n",
    "for key, Value in dict.items():\n",
    "    print(key, Value)\n",
    "\n",
    "print(\" \")"
   ]
  },
  {
   "attachments": {},
   "cell_type": "markdown",
   "metadata": {},
   "source": [
    "<h1>Range</h1>\n",
    "\n",
    ">it a generate function \n",
    "\n",
    ">output will not shown directly we need to type caste itno a list and set.\n",
    "\n",
    ">Range works in 3 format range(5) #only the range , range(1,5) #start and stop range, range(1,5,2) #start stop and step "
   ]
  },
  {
   "cell_type": "code",
   "execution_count": 14,
   "metadata": {},
   "outputs": [
    {
     "name": "stdout",
     "output_type": "stream",
     "text": [
      "[1, 2, 3, 4, 5, 6, 7, 8, 9]\n",
      "[1, 3, 5, 7, 9]\n"
     ]
    }
   ],
   "source": [
    "range(1,10)\n",
    "\n",
    "#convarting range Into a List\n",
    "a = list(range(1,10))\n",
    "print(a)\n",
    "\n",
    "\n",
    "#Adding Range and a sequences with arithmatic progression \n",
    "b = list(range(1,10,2))\n",
    "print(b)"
   ]
  },
  {
   "attachments": {},
   "cell_type": "markdown",
   "metadata": {},
   "source": [
    "<h1>Range and For Loop</h1>"
   ]
  },
  {
   "cell_type": "code",
   "execution_count": 15,
   "metadata": {},
   "outputs": [
    {
     "name": "stdout",
     "output_type": "stream",
     "text": [
      "1\n",
      "4\n",
      "9\n",
      "16\n",
      "25\n",
      "36\n",
      "49\n",
      "64\n",
      "81\n",
      "100\n",
      " \n",
      "India\n",
      "India\n",
      "India\n",
      "India\n",
      "India\n",
      "India\n",
      "India\n",
      "India\n",
      "India\n",
      "India\n",
      " \n",
      "1 is Odd\n",
      "2 is Even\n",
      "3 is Odd\n",
      "4 is Even\n",
      "5 is Odd\n",
      "6 is Even\n",
      "7 is Odd\n",
      "8 is Even\n",
      "9 is Odd\n",
      " \n",
      "0 [1, 2, 3, 4, 5, 6, 7, 8, 9]\n",
      "0 [1, 3, 5, 7, 9]\n",
      "1 [1, 2, 3, 4, 5, 6, 7, 8, 9]\n",
      "1 [1, 3, 5, 7, 9]\n",
      "2 [1, 2, 3, 4, 5, 6, 7, 8, 9]\n",
      "2 [1, 3, 5, 7, 9]\n"
     ]
    }
   ],
   "source": [
    "#Example 1:\n",
    "#printing the squre of numbers \n",
    "for i in range(1,11):\n",
    "    print(i**2)\n",
    "\n",
    "#Example 2:\n",
    "print(\" \")\n",
    "for i in range(1,11):\n",
    "    print(\"India\")\n",
    "print(\" \")\n",
    "\n",
    "#Example 3:\n",
    "for i in range(1,10):\n",
    "    if i%2 == 0:\n",
    "        print(i,\"is Even\")\n",
    "    else:\n",
    "        print(i, \"is Odd\")\n",
    "print(\" \")\n",
    "\n",
    "#example 4:\n",
    "\n",
    "for i in range(3):\n",
    "    for j in [a,b]:\n",
    "        print(i,j)\n"
   ]
  },
  {
   "attachments": {},
   "cell_type": "markdown",
   "metadata": {},
   "source": [
    "<h1>While Loop</h1>"
   ]
  },
  {
   "cell_type": "code",
   "execution_count": 16,
   "metadata": {},
   "outputs": [
    {
     "name": "stdout",
     "output_type": "stream",
     "text": [
      "0 1 2 3 4 \n",
      "1 2 3 4 5 \n",
      "Print Started......\n",
      "9 8 7 6 5 \n",
      " Loop Ended......\n"
     ]
    }
   ],
   "source": [
    "#Example 1 :\n",
    "\n",
    "a = 0 \n",
    "while a<5 :\n",
    "    print(a , end = \" \")\n",
    "    a= a+1\n",
    "\n",
    "print()\n",
    "\n",
    "#Example 2:\n",
    "A = 0 \n",
    "while A< 5:\n",
    "\n",
    "    A=A+1\n",
    "    print(A , end = ' ')\n",
    "\n",
    "#Example 3:\n",
    "print()\n",
    "B = 10\n",
    "print('Print Started......')\n",
    "while B>5:\n",
    "    B =B - 1\n",
    "    print(B , end = \" \")\n",
    "else:\n",
    "    print('\\n Loop Ended......')\n",
    "\n"
   ]
  },
  {
   "attachments": {},
   "cell_type": "markdown",
   "metadata": {},
   "source": [
    "<h1>Break Continue Pass</h1>\n",
    "\n",
    "<h3><b>Pass</b></h3>\n",
    "\n",
    ">1. Statement of null operation. dont compare it with \"None\" None is datatype \"Pass\" is a operation.\n",
    "\n",
    ">2. Used in Templete creation.\n",
    "\n",
    "<h3><b>Break</b></h3>\n",
    "\n",
    ">1. Breaks out of the current closeset loop.\n",
    "\n",
    "<h3><b>Continue</b></h3>\n",
    "\n",
    "> 1. Breaks out if the current closeset loop.\n",
    "\n",
    "> 2. After Continue the return code will be void. "
   ]
  },
  {
   "cell_type": "code",
   "execution_count": 17,
   "metadata": {},
   "outputs": [
    {
     "name": "stdout",
     "output_type": "stream",
     "text": [
      "Hi\n",
      "\n",
      "0\n",
      "1\n",
      "2\n",
      "\n",
      "A is currently :- 0\n",
      "Continuing....😎\n",
      "A is currently :- 1\n",
      "Continuing....😎\n",
      "A is currently :- 2\n",
      "I am in IF when A was :- 3\n"
     ]
    }
   ],
   "source": [
    "#Example pass\n",
    "\n",
    "if 1< 2 :\n",
    "    print(\"Hi\")\n",
    "else:\n",
    "    pass     #Now here i can come back and write my else part later pass is used to prevent the error \n",
    "print()\n",
    "\n",
    "\n",
    "#example Break\n",
    "A= 0 \n",
    "while A <5 :\n",
    "    print(A)\n",
    "    A += 1\n",
    "    if(A == 3):\n",
    "        break\n",
    "\n",
    "print()\n",
    "\n",
    "#example Break and Continue\n",
    "A = 0 \n",
    "while A < 10:\n",
    "    print(\"A is currently :-\" , A)\n",
    "    A += 1\n",
    "    if(A == 3):\n",
    "        print(\"I am in IF when A was :-\", A)\n",
    "        break\n",
    "    else:\n",
    "        print(\"Continuing....😎\")\n",
    "        continue\n",
    "        print(\"Hello\")"
   ]
  },
  {
   "attachments": {},
   "cell_type": "markdown",
   "metadata": {},
   "source": [
    "<h1>ZIP()</h1>"
   ]
  },
  {
   "cell_type": "code",
   "execution_count": 18,
   "metadata": {},
   "outputs": [
    {
     "name": "stdout",
     "output_type": "stream",
     "text": [
      "['Pune', 'Mumbai', 'Nagpur']\n",
      "['1', '2', '3']\n",
      "[('Pune', '1'), ('Mumbai', '2'), ('Nagpur', '3')]\n",
      "\n",
      "['Pune', 'Mumbai']\n",
      "['1', '2', '3']\n",
      "[('Pune', '1'), ('Mumbai', '2')]\n"
     ]
    }
   ],
   "source": [
    "#Example 1\n",
    "List1 = [\"Pune\", \"Mumbai\", \"Nagpur\"]\n",
    "List2 = [\"1\",\"2\",\"3\"]\n",
    "List3 = list(zip(List1,List2))\n",
    "print(List1)\n",
    "print(List2)\n",
    "print(List3)\n",
    "print()\n",
    "\n",
    "#Example 2\n",
    "List1 = [\"Pune\", \"Mumbai\"]\n",
    "List2 = [\"1\",\"2\",\"3\"]\n",
    "List3 = list(zip(List1,List2))\n",
    "print(List1)\n",
    "print(List2)\n",
    "print(List3)\n",
    "\n",
    "#Example 3 using dict\n",
    "\n",
    "# List1 = [\"Pune\", \"Mumbai\", \"Nagpur\"]\n",
    "# List2 = [\"1\",\"2\",\"3\"]\n",
    "# Dict1 = dict(zip(List1,List2))\n",
    "# print(List1)\n",
    "# print(List2)\n",
    "# print(Dict1)\n",
    "\n",
    "\n",
    "\n"
   ]
  },
  {
   "attachments": {},
   "cell_type": "markdown",
   "metadata": {},
   "source": [
    "<h1>Min And Max </h1>\n",
    "\n",
    ">Provides min & max from the list\n",
    "\n",
    ">works on string list"
   ]
  },
  {
   "cell_type": "code",
   "execution_count": 19,
   "metadata": {},
   "outputs": [
    {
     "name": "stdout",
     "output_type": "stream",
     "text": [
      "10\n",
      "50\n",
      "\n",
      "a\n",
      "c\n"
     ]
    }
   ],
   "source": [
    "minmaxlst = [10,20,30,40,50]\n",
    "\n",
    "print(min(minmaxlst))\n",
    "print(max(minmaxlst))\n",
    "\n",
    "print()\n",
    "minmaxstrlst = ['a' , 'b' , 'c']  #works on a ascii values \n",
    "\n",
    "print(min(minmaxstrlst))\n",
    "print(max(minmaxstrlst))"
   ]
  },
  {
   "attachments": {},
   "cell_type": "markdown",
   "metadata": {},
   "source": [
    "<h1>Random</h1>"
   ]
  },
  {
   "cell_type": "code",
   "execution_count": 20,
   "metadata": {},
   "outputs": [
    {
     "name": "stdout",
     "output_type": "stream",
     "text": [
      "<class 'module'>\n",
      "72\n"
     ]
    }
   ],
   "source": [
    "import random as r\n",
    "\n",
    "print(type(r))\n",
    "\n",
    "print(r.randint(1,100))\n",
    "\n"
   ]
  },
  {
   "attachments": {},
   "cell_type": "markdown",
   "metadata": {},
   "source": [
    "<h1>Input</h1>\n",
    "\n",
    ">basically used for accepting inputs from user. \n",
    "\n",
    ">it can be anything int,string,double.\n",
    "\n",
    ">it will always gives the o/p in the from of strings. we need to typecaste into later.\n",
    "\n"
   ]
  },
  {
   "cell_type": "code",
   "execution_count": 24,
   "metadata": {},
   "outputs": [
    {
     "name": "stdout",
     "output_type": "stream",
     "text": [
      "Saurabh\n",
      "\n",
      "7721919997\n"
     ]
    }
   ],
   "source": [
    "Name = input('Enter Your Name')\n",
    "\n",
    "print(Name)\n",
    "\n",
    "print()\n",
    "\n",
    "PhoneNo = int(input(\"Enter phone number\"))\n",
    "print(PhoneNo)"
   ]
  },
  {
   "attachments": {},
   "cell_type": "markdown",
   "metadata": {},
   "source": [
    "<h1>Methods</h1>\n",
    "\n",
    ">Datatype fucntionality which can be used to perfrom operation \n",
    "\n",
    ">a built-in fuctions which perform operation on the object "
   ]
  },
  {
   "cell_type": "code",
   "execution_count": null,
   "metadata": {},
   "outputs": [
    {
     "name": "stdout",
     "output_type": "stream",
     "text": [
      "11\n",
      "4\n",
      "1\n",
      "Help on built-in function extend:\n",
      "\n",
      "extend(iterable, /) method of builtins.list instance\n",
      "    Extend list by appending elements from the iterable.\n",
      "\n",
      "None\n",
      "[1, 2, 3, 4, 45, 5, 4, 3, 2, 1, 6, 7, 8]\n",
      "[1, 2, 3, 4, 45, 5, 4, 3, 2, 1, [6, 7, 8]]\n",
      "It is hot today\n",
      "IT IS HOT TODAY\n",
      "it is hot today\n",
      "It Is Hot Today\n",
      "1\n"
     ]
    }
   ],
   "source": [
    "#Example 1\n",
    "lst = [1,1,2,2,2,2,3,4,5,6,78]\n",
    "print(len(lst))\n",
    "print(lst.count(2))\n",
    "\n",
    "#example 2\n",
    "strlst = ['a','b','c','d']\n",
    "dir(strlst)\n",
    "print(strlst.count('a'))\n",
    "print(help(strlst.extend)) #help function will explain the syntax of the method\n",
    "\n",
    "#example 3\n",
    "lstexd = [1,2,3,4,45,5,4,3,2,1]\n",
    "lstexd.extend([6,7,8])\n",
    "print(lstexd)\n",
    "\n",
    "#example 4\n",
    "lstapp = [1,2,3,4,45,5,4,3,2,1]\n",
    "lstapp.append([6,7,8])\n",
    "print(lstapp)\n",
    "\n",
    "#Example 5\n",
    "str = 'It is hot today'\n",
    "dir(str)\n",
    "print(str.capitalize())\n",
    "print(str.upper())\n",
    "print(str.lower())\n",
    "print(str.title())\n",
    "print(str.count('i'))"
   ]
  },
  {
   "attachments": {},
   "cell_type": "markdown",
   "metadata": {},
   "source": [
    "<h3> Formatting of the string</h3>"
   ]
  },
  {
   "cell_type": "code",
   "execution_count": null,
   "metadata": {},
   "outputs": [
    {
     "name": "stdout",
     "output_type": "stream",
     "text": [
      "My name is Saurabh. I Live in Pune\n",
      "My Name is Saurabh. I live in Pune\n",
      "My Name is Saurabh. I live in Pune\n",
      "My Name is Pune. I live in Saurabh\n",
      "My Name is Saurabh. I live in Pune\n",
      "My Name is Saurabh. I live in Pune\n",
      "['My', 'name', 'is', 'Saurabh.', 'I', 'Live', 'in', 'Pune']\n",
      "0\n",
      "*********************************My name is Saurabh. I Live in Pune*********************************\n"
     ]
    }
   ],
   "source": [
    "Name = \"Saurabh\"\n",
    "City = \"Pune\"\n",
    "Num =100\n",
    "Info = \"My name is \" + Name + \". I Live in \" + City\n",
    "print(Info)\n",
    "\n",
    "# Optimising the upper code\n",
    "#example 1\n",
    "\n",
    "print(\"My Name is {}. I live in {}\".format(Name,City))\n",
    "print(\"My Name is {0}. I live in {1}\".format(Name,City))\n",
    "print(\"My Name is {1}. I live in {0}\".format(Name,City))\n",
    "print(\"My Name is %s. I live in %s\"%(Name,City))\n",
    "print(\"My Name is %s. I live in %s\"%(Name,City))\n",
    "\n",
    "#examples\n",
    "\n",
    "print(Info.split())\n",
    "print(Info.index(\"M\"))\n",
    "print(Info.center(100, \"*\"))"
   ]
  },
  {
   "attachments": {},
   "cell_type": "markdown",
   "metadata": {},
   "source": [
    "<h1>Functions</h1>\n",
    "\n",
    ">defined the function with \"def\".\n",
    "\n",
    ">some fearture that can be called in is knows as function.\n",
    "\n",
    ">built-in(print.len,type)  & Imported (randint, libraries) & User-defined.\n",
    "\n",
    "|   Argument\t|   Return\t|\n",
    "|---\t|---\t|\n",
    "|   ❌\t|   ❌\t|\n",
    "|   ✅\t|   ❌\t|\n",
    "|   ❌\t|   ✅\t|\n",
    "|   ✅\t|   ✅\t|\n",
    "\n",
    ">A function is a block of code which only runs when it is called. You can pass data, known as parameters, into a function. A function can return data as a result.\n"
   ]
  },
  {
   "cell_type": "code",
   "execution_count": null,
   "metadata": {},
   "outputs": [
    {
     "name": "stdout",
     "output_type": "stream",
     "text": [
      "Welcome\n",
      "Welcome Saurabh\n",
      "Hello\n",
      "Welcome\n",
      "Hello\n",
      "1\n",
      "2\n",
      "3\n",
      "4\n",
      "5\n",
      "6\n",
      "7\n",
      "8\n",
      "9\n",
      "10\n"
     ]
    }
   ],
   "source": [
    "#syntax of fucntion\n",
    "\n",
    "#1.No Argument No Return\n",
    "def test():\n",
    "    print(\"Welcome\")\n",
    "test()\n",
    "\n",
    "#2.With Argument No Return\n",
    "def test2(Name):\n",
    "    print(\"Welcome\" , Name)\n",
    "test2(Name)\n",
    "\n",
    "#3.No Argument With return\n",
    "def test3():\n",
    "    print(\"Hello\")\n",
    "    return \"Welcome\"\n",
    "Storage = test3()\n",
    "print(Storage)\n",
    "\n",
    "#4. With Argument With Return\n",
    "def Test4(Argument1, Argument2):\n",
    "    print(\"Hello\")\n",
    "    return \"Welcome {0} in {1}\".format(Argument1,Argument2)\n",
    "\n",
    "Test4(Name,City)\n",
    "\n",
    "#5.\n",
    "\n",
    "def Print_Num(Number):\n",
    "    for i in range(1, Number+1):\n",
    "        print(i)\n",
    "\n",
    "Print_Num(10)"
   ]
  },
  {
   "attachments": {},
   "cell_type": "markdown",
   "metadata": {},
   "source": [
    "<h1>Lambda Expressions, Map, Filter</h1>\n",
    "\n",
    "> Map:- Mapping a function on to a iterable item. map is efficient and fast with respect to time complexcity."
   ]
  },
  {
   "cell_type": "code",
   "execution_count": 2,
   "metadata": {},
   "outputs": [
    {
     "name": "stdout",
     "output_type": "stream",
     "text": [
      "[1, 4, 9, 16, 25, 36, 49, 81, 100]\n"
     ]
    }
   ],
   "source": [
    "lst = [1,2,3,4,5,6,7,9,10]\n",
    "\n",
    "def square(num):\n",
    "    return num**2   #in this case this fail when a list is passed to the funcion this where we use map to map this function on a list.append\n",
    "\n",
    "lst1 = list(map(square, lst))\n",
    "\n",
    "print(lst1)"
   ]
  },
  {
   "attachments": {},
   "cell_type": "markdown",
   "metadata": {},
   "source": [
    ">Filter function returns an iterator yeildimg those item of iterable for which item is true"
   ]
  },
  {
   "cell_type": "code",
   "execution_count": 25,
   "metadata": {},
   "outputs": [
    {
     "name": "stdout",
     "output_type": "stream",
     "text": [
      "[2, 4, 6, 10]\n"
     ]
    }
   ],
   "source": [
    "def checkeven(num):\n",
    "    return num%2==0\n",
    "\n",
    "lst = [1,2,3,4,5,6,7,9,10]\n",
    "\n",
    "lst1 = list(filter(checkeven,lst))\n",
    "\n",
    "print(lst1)"
   ]
  },
  {
   "attachments": {},
   "cell_type": "markdown",
   "metadata": {},
   "source": [
    ">Lambda function :- A shortcut way to write a function. lambda function are anonymous functions \n",
    "\n"
   ]
  },
  {
   "cell_type": "code",
   "execution_count": 27,
   "metadata": {},
   "outputs": [
    {
     "name": "stdout",
     "output_type": "stream",
     "text": [
      "[1, 4, 9, 16, 25, 36, 49, 81, 100]\n",
      "[1, 4, 9, 16, 25, 36, 49, 81, 100]\n",
      "[2, 4, 6, 10]\n",
      "[2, 4, 6, 10]\n"
     ]
    }
   ],
   "source": [
    "#for this assume upper example\n",
    "\n",
    "lst = [1,2,3,4,5,6,7,9,10]\n",
    "\n",
    "def square(num):\n",
    "    return num**2   #in this case this fail when a list is passed to the funcion this where we use map to map this function on a list.append\n",
    "\n",
    "lst1 = list(map(square, lst))\n",
    "\n",
    "print(lst1)\n",
    "\n",
    "# easy way in lambda\n",
    "\n",
    "lst2 = list(map(lambda x: x**2, lst))\n",
    "\n",
    "print(lst2)\n",
    "\n",
    "def checkeven(num):\n",
    "    return num%2==0\n",
    "\n",
    "lst3 = [1,2,3,4,5,6,7,9,10]\n",
    "\n",
    "lst4 = list(filter(checkeven,lst))\n",
    "\n",
    "print(lst4)\n",
    "\n",
    "#easy way in lambda\n",
    "\n",
    "lst5 = list(filter(lambda x : x%2==0,lst))\n",
    "\n",
    "print(lst5)"
   ]
  }
 ],
 "metadata": {
  "kernelspec": {
   "display_name": "Python 3",
   "language": "python",
   "name": "python3"
  },
  "language_info": {
   "codemirror_mode": {
    "name": "ipython",
    "version": 3
   },
   "file_extension": ".py",
   "mimetype": "text/x-python",
   "name": "python",
   "nbconvert_exporter": "python",
   "pygments_lexer": "ipython3",
   "version": "3.11.0"
  },
  "orig_nbformat": 4,
  "vscode": {
   "interpreter": {
    "hash": "aee8b7b246df8f9039afb4144a1f6fd8d2ca17a180786b69acc140d282b71a49"
   }
  }
 },
 "nbformat": 4,
 "nbformat_minor": 2
}
