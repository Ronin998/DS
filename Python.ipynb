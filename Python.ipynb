{
 "cells": [
  {
   "attachments": {},
   "cell_type": "markdown",
   "metadata": {},
   "source": [
    "<h1>Data Type</h1>\n",
    "\n",
    "> Elemental (int ,float, string, bool)\n",
    "\n",
    "> Containers (list, tuple, set, dicitionary)\n",
    "\n",
    "> --Operationa on a list--"
   ]
  },
  {
   "attachments": {},
   "cell_type": "markdown",
   "metadata": {},
   "source": [
    "<h1>List</h1>\n",
    "\n",
    "1. List is ordered \n",
    "2. List is indexed\n",
    "3. List Allows mutation\n",
    "4. List Allows Duplicates"
   ]
  },
  {
   "cell_type": "code",
   "execution_count": 17,
   "metadata": {},
   "outputs": [
    {
     "name": "stdout",
     "output_type": "stream",
     "text": [
      "[1, 2, 3, 'a', 'b', 'c', 7.5, True, 5, 6, 7, 'p', 'q', 'r', 10.5, False]\n",
      "[1, 2, 3, 'a', 'b', 'c', 7.5, True, 1, 2, 3, 'a', 'b', 'c', 7.5, True, 1, 2, 3, 'a', 'b', 'c', 7.5, True]\n",
      "True\n",
      "3\n",
      "[1, 2, 3.5, 'a', 'b', 'c', 7.5, True]\n"
     ]
    }
   ],
   "source": [
    "List = [1,2,3,\"a\",'b','c',7.5,True]\n",
    "\n",
    "List2 = [5,6,7,'p','q','r', 10.5, False]\n",
    "\n",
    "\n",
    "#Concat\n",
    "\n",
    "print(List + List2)\n",
    "\n",
    "#multiply by int will work\n",
    "\n",
    "print(List * 3)\n",
    "\n",
    "# in operator\n",
    "\n",
    "print(2 in List)\n",
    "\n",
    "#comapare\n",
    "\n",
    "List < List2\n",
    "\n",
    "#mutetion\n",
    "\n",
    "print(List[2])\n",
    "\n",
    "List[2] = 3.5\n",
    "\n",
    "print(List)"
   ]
  },
  {
   "attachments": {},
   "cell_type": "markdown",
   "metadata": {},
   "source": [
    "<h1>Tuple</h1> \n",
    "\n",
    "1. Tuple Allows Duplicates \n",
    "2. Tuple allows ordering \n",
    "3. Tuple allows Indexing \n",
    "4. Tuple dose not allows the Mutation \n",
    "5. Tuple is hashable "
   ]
  },
  {
   "cell_type": "code",
   "execution_count": 18,
   "metadata": {},
   "outputs": [
    {
     "name": "stdout",
     "output_type": "stream",
     "text": [
      "(1, 2, 3, 4, 5) (5, 6, 7, 8, 9) (10, 11, 12, 13)\n",
      "(1, 2, 3, 4, 5, 5, 6, 7, 8, 9, 10, 11, 12, 13)\n",
      "(10, 11, 12, 13, 10, 11, 12, 13, 10, 11, 12, 13)\n"
     ]
    }
   ],
   "source": [
    "#Declartion of the tuples\n",
    "Tuple = (1,2,3,4,5)\n",
    "Tuple2 = (5,6,7,8,9)\n",
    "Tuple3 = 10,11,12,13\n",
    "\n",
    "print(Tuple,Tuple2,Tuple3)\n",
    "\n",
    "# operations on Tuple\n",
    "print(Tuple+Tuple2+Tuple3)\n",
    "\n",
    "print(Tuple3 * 3)\n",
    "\n"
   ]
  },
  {
   "attachments": {},
   "cell_type": "markdown",
   "metadata": {},
   "source": [
    "<h1>Set</h1>\n",
    "\n",
    "1. Set is unordered \n",
    "2. Set dose not allow duplicates \n",
    "3. Set dose not allow indexing \n",
    "4. Set dose not allow mutation "
   ]
  },
  {
   "cell_type": "code",
   "execution_count": 19,
   "metadata": {},
   "outputs": [
    {
     "name": "stdout",
     "output_type": "stream",
     "text": [
      "{1, 2, 3}\n",
      "{5, 6, 7}\n",
      "True\n",
      "False\n",
      "False\n"
     ]
    }
   ],
   "source": [
    "# declaration \n",
    "\n",
    "SET = {1,2,3,4}\n",
    "SET2 = {4,5,6,7}\n",
    "\n",
    "#operation \n",
    "\n",
    "#print(SET + SET2) #not Supported \n",
    "\n",
    "print(SET - SET2) #substraction\n",
    "print(SET2 - SET)\n",
    "\n",
    "print(2 in SET) #membership operator\n",
    "\n",
    "print(SET < SET2) #comparsion operator\n",
    "print(SET2 < SET)"
   ]
  },
  {
   "attachments": {},
   "cell_type": "markdown",
   "metadata": {},
   "source": [
    "<h1>Dictionary</h1>\n",
    "\n",
    "1. Dictionary is ordered\n",
    "2. Dictionary is Indexed (will search the values on basis of keys)\n",
    "3. Dictionary is Semi-Mutable (Key is not Mutable but values is mutable) (it will overite the values of lastest one)\n",
    "4. Dictionary is partially allows duplicates (Key is not duplicate but values can be duplicate)\n",
    "5. list cant be a key"
   ]
  },
  {
   "cell_type": "code",
   "execution_count": 20,
   "metadata": {},
   "outputs": [
    {
     "name": "stdout",
     "output_type": "stream",
     "text": [
      "{1.1: 'A'}\n",
      "True\n",
      "B\n",
      "{1: 'A', 2: 'B', 3: 10}\n"
     ]
    }
   ],
   "source": [
    "Dict ={ 'A' : 1, 'B' : 2, 'C' : 3}\n",
    "Dict2 = {1 : 'A', 2 : 'B' , 3 : 'C'}\n",
    "Dict3 = {1.1: 'A'}\n",
    "\n",
    "print(Dict3)\n",
    "#print(Dict / Dict2) # Arithmatic dose not work\n",
    "\n",
    "print(2 in Dict2) # memebership Operators works\n",
    "\n",
    "#print(Dict < Dict2) # comaparsion operators dose not works\n",
    "\n",
    "#indexing \n",
    "\n",
    "print(Dict2[2])\n",
    "\n",
    "#mutation\n",
    "\n",
    "Dict2[3] = 10 # type: ignore\n",
    "\n",
    "print(Dict2)"
   ]
  },
  {
   "attachments": {},
   "cell_type": "markdown",
   "metadata": {},
   "source": [
    "<h1>Indexing in detail</h1> \n",
    "\n",
    "<b><i>classically used with LIST</i></b> \n",
    "\n",
    "--------Rules of indexing ------------\n",
    "1. Indexing always starts with 0\n",
    "2. for a range of index use \":\" where end point dose not inculded\n",
    "3. if start = 0 & end = Len then need not to be mentioned \n",
    "4. reverse indexing starts form back like -1,-2,-3 etc.\n",
    "5. step is also availble using \":\""
   ]
  },
  {
   "cell_type": "code",
   "execution_count": 21,
   "metadata": {},
   "outputs": [
    {
     "name": "stdout",
     "output_type": "stream",
     "text": [
      "[3, 4, ['Apple', 'Banana', 'coconut']]\n",
      "[3, 4, ['Apple', 'Banana', 'coconut'], 'Saurabh']\n",
      "[1, 2, 3, 4]\n",
      "[1, 2, 3, 4, ['Apple', 'Banana', 'coconut'], 'Saurabh']\n",
      "[1, 3, ['Apple', 'Banana', 'coconut']]\n",
      "<class 'int'>\n",
      "Banana\n",
      "Ban\n",
      "Saurabh\n",
      "['Saurabh', ['Apple', 'Banana', 'coconut'], 4, 3, 2, 1]\n"
     ]
    }
   ],
   "source": [
    "lst = [1,2,3,4,['Apple', 'Banana', 'coconut'],'Saurabh']\n",
    "\n",
    "len(lst)\n",
    "\n",
    "#calling multiple values form the List\n",
    "\n",
    "print(lst[2:5])\n",
    "\n",
    "#example indexing \n",
    "print(lst[2:])\n",
    "\n",
    "\n",
    "print(lst[:4])\n",
    "\n",
    "#Step Example \n",
    "print(lst[:])\n",
    "print(lst[::2]) # this will skip the 2 records in a LIST\n",
    "#checking the data types\n",
    "\n",
    "print(type(lst[3]))\n",
    "\n",
    "# double indexing \n",
    "print(lst[4][1])\n",
    "\n",
    "#indexing on a List in list and getting the desired values \n",
    "print(lst[4][1][0:3])\n",
    "\n",
    "#reverse Indexing \n",
    "print(lst[-1])\n",
    "\n",
    "# step and reverse indexing \n",
    "print(lst[::-1])\n"
   ]
  },
  {
   "attachments": {},
   "cell_type": "markdown",
   "metadata": {},
   "source": [
    "<h1>Type casting</h1>\n",
    "\n",
    "> type casting any thing to string is possible \n",
    "\n",
    "> number are mostly hard to type cast "
   ]
  },
  {
   "cell_type": "code",
   "execution_count": 22,
   "metadata": {},
   "outputs": [
    {
     "name": "stdout",
     "output_type": "stream",
     "text": [
      "10\n",
      "<class 'int'>\n",
      "<class 'float'>\n",
      "10.0\n"
     ]
    }
   ],
   "source": [
    "#nu,m has data type of int \n",
    "num = 10\n",
    "print(num)\n",
    "print(type(num))\n",
    "\n",
    "#converting nums data type from INT to FLOAT\n",
    "num= float(num)\n",
    "print(type(num))\n",
    "print(num)\n",
    "\n",
    "\n"
   ]
  },
  {
   "attachments": {},
   "cell_type": "markdown",
   "metadata": {},
   "source": [
    "<H1> If Else </h1>\n",
    "\n",
    "> conditonal \n",
    "\n",
    ">mutually exclusive \n",
    "\n",
    ">either will work it will not work simultenously\n",
    "\n",
    ">if else are strict about the indentatoin \n",
    "\n",
    "> else is optional\n",
    "\n",
    "> String will only trated as flase when its empty (null)\n",
    "\n",
    ">Double is also allowed.\n",
    "\n",
    "> List is also allowed (when list is non empty it will give the value true)"
   ]
  },
  {
   "cell_type": "code",
   "execution_count": 23,
   "metadata": {},
   "outputs": [
    {
     "name": "stdout",
     "output_type": "stream",
     "text": [
      "True\n",
      "False\n",
      "True\n",
      "True\n",
      "True\n"
     ]
    }
   ],
   "source": [
    "#noraml Comparison\n",
    "if 2>1 :\n",
    "    print('True')\n",
    "else:\n",
    "    print('False')\n",
    "\n",
    "#variable comparison\n",
    "a = 3\n",
    "if a>5 :\n",
    "    print('True')\n",
    "else:\n",
    "    print('False')\n",
    "\n",
    "#equal comparison\n",
    "b = 10\n",
    "if b<15 :\n",
    "    print('True')\n",
    "elif b == 10:\n",
    "    print('equal')\n",
    "else:\n",
    "    print('False')\n",
    "\n",
    "\n",
    "#else is optional \n",
    "if True:\n",
    "    print('True')\n",
    "\n",
    "# using 0 and 1 as boolean values (All the non zero values are treated as true and it will work on string and double)\n",
    "\n",
    "if 1:\n",
    "    print('True')\n",
    "else:\n",
    "    print('Flase')\n",
    "\n"
   ]
  },
  {
   "attachments": {},
   "cell_type": "markdown",
   "metadata": {},
   "source": [
    "<h1>ELIF</h1>\n",
    "\n",
    "> used when you want to add layers of conditions to the loop.\n",
    "\n",
    ">it will stop at the first true condition and wont execute the later loops."
   ]
  },
  {
   "cell_type": "code",
   "execution_count": 24,
   "metadata": {},
   "outputs": [
    {
     "name": "stdout",
     "output_type": "stream",
     "text": [
      "False\n"
     ]
    }
   ],
   "source": [
    "#elif for multiple layer to the equation \n",
    "b = 2\n",
    "if b>15 :\n",
    "    print('True')\n",
    "elif b == 10:\n",
    "    print('equal')\n",
    "else:\n",
    "    print('False')"
   ]
  },
  {
   "attachments": {},
   "cell_type": "markdown",
   "metadata": {},
   "source": [
    "<h1><b>New Data Type</b></h1>\n",
    "\n",
    "<h2><b><u><i>None</i></u></b></h2>\n",
    "\n",
    ">Datatype : NoneType\n",
    "\n",
    ">equvalance : 0\n",
    "\n",
    ">Treated as the null value "
   ]
  },
  {
   "cell_type": "code",
   "execution_count": 25,
   "metadata": {},
   "outputs": [
    {
     "data": {
      "text/plain": [
       "NoneType"
      ]
     },
     "execution_count": 25,
     "metadata": {},
     "output_type": "execute_result"
    }
   ],
   "source": [
    "A = None\n",
    "\n",
    "type(A)"
   ]
  },
  {
   "attachments": {},
   "cell_type": "markdown",
   "metadata": {},
   "source": [
    "<h1>Nested Loops</h1>\n",
    "\n",
    ">pass is operation & none is a datatype"
   ]
  },
  {
   "cell_type": "code",
   "execution_count": 26,
   "metadata": {},
   "outputs": [
    {
     "name": "stdout",
     "output_type": "stream",
     "text": [
      "Bye\n",
      "Hey\n",
      "welcome\n"
     ]
    }
   ],
   "source": [
    "\n",
    "#Example 1: Its o/p will be flase \n",
    "a = 5\n",
    "\n",
    "if a >10:\n",
    "    print('Hey')\n",
    "    if 1:\n",
    "        print('Hello')\n",
    "    else:\n",
    "        print('welcome')\n",
    "\n",
    "else:\n",
    "    print('Bye')\n",
    "\n",
    "#example 2: it output will be True False\n",
    "\n",
    "a = 12\n",
    "\n",
    "if a >10:\n",
    "    print('Hey')\n",
    "    if 0:\n",
    "        print('Hello')\n",
    "    else:\n",
    "        print('welcome')\n",
    "else:\n",
    "    print('Bye')\n",
    "\n",
    "\n",
    "# Example 3: pass \n",
    "\n",
    "if True:\n",
    "    pass\n",
    "else:\n",
    "    print(0)"
   ]
  },
  {
   "attachments": {},
   "cell_type": "markdown",
   "metadata": {},
   "source": [
    "|   For\t|   While\t|\n",
    "|---\t|---\t|\n",
    "| itarable to known numbers\t|   \titarable for unknown numbers|\n",
    "|   itarates over itrable items and sequence |   itarate till the conditions are flase\t|\n",
    "|   \tincrement happens automatically  \t|increments are not automatic |\n",
    "|  itarator is not needed to be defined \t|   initiazae a condition might be the requied\t|\n",
    "|   \t|   \t|"
   ]
  },
  {
   "cell_type": "code",
   "execution_count": 27,
   "metadata": {},
   "outputs": [
    {
     "name": "stdout",
     "output_type": "stream",
     "text": [
      "10\n",
      "20\n",
      "30\n",
      "40\n",
      "50\n",
      "60\n",
      " \n",
      "I\n",
      "n\n",
      "d\n",
      "i\n",
      "a\n",
      " \n",
      "Name\n",
      "Age\n",
      " \n",
      "('Name', 'Saurabh')\n",
      "('Age', 25)\n",
      " \n",
      "Name Saurabh\n",
      "Age 25\n",
      " \n"
     ]
    }
   ],
   "source": [
    "#Example 1:\n",
    "\n",
    "lst = [10,20,30,40,50,60]\n",
    "\n",
    "for i in lst:\n",
    "    print(i)\n",
    "\n",
    "print(\" \")\n",
    "\n",
    "#Example 2:\n",
    "for char in \"India\":\n",
    "    print(char)\n",
    "print(\" \")\n",
    "#Example 3:\n",
    "#This will only provides the keys \n",
    "dict = {\"Name\": \"Saurabh\", \"Age\" :25}\n",
    "for i in dict:\n",
    "    print(i)\n",
    "\n",
    "#This will give the key value pair \n",
    "print(\" \")\n",
    "for i in dict.items():\n",
    "    print(i)\n",
    "\n",
    "#Example 4: \n",
    "# you cam extract 2 values at once\n",
    "print(\" \")\n",
    "for key, Value in dict.items():\n",
    "    print(key, Value)\n",
    "\n",
    "print(\" \")"
   ]
  },
  {
   "attachments": {},
   "cell_type": "markdown",
   "metadata": {},
   "source": [
    "<h1>Range</h1>\n",
    "\n",
    ">it a generate function \n",
    "\n",
    ">output will not shown directly we need to type caste itno a list and set.\n",
    "\n",
    ">Range works in 3 format range(5) #only the range , range(1,5) #start and stop range, range(1,5,2) #start stop and step "
   ]
  },
  {
   "cell_type": "code",
   "execution_count": 28,
   "metadata": {},
   "outputs": [
    {
     "name": "stdout",
     "output_type": "stream",
     "text": [
      "[1, 2, 3, 4, 5, 6, 7, 8, 9]\n",
      "[1, 3, 5, 7, 9]\n"
     ]
    }
   ],
   "source": [
    "range(1,10)\n",
    "\n",
    "#convarting range Into a List\n",
    "a = list(range(1,10))\n",
    "print(a)\n",
    "\n",
    "\n",
    "#Adding Range and a sequences with arithmatic progression \n",
    "b = list(range(1,10,2))\n",
    "print(b)"
   ]
  },
  {
   "attachments": {},
   "cell_type": "markdown",
   "metadata": {},
   "source": [
    "<h1>Range and For Loop</h1>"
   ]
  },
  {
   "cell_type": "code",
   "execution_count": 29,
   "metadata": {},
   "outputs": [
    {
     "name": "stdout",
     "output_type": "stream",
     "text": [
      "1\n",
      "4\n",
      "9\n",
      "16\n",
      "25\n",
      "36\n",
      "49\n",
      "64\n",
      "81\n",
      "100\n",
      " \n",
      "India\n",
      "India\n",
      "India\n",
      "India\n",
      "India\n",
      "India\n",
      "India\n",
      "India\n",
      "India\n",
      "India\n",
      " \n",
      "1 is Odd\n",
      "2 is Even\n",
      "3 is Odd\n",
      "4 is Even\n",
      "5 is Odd\n",
      "6 is Even\n",
      "7 is Odd\n",
      "8 is Even\n",
      "9 is Odd\n",
      " \n",
      "0 [1, 2, 3, 4, 5, 6, 7, 8, 9]\n",
      "0 [1, 3, 5, 7, 9]\n",
      "1 [1, 2, 3, 4, 5, 6, 7, 8, 9]\n",
      "1 [1, 3, 5, 7, 9]\n",
      "2 [1, 2, 3, 4, 5, 6, 7, 8, 9]\n",
      "2 [1, 3, 5, 7, 9]\n"
     ]
    }
   ],
   "source": [
    "#Example 1:\n",
    "#printing the squre of numbers \n",
    "for i in range(1,11):\n",
    "    print(i**2)\n",
    "\n",
    "#Example 2:\n",
    "print(\" \")\n",
    "for i in range(1,11):\n",
    "    print(\"India\")\n",
    "print(\" \")\n",
    "\n",
    "#Example 3:\n",
    "for i in range(1,10):\n",
    "    if i%2 == 0:\n",
    "        print(i,\"is Even\")\n",
    "    else:\n",
    "        print(i, \"is Odd\")\n",
    "print(\" \")\n",
    "\n",
    "#example 4:\n",
    "\n",
    "for i in range(3):\n",
    "    for j in [a,b]:\n",
    "        print(i,j)\n"
   ]
  },
  {
   "attachments": {},
   "cell_type": "markdown",
   "metadata": {},
   "source": [
    "<h1>While Loop</h1>"
   ]
  },
  {
   "cell_type": "code",
   "execution_count": 30,
   "metadata": {},
   "outputs": [
    {
     "name": "stdout",
     "output_type": "stream",
     "text": [
      "0 1 2 3 4 \n",
      "1 2 3 4 5 \n",
      "Print Started......\n",
      "9 8 7 6 5 \n",
      " Loop Ended......\n"
     ]
    }
   ],
   "source": [
    "#Example 1 :\n",
    "\n",
    "a = 0 \n",
    "while a<5 :\n",
    "    print(a , end = \" \")\n",
    "    a= a+1\n",
    "\n",
    "print()\n",
    "\n",
    "#Example 2:\n",
    "A = 0 \n",
    "while A< 5:\n",
    "\n",
    "    A=A+1\n",
    "    print(A , end = ' ')\n",
    "\n",
    "#Example 3:\n",
    "print()\n",
    "B = 10\n",
    "print('Print Started......')\n",
    "while B>5:\n",
    "    B =B - 1\n",
    "    print(B , end = \" \")\n",
    "else:\n",
    "    print('\\n Loop Ended......')\n",
    "\n"
   ]
  },
  {
   "attachments": {},
   "cell_type": "markdown",
   "metadata": {},
   "source": [
    "<h1>Break Continue Pass</h1>\n",
    "\n",
    "<h3><b>Pass</b></h3>\n",
    "\n",
    ">1. Statement of null operation. dont compare it with \"None\" None is datatype \"Pass\" is a operation.\n",
    "\n",
    ">2. Used in Templete creation.\n",
    "\n",
    "<h3><b>Break</b></h3>\n",
    "\n",
    ">1. Breaks out of the current closeset loop.\n",
    "\n",
    "<h3><b>Continue</b></h3>\n",
    "\n",
    "> 1. Breaks out if the current closeset loop.\n",
    "\n",
    "> 2. After Continue the return code will be void. "
   ]
  },
  {
   "cell_type": "code",
   "execution_count": 31,
   "metadata": {},
   "outputs": [
    {
     "name": "stdout",
     "output_type": "stream",
     "text": [
      "Hi\n",
      "\n",
      "0\n",
      "1\n",
      "2\n",
      "\n",
      "A is currently :- 0\n",
      "Continuing....😎\n",
      "A is currently :- 1\n",
      "Continuing....😎\n",
      "A is currently :- 2\n",
      "I am in IF when A was :- 3\n"
     ]
    }
   ],
   "source": [
    "#Example pass\n",
    "\n",
    "if 1< 2 :\n",
    "    print(\"Hi\")\n",
    "else:\n",
    "    pass     #Now here i can come back and write my else part later pass is used to prevent the error \n",
    "print()\n",
    "\n",
    "\n",
    "#example Break\n",
    "A= 0 \n",
    "while A <5 :\n",
    "    print(A)\n",
    "    A += 1\n",
    "    if(A == 3):\n",
    "        break\n",
    "\n",
    "print()\n",
    "\n",
    "#example Break and Continue\n",
    "A = 0 \n",
    "while A < 10:\n",
    "    print(\"A is currently :-\" , A)\n",
    "    A += 1\n",
    "    if(A == 3):\n",
    "        print(\"I am in IF when A was :-\", A)\n",
    "        break\n",
    "    else:\n",
    "        print(\"Continuing....😎\")\n",
    "        continue\n",
    "        print(\"Hello\")"
   ]
  },
  {
   "attachments": {},
   "cell_type": "markdown",
   "metadata": {},
   "source": [
    "<h1>ZIP()</h1>"
   ]
  },
  {
   "cell_type": "code",
   "execution_count": 32,
   "metadata": {},
   "outputs": [
    {
     "name": "stdout",
     "output_type": "stream",
     "text": [
      "['Pune', 'Mumbai', 'Nagpur']\n",
      "['1', '2', '3']\n",
      "[('Pune', '1'), ('Mumbai', '2'), ('Nagpur', '3')]\n",
      "\n",
      "['Pune', 'Mumbai']\n",
      "['1', '2', '3']\n",
      "[('Pune', '1'), ('Mumbai', '2')]\n"
     ]
    }
   ],
   "source": [
    "#Example 1\n",
    "List1 = [\"Pune\", \"Mumbai\", \"Nagpur\"]\n",
    "List2 = [\"1\",\"2\",\"3\"]\n",
    "List3 = list(zip(List1,List2))\n",
    "print(List1)\n",
    "print(List2)\n",
    "print(List3)\n",
    "print()\n",
    "\n",
    "#Example 2\n",
    "List1 = [\"Pune\", \"Mumbai\"]\n",
    "List2 = [\"1\",\"2\",\"3\"]\n",
    "List3 = list(zip(List1,List2))\n",
    "print(List1)\n",
    "print(List2)\n",
    "print(List3)\n",
    "\n",
    "#Example 3 using dict\n",
    "\n",
    "# List1 = [\"Pune\", \"Mumbai\", \"Nagpur\"]\n",
    "# List2 = [\"1\",\"2\",\"3\"]\n",
    "# Dict1 = dict(zip(List1,List2))\n",
    "# print(List1)\n",
    "# print(List2)\n",
    "# print(Dict1)\n",
    "\n",
    "\n",
    "\n"
   ]
  },
  {
   "attachments": {},
   "cell_type": "markdown",
   "metadata": {},
   "source": [
    "<h1>Min And Max </h1>\n",
    "\n",
    ">Provides min & max from the list\n",
    "\n",
    ">works on string list"
   ]
  },
  {
   "cell_type": "code",
   "execution_count": 33,
   "metadata": {},
   "outputs": [
    {
     "name": "stdout",
     "output_type": "stream",
     "text": [
      "10\n",
      "50\n",
      "\n",
      "a\n",
      "c\n"
     ]
    }
   ],
   "source": [
    "minmaxlst = [10,20,30,40,50]\n",
    "\n",
    "print(min(minmaxlst))\n",
    "print(max(minmaxlst))\n",
    "\n",
    "print()\n",
    "minmaxstrlst = ['a' , 'b' , 'c']  #works on a ascii values \n",
    "\n",
    "print(min(minmaxstrlst))\n",
    "print(max(minmaxstrlst))"
   ]
  },
  {
   "attachments": {},
   "cell_type": "markdown",
   "metadata": {},
   "source": [
    "<h1>Random</h1>"
   ]
  },
  {
   "cell_type": "code",
   "execution_count": 34,
   "metadata": {},
   "outputs": [
    {
     "name": "stdout",
     "output_type": "stream",
     "text": [
      "<class 'module'>\n",
      "44\n"
     ]
    }
   ],
   "source": [
    "import random as r\n",
    "\n",
    "print(type(r))\n",
    "\n",
    "print(r.randint(1,100))\n",
    "\n"
   ]
  },
  {
   "attachments": {},
   "cell_type": "markdown",
   "metadata": {},
   "source": [
    "<h1>Input</h1>\n",
    "\n",
    ">basically used for accepting inputs from user. \n",
    "\n",
    ">it can be anything int,string,double.\n",
    "\n",
    ">it will always gives the o/p in the from of strings. we need to typecaste into later.\n",
    "\n"
   ]
  },
  {
   "cell_type": "code",
   "execution_count": 35,
   "metadata": {},
   "outputs": [
    {
     "name": "stdout",
     "output_type": "stream",
     "text": [
      "\n",
      "\n"
     ]
    },
    {
     "ename": "ValueError",
     "evalue": "invalid literal for int() with base 10: ''",
     "output_type": "error",
     "traceback": [
      "\u001b[0;31m---------------------------------------------------------------------------\u001b[0m",
      "\u001b[0;31mValueError\u001b[0m                                Traceback (most recent call last)",
      "Cell \u001b[0;32mIn[35], line 7\u001b[0m\n\u001b[1;32m      3\u001b[0m \u001b[39mprint\u001b[39m(Name)\n\u001b[1;32m      5\u001b[0m \u001b[39mprint\u001b[39m()\n\u001b[0;32m----> 7\u001b[0m PhoneNo \u001b[39m=\u001b[39m \u001b[39mint\u001b[39;49m(\u001b[39minput\u001b[39;49m(\u001b[39m\"\u001b[39;49m\u001b[39mEnter phone number\u001b[39;49m\u001b[39m\"\u001b[39;49m))\n\u001b[1;32m      8\u001b[0m \u001b[39mprint\u001b[39m(PhoneNo)\n",
      "\u001b[0;31mValueError\u001b[0m: invalid literal for int() with base 10: ''"
     ]
    }
   ],
   "source": [
    "Name = input('Enter Your Name')\n",
    "\n",
    "print(Name)\n",
    "\n",
    "print()\n",
    "\n",
    "PhoneNo = int(input(\"Enter phone number\"))\n",
    "print(PhoneNo)"
   ]
  },
  {
   "attachments": {},
   "cell_type": "markdown",
   "metadata": {},
   "source": [
    "<h1>Methods</h1>\n",
    "\n",
    ">Datatype fucntionality which can be used to perfrom operation \n",
    "\n",
    ">a built-in fuctions which perform operation on the object "
   ]
  },
  {
   "cell_type": "code",
   "execution_count": null,
   "metadata": {},
   "outputs": [
    {
     "name": "stdout",
     "output_type": "stream",
     "text": [
      "11\n",
      "4\n",
      "1\n",
      "Help on built-in function extend:\n",
      "\n",
      "extend(iterable, /) method of builtins.list instance\n",
      "    Extend list by appending elements from the iterable.\n",
      "\n",
      "None\n",
      "[1, 2, 3, 4, 45, 5, 4, 3, 2, 1, 6, 7, 8]\n",
      "[1, 2, 3, 4, 45, 5, 4, 3, 2, 1, [6, 7, 8]]\n",
      "It is hot today\n",
      "IT IS HOT TODAY\n",
      "it is hot today\n",
      "It Is Hot Today\n",
      "1\n"
     ]
    }
   ],
   "source": [
    "#Example 1\n",
    "lst = [1,1,2,2,2,2,3,4,5,6,78]\n",
    "print(len(lst))\n",
    "print(lst.count(2))\n",
    "\n",
    "#example 2\n",
    "strlst = ['a','b','c','d']\n",
    "dir(strlst)\n",
    "print(strlst.count('a'))\n",
    "print(help(strlst.extend)) #help function will explain the syntax of the method\n",
    "\n",
    "#example 3\n",
    "lstexd = [1,2,3,4,45,5,4,3,2,1]\n",
    "lstexd.extend([6,7,8])\n",
    "print(lstexd)\n",
    "\n",
    "#example 4\n",
    "lstapp = [1,2,3,4,45,5,4,3,2,1]\n",
    "lstapp.append([6,7,8])\n",
    "print(lstapp)\n",
    "\n",
    "#Example 5\n",
    "str = 'It is hot today'\n",
    "dir(str)\n",
    "print(str.capitalize())\n",
    "print(str.upper())\n",
    "print(str.lower())\n",
    "print(str.title())\n",
    "print(str.count('i'))"
   ]
  },
  {
   "attachments": {},
   "cell_type": "markdown",
   "metadata": {},
   "source": [
    "<h3> Formatting of the string</h3>"
   ]
  },
  {
   "cell_type": "code",
   "execution_count": null,
   "metadata": {},
   "outputs": [
    {
     "name": "stdout",
     "output_type": "stream",
     "text": [
      "My name is Saurabh. I Live in Pune\n",
      "My Name is Saurabh. I live in Pune\n",
      "My Name is Saurabh. I live in Pune\n",
      "My Name is Pune. I live in Saurabh\n",
      "My Name is Saurabh. I live in Pune\n",
      "My Name is Saurabh. I live in Pune\n",
      "['My', 'name', 'is', 'Saurabh.', 'I', 'Live', 'in', 'Pune']\n",
      "0\n",
      "*********************************My name is Saurabh. I Live in Pune*********************************\n"
     ]
    }
   ],
   "source": [
    "Name = \"Saurabh\"\n",
    "City = \"Pune\"\n",
    "Num =100\n",
    "Info = \"My name is \" + Name + \". I Live in \" + City\n",
    "print(Info)\n",
    "\n",
    "# Optimising the upper code\n",
    "#example 1\n",
    "\n",
    "print(\"My Name is {}. I live in {}\".format(Name,City))\n",
    "print(\"My Name is {0}. I live in {1}\".format(Name,City))\n",
    "print(\"My Name is {1}. I live in {0}\".format(Name,City))\n",
    "print(\"My Name is %s. I live in %s\"%(Name,City))\n",
    "print(\"My Name is %s. I live in %s\"%(Name,City))\n",
    "\n",
    "#examples\n",
    "\n",
    "print(Info.split())\n",
    "print(Info.index(\"M\"))\n",
    "print(Info.center(100, \"*\"))"
   ]
  },
  {
   "attachments": {},
   "cell_type": "markdown",
   "metadata": {},
   "source": [
    "<h1>Functions</h1>\n",
    "\n",
    ">defined the function with \"def\".\n",
    "\n",
    ">some fearture that can be called in is knows as function.\n",
    "\n",
    ">built-in(print.len,type)  & Imported (randint, libraries) & User-defined.\n",
    "\n",
    "|   Argument\t|   Return\t|\n",
    "|---\t|---\t|\n",
    "|   ❌\t|   ❌\t|\n",
    "|   ✅\t|   ❌\t|\n",
    "|   ❌\t|   ✅\t|\n",
    "|   ✅\t|   ✅\t|\n",
    "\n",
    ">A function is a block of code which only runs when it is called. You can pass data, known as parameters, into a function. A function can return data as a result.\n"
   ]
  },
  {
   "cell_type": "code",
   "execution_count": null,
   "metadata": {},
   "outputs": [
    {
     "name": "stdout",
     "output_type": "stream",
     "text": [
      "Welcome\n",
      "Welcome Saurabh\n",
      "Hello\n",
      "Welcome\n",
      "Hello\n",
      "1\n",
      "2\n",
      "3\n",
      "4\n",
      "5\n",
      "6\n",
      "7\n",
      "8\n",
      "9\n",
      "10\n"
     ]
    }
   ],
   "source": [
    "#syntax of fucntion\n",
    "\n",
    "#1.No Argument No Return\n",
    "def test():\n",
    "    print(\"Welcome\")\n",
    "test()\n",
    "\n",
    "#2.With Argument No Return\n",
    "def test2(Name):\n",
    "    print(\"Welcome\" , Name)\n",
    "test2(Name)\n",
    "\n",
    "#3.No Argument With return\n",
    "def test3():\n",
    "    print(\"Hello\")\n",
    "    return \"Welcome\"\n",
    "Storage = test3()\n",
    "print(Storage)\n",
    "\n",
    "#4. With Argument With Return\n",
    "def Test4(Argument1, Argument2):\n",
    "    print(\"Hello\")\n",
    "    return \"Welcome {0} in {1}\".format(Argument1,Argument2)\n",
    "\n",
    "Test4(Name,City)\n",
    "\n",
    "#5.\n",
    "\n",
    "def Print_Num(Number):\n",
    "    for i in range(1, Number+1):\n",
    "        print(i)\n",
    "\n",
    "Print_Num(10)"
   ]
  },
  {
   "attachments": {},
   "cell_type": "markdown",
   "metadata": {},
   "source": [
    "<h1>Lambda Expressions, Map, Filter</h1>\n",
    "\n",
    "> Map:- Mapping a function on to a iterable item. map is efficient and fast with respect to time complexcity."
   ]
  },
  {
   "cell_type": "code",
   "execution_count": null,
   "metadata": {},
   "outputs": [
    {
     "name": "stdout",
     "output_type": "stream",
     "text": [
      "[1, 4, 9, 16, 25, 36, 49, 81, 100]\n"
     ]
    }
   ],
   "source": [
    "lst = [1,2,3,4,5,6,7,9,10]\n",
    "\n",
    "def square(num):\n",
    "    return num**2   #in this case this fail when a list is passed to the funcion this where we use map to map this function on a list.append\n",
    "\n",
    "lst1 = list(map(square, lst))\n",
    "\n",
    "print(lst1)"
   ]
  },
  {
   "attachments": {},
   "cell_type": "markdown",
   "metadata": {},
   "source": [
    ">Filter function returns an iterator yeildimg those item of iterable for which item is true"
   ]
  },
  {
   "cell_type": "code",
   "execution_count": null,
   "metadata": {},
   "outputs": [
    {
     "name": "stdout",
     "output_type": "stream",
     "text": [
      "[2, 4, 6, 10]\n"
     ]
    }
   ],
   "source": [
    "def checkeven(num):\n",
    "    return num%2==0\n",
    "\n",
    "lst = [1,2,3,4,5,6,7,9,10]\n",
    "\n",
    "lst1 = list(filter(checkeven,lst))\n",
    "\n",
    "print(lst1)"
   ]
  },
  {
   "attachments": {},
   "cell_type": "markdown",
   "metadata": {},
   "source": [
    ">Lambda function :- A shortcut way to write a function. lambda function are anonymous functions \n",
    "\n"
   ]
  },
  {
   "cell_type": "code",
   "execution_count": null,
   "metadata": {},
   "outputs": [
    {
     "name": "stdout",
     "output_type": "stream",
     "text": [
      "[1, 4, 9, 16, 25, 36, 49, 81, 100]\n",
      "[1, 4, 9, 16, 25, 36, 49, 81, 100]\n",
      "[2, 4, 6, 10]\n",
      "[2, 4, 6, 10]\n"
     ]
    }
   ],
   "source": [
    "#for this assume upper example\n",
    "\n",
    "lst = [1,2,3,4,5,6,7,9,10]\n",
    "\n",
    "def square(num):\n",
    "    return num**2   #in this case this fail when a list is passed to the funcion this where we use map to map this function on a list.append\n",
    "\n",
    "lst1 = list(map(square, lst))\n",
    "\n",
    "print(lst1)\n",
    "\n",
    "# easy way in lambda\n",
    "\n",
    "lst2 = list(map(lambda x: x**2, lst))\n",
    "\n",
    "print(lst2)\n",
    "\n",
    "def checkeven(num):\n",
    "    return num%2==0\n",
    "\n",
    "lst3 = [1,2,3,4,5,6,7,9,10]\n",
    "\n",
    "lst4 = list(filter(checkeven,lst))\n",
    "\n",
    "print(lst4)\n",
    "\n",
    "#easy way in lambda\n",
    "\n",
    "lst5 = list(filter(lambda x : x%2==0,lst))\n",
    "\n",
    "print(lst5)"
   ]
  },
  {
   "attachments": {},
   "cell_type": "markdown",
   "metadata": {},
   "source": [
    "<h1>Nested Statement and Scope"
   ]
  },
  {
   "attachments": {},
   "cell_type": "markdown",
   "metadata": {},
   "source": [
    "<h1>Nested Statements and Scope</h1>\n",
    "\n",
    ">Name Space :- managaing memory and optimising it is know as namespace.\n",
    "\n",
    "> There are 3 types of name space                \n",
    "1. Built-in Namespace\n",
    "2. global namespace (Globals)\n",
    "3. local namespce (Locals)"
   ]
  },
  {
   "cell_type": "code",
   "execution_count": null,
   "metadata": {},
   "outputs": [
    {
     "name": "stdout",
     "output_type": "stream",
     "text": [
      "50 This is the Global value\n",
      "25 This is the Local value\n"
     ]
    }
   ],
   "source": [
    "x = 50 #global variable\n",
    "\n",
    "def returnfunction():\n",
    "    x = 25 #local value\n",
    "    return x\n",
    "\n",
    "print(x , 'This is the Global value')\n",
    "\n",
    "print(returnfunction(),'This is the Local value')"
   ]
  },
  {
   "attachments": {},
   "cell_type": "markdown",
   "metadata": {},
   "source": [
    "<h1>Nested Function</h1>"
   ]
  },
  {
   "cell_type": "code",
   "execution_count": null,
   "metadata": {},
   "outputs": [
    {
     "name": "stdout",
     "output_type": "stream",
     "text": [
      "I am in Greet\n",
      "I am in Hello\n"
     ]
    }
   ],
   "source": [
    "def greet():\n",
    "    print(\"I am in Greet\")\n",
    "    def hello():\n",
    "        print(\"I am in Hello\")\n",
    "    \n",
    "    hello()\n",
    "\n",
    "greet()\n",
    "\n",
    "#Hello() here hello is local function and its limited to greet "
   ]
  },
  {
   "attachments": {},
   "cell_type": "markdown",
   "metadata": {},
   "source": [
    "<h1>*Args and **Kwargs </h1>\n",
    "\n",
    "> * Args is alos know s as argument. used as a dynamic variable in funtion acrs as a tuple and other wise acts as list.\n",
    "\n",
    "> * Kargs is keyworded argument also used for accpeting key waords as argument by defalut its a dictionary "
   ]
  },
  {
   "cell_type": "code",
   "execution_count": null,
   "metadata": {},
   "outputs": [
    {
     "name": "stdout",
     "output_type": "stream",
     "text": [
      "5\n",
      "55\n",
      "1 [2, 3, 4, 5, 6, 6, 7, 8, 9] <class 'list'>\n",
      "Balance Check\n",
      "Amount Debited 100\n",
      "Amount credited 200\n"
     ]
    }
   ],
   "source": [
    "def add(a,b):\n",
    "    return a+b\n",
    "\n",
    "print(add(2,3))\n",
    "\n",
    "#example Args\n",
    "def new_add(*xyz):\n",
    "    return sum(xyz)\n",
    "\n",
    "print(new_add(1,2,3,4,5,6,7,8,9,10))\n",
    "\n",
    "a,*b = 1,2,3,4,5,6,6,7,8,9\n",
    "\n",
    "print(a,b,type(b))\n",
    "\n",
    "\n",
    "# exmples kwargs\n",
    "\n",
    "def trasaction(**xyz):\n",
    "    if 'debit' in xyz:\n",
    "        print('Amount Debited', xyz['debit'])\n",
    "    elif 'credit' in xyz:\n",
    "        print('Amount credited',xyz['credit'])\n",
    "    else:\n",
    "        print('Balance Check')\n",
    "\n",
    "trasaction()\n",
    "trasaction(debit = 100)\n",
    "trasaction(credit = 200)\n"
   ]
  },
  {
   "attachments": {},
   "cell_type": "markdown",
   "metadata": {},
   "source": [
    "<h1> OOPs in Python </h1>"
   ]
  },
  {
   "attachments": {},
   "cell_type": "markdown",
   "metadata": {},
   "source": [
    "<h3>Creting a class </h3>\n",
    "\n",
    "* A Class is like an object constructor, or a \"blueprint\" for creating objects.\n",
    "* every class have a defalut argument 'self'.\n",
    "* self is a referens point is conncet between property and instance. which helps to transfer the properties to the instances.\n",
    "* self is avaible eveywhere in the class."
   ]
  },
  {
   "cell_type": "code",
   "execution_count": null,
   "metadata": {},
   "outputs": [
    {
     "name": "stdout",
     "output_type": "stream",
     "text": [
      "<class '__main__.Person'>\n"
     ]
    }
   ],
   "source": [
    "class Person:   #creating the class \n",
    "    pass\n",
    "\n",
    "x = Person()  # instatiating the class \n",
    "\n",
    "print(type(x))\n"
   ]
  },
  {
   "attachments": {},
   "cell_type": "markdown",
   "metadata": {},
   "source": [
    "<h3> Adding methods and attributes to the class</h3>\n",
    "\n",
    "* there are two ways you can assign properties to a class \n",
    "\n",
    "1. Attributes \n",
    "\n",
    "* is a characteristics of an object.\n",
    "* attribute will display one at a time"
   ]
  },
  {
   "cell_type": "code",
   "execution_count": null,
   "metadata": {},
   "outputs": [
    {
     "name": "stdout",
     "output_type": "stream",
     "text": [
      "Homosapians\n",
      "Male\n",
      "SAURABH\n",
      "210\n",
      "6ft.\n"
     ]
    }
   ],
   "source": [
    "#Example of attributes \n",
    "class Test:\n",
    "    def __init__(self,name,iq):\n",
    "        self.species = 'Homosapians'\n",
    "        self.gender = 'Male'\n",
    "        self.Name = name.upper()\n",
    "        self.IQ = iq\n",
    "    \n",
    "    Height = \"6ft.\"  #Class object attribute.\n",
    "\n",
    "x = Test('Saurabh', 210)\n",
    "\n",
    "print(x.species)\n",
    "print(x.gender)\n",
    "print(x.Name)\n",
    "print(x.IQ)\n",
    "print(x.Height)\n",
    "\n"
   ]
  },
  {
   "attachments": {},
   "cell_type": "markdown",
   "metadata": {},
   "source": [
    "\n",
    "2. Methods \n",
    "\n",
    "* is an operation we can perfrom.\n",
    "* basically a function of class is called method."
   ]
  },
  {
   "cell_type": "code",
   "execution_count": null,
   "metadata": {},
   "outputs": [
    {
     "name": "stdout",
     "output_type": "stream",
     "text": [
      "Tommy Says Woof!!!!!!!!!\n"
     ]
    }
   ],
   "source": [
    "#Example of methods \n",
    "class Dog:\n",
    "    \n",
    "    species = 'Golden Retriever'\n",
    "    def __init__(self, name, breed , age ):\n",
    "        self.Name = name\n",
    "        self.breed = breed\n",
    "        self.age = age\n",
    "\n",
    "    def Bark(self):\n",
    "        print(self.Name,\"Says Woof!!!!!!!!!\")\n",
    "\n",
    "Tom = Dog('Tommy','Sporting',8)\n",
    "\n",
    "Tom.Bark()\n",
    "\n"
   ]
  },
  {
   "attachments": {},
   "cell_type": "markdown",
   "metadata": {},
   "source": [
    "<h1>4 concepts of oops</h1>\n",
    " <h3> Abstaction</h3>\n",
    " <h3> Encapsualtion</h3>\n",
    " <h3> Inheritance</h3>\n",
    " <h3> Polymorphism</h3>"
   ]
  },
  {
   "attachments": {},
   "cell_type": "markdown",
   "metadata": {},
   "source": [
    "<h2>Special Function</h2>"
   ]
  },
  {
   "cell_type": "code",
   "execution_count": null,
   "metadata": {},
   "outputs": [
    {
     "name": "stdout",
     "output_type": "stream",
     "text": [
      "Book Is Created....✅\n",
      "Title: A song of ice n fire\n",
      "799\n",
      "Book is Distroyed......💥\n"
     ]
    }
   ],
   "source": [
    "class book:\n",
    "\n",
    "    def __init__(self, Title, Author, Pages):\n",
    "        print(\"Book Is Created....✅\")\n",
    "        self.title = Title\n",
    "        self.author = Author\n",
    "        self.pages = Pages\n",
    "\n",
    "    def __str__(self):\n",
    "        return \"Title: {}\".format(self.title)\n",
    "    \n",
    "    def __len__(self):\n",
    "        return self.pages\n",
    "    \n",
    "    def __del__(self):\n",
    "        print(\"Book is Distroyed......💥\")\n",
    "\n",
    "\n",
    "B = book('A song of ice n fire','R.R.Martin',799)\n",
    "\n",
    "print(B)\n",
    "print(len(B))\n",
    "del(B)\n",
    "\n",
    "\n",
    "        "
   ]
  },
  {
   "cell_type": "code",
   "execution_count": null,
   "metadata": {},
   "outputs": [
    {
     "name": "stdout",
     "output_type": "stream",
     "text": [
      "4\n",
      "xyz\n",
      "5\n"
     ]
    }
   ],
   "source": [
    "class Animal:\n",
    "    def __init__(self,name,legs):\n",
    "        self.name= name\n",
    "        self.legs= legs\n",
    "\n",
    "class Bear(Animal):\n",
    "\n",
    "    def __init__(self,name='xyz',legs = 4, hibernate=5):\n",
    "        Animal.__init__(self,name,legs)\n",
    "        self.hibernate= hibernate\n",
    "\n",
    "\n",
    "A = Bear()\n",
    "\n",
    "print(A.legs)\n",
    "print(A.name)\n",
    "print(A.hibernate)"
   ]
  },
  {
   "cell_type": "code",
   "execution_count": null,
   "metadata": {},
   "outputs": [
    {
     "name": "stdout",
     "output_type": "stream",
     "text": [
      "4\n"
     ]
    }
   ],
   "source": [
    "class A:\n",
    "    num = 4\n",
    "\n",
    "class B(A):\n",
    "    pass\n",
    "\n",
    "class C(A):\n",
    "    pass\n",
    "\n",
    "class D(B,C):\n",
    "    pass\n",
    "\n",
    "print(D.num)"
   ]
  },
  {
   "cell_type": "code",
   "execution_count": null,
   "metadata": {},
   "outputs": [
    {
     "name": "stdout",
     "output_type": "stream",
     "text": [
      "4\n",
      "xyz\n",
      "5\n"
     ]
    }
   ],
   "source": [
    "class Animal:\n",
    "    def __init__(self,name,legs):\n",
    "        self.name= name\n",
    "        self.legs= legs\n",
    "\n",
    "class Bear(Animal):\n",
    "\n",
    "    def __init__(self,name='xyz',legs = 4, hibernate=5):\n",
    "        super().__init__(name,legs)\n",
    "        self.hibernate= hibernate\n",
    "\n",
    "\n",
    "A = Bear()\n",
    "\n",
    "print(A.legs)\n",
    "print(A.name)\n",
    "print(A.hibernate)"
   ]
  },
  {
   "cell_type": "code",
   "execution_count": null,
   "metadata": {},
   "outputs": [
    {
     "name": "stdout",
     "output_type": "stream",
     "text": [
      "2023-05-20 11:24:26.227182\n",
      "00:00:00\n",
      "23:59:59.999999\n",
      "0:00:00.000001\n"
     ]
    }
   ],
   "source": [
    "from datetime import datetime\n",
    "\n",
    "t = datetime.now()\n",
    "print(t)\n",
    "\n",
    "from datetime import time\n",
    "t = time.min\n",
    "print(t)\n",
    "t = time.max\n",
    "print(t)\n",
    "t = time.resolution\n",
    "print(t)"
   ]
  },
  {
   "attachments": {},
   "cell_type": "markdown",
   "metadata": {},
   "source": [
    "<h2>Timeit Module</h2>\n",
    "\n",
    "> to measure exceution of small code snipptes \n",
    "\n",
    "> %timeit only works in ipynb formats more accurate runs the code 100000. "
   ]
  },
  {
   "cell_type": "code",
   "execution_count": null,
   "metadata": {},
   "outputs": [
    {
     "name": "stdout",
     "output_type": "stream",
     "text": [
      "0-1-2-3-4-5-6-7-8-9-10-11-12-13-14-15-16-17-18-19-20-21-22-23-24-25-26-27-28-29-30-31-32-33-34-35-36-37-38-39-40-41-42-43-44-45-46-47-48-49-50-51-52-53-54-55-56-57-58-59-60-61-62-63-64-65-66-67-68-69-70-71-72-73-74-75-76-77-78-79-80-81-82-83-84-85-86-87-88-89-90-91-92-93-94-95-96-97-98-99\n",
      "0-1-2-3-4-5-6-7-8-9-10-11-12-13-14-15-16-17-18-19-20-21-22-23-24-25-26-27-28-29-30-31-32-33-34-35-36-37-38-39-40-41-42-43-44-45-46-47-48-49-50-51-52-53-54-55-56-57-58-59-60-61-62-63-64-65-66-67-68-69-70-71-72-73-74-75-76-77-78-79-80-81-82-83-84-85-86-87-88-89-90-91-92-93-94-95-96-97-98-99\n",
      "0-1-2-3-4-5-6-7-8-9-10-11-12-13-14-15-16-17-18-19-20-21-22-23-24-25-26-27-28-29-30-31-32-33-34-35-36-37-38-39-40-41-42-43-44-45-46-47-48-49-50-51-52-53-54-55-56-57-58-59-60-61-62-63-64-65-66-67-68-69-70-71-72-73-74-75-76-77-78-79-80-81-82-83-84-85-86-87-88-89-90-91-92-93-94-95-96-97-98-99\n",
      "0.012018207999062724\n",
      "0.009769208001671359\n",
      "0.007100959002855234\n",
      "8.31 µs ± 42.9 ns per loop (mean ± std. dev. of 7 runs, 100,000 loops each)\n",
      "7.1 µs ± 13.6 ns per loop (mean ± std. dev. of 7 runs, 100,000 loops each)\n",
      "6.18 µs ± 44.5 ns per loop (mean ± std. dev. of 7 runs, 100,000 loops each)\n"
     ]
    },
    {
     "data": {
      "text/plain": [
       "1.3306820829966455"
      ]
     },
     "execution_count": 13,
     "metadata": {},
     "output_type": "execute_result"
    }
   ],
   "source": [
    "# how to calculate and measure which method is more efficiant.\n",
    "print(\"-\".join((str(i)) for i in range(100)))\n",
    "print(\"-\".join([str(i) for i in range(100)]))\n",
    "print(\"-\".join(map(str,range(100))))\n",
    "\n",
    "\n",
    "import timeit as timeit\n",
    "\n",
    "print(timeit.timeit('\"-\".join((str(i)) for i in range(100))', number=1000))\n",
    "print(timeit.timeit('\"-\".join([str(i) for i in range(100)])', number=1000))\n",
    "print(timeit.timeit('\"-\".join(map(str,range(100)))', number=1000))\n",
    "\n",
    "#another way to do this \n",
    "\n",
    "%timeit \"-\".join((str(i)) for i in range(100))\n",
    "%timeit \"-\".join([str(i) for i in range(100)])\n",
    "%timeit \"-\".join(map(str,range(100)))\n",
    "\n",
    "#how to right a timeit function on multiple lines use ; to diffrentiate bitween the lines\n",
    "timeit.timeit('a=\"Pune\"; x = [i for i in range(100)]')"
   ]
  },
  {
   "attachments": {},
   "cell_type": "markdown",
   "metadata": {},
   "source": [
    "<h2>Module,Packages And Libraries</h2>\n",
    "\n",
    ">Modules is just a py file \n",
    "\n",
    ">package combination of py files and folders\n",
    "\n",
    ">Library is module and packages having some agenda \n",
    "\n",
    ">Source\n",
    "\n",
    ">>  * built-in packages are found on Python Standerd Library.\n",
    "\n",
    ">>> * Third-Party Packages (Pandas)\n",
    "\n",
    ">>>> * Custome Module\n",
    "\n",
    "> '__name__' is a spacial variable for which the defalut value is '__main__' however whenever file is imported the value '__name__' becomes the file name. "
   ]
  },
  {
   "cell_type": "code",
   "execution_count": null,
   "metadata": {},
   "outputs": [
    {
     "name": "stdout",
     "output_type": "stream",
     "text": [
      "India\n",
      "Saurabh's \"Iphones\"\n",
      "Saurabh's \"Iphones\"\n"
     ]
    }
   ],
   "source": [
    "import Test as T\n",
    "\n",
    "print(T.B)"
   ]
  },
  {
   "attachments": {},
   "cell_type": "markdown",
   "metadata": {},
   "source": [
    "<h2>Collection</h2>\n",
    "\n",
    "<h3>counter</h3> \n",
    "\n",
    ">   :- counts the each elements in the lst or string."
   ]
  },
  {
   "cell_type": "code",
   "execution_count": null,
   "metadata": {},
   "outputs": [
    {
     "data": {
      "text/plain": [
       "[(1, 3), (0, 3), (2, 2)]"
      ]
     },
     "execution_count": 7,
     "metadata": {},
     "output_type": "execute_result"
    }
   ],
   "source": [
    "from collections import Counter\n",
    "#example of counter\n",
    "\n",
    "lst = [1,1,1,2,2,3,44,5,5,6,7,7,8,8,9,9,0,0,0]\n",
    "\n",
    "#to count each and every occurance of the element present in the lst \n",
    "\n",
    "Cnt = Counter(lst)\n",
    "\n",
    "dir(Cnt)\n",
    "\n",
    "Cnt.most_common(3)"
   ]
  },
  {
   "attachments": {},
   "cell_type": "markdown",
   "metadata": {},
   "source": [
    "<h3>defaultdict</h3>"
   ]
  },
  {
   "cell_type": "code",
   "execution_count": null,
   "metadata": {},
   "outputs": [
    {
     "name": "stdout",
     "output_type": "stream",
     "text": [
      "defaultdict(<function <lambda> at 0x118c23b50>, {'A': 1, 'B': 2, 'C': 3, 'D': 0})\n"
     ]
    }
   ],
   "source": [
    "D = {'A':1, 'B':2,'C':3}\n",
    "\n",
    "#here if search for key D it will give a key not found error.\n",
    "\n",
    "from collections import defaultdict\n",
    "D1= defaultdict(lambda : 0, D)\n",
    "\n",
    "#here i searched for D which dose not exsist but now defalut fucntion will assign create a key named D and assign the defalut value to it.\n",
    "\n",
    "D1['D']\n",
    "print(D1)"
   ]
  },
  {
   "attachments": {},
   "cell_type": "markdown",
   "metadata": {},
   "source": [
    "<h3>OrderedDict</h3>\n",
    "\n",
    ">>> An orderedDict is a dicetionary whcich remembers the order which the data is been added "
   ]
  },
  {
   "cell_type": "code",
   "execution_count": null,
   "metadata": {},
   "outputs": [
    {
     "name": "stdout",
     "output_type": "stream",
     "text": [
      "True\n",
      "False\n"
     ]
    }
   ],
   "source": [
    "from collections import OrderedDict\n",
    "\n",
    "#Here in tradtional Dict this will be trw]eated as same beacsue of the values \n",
    "D1 = {'A':1, 'B':2,'C':3}\n",
    "D2 = {'C':3,'A':1, 'B':2}\n",
    "\n",
    "if(D1==D2):\n",
    "    print(True)\n",
    "\n",
    "#Here this will preserve the values of the oreder they were assigned to it.\n",
    "D3 = OrderedDict()\n",
    "D4 = OrderedDict()\n",
    "\n",
    "D3 ['A'] = 1, \n",
    "D3['B'] = 2,\n",
    "D3['C'] = 3\n",
    "\n",
    "D4 ['C'] = 1,\n",
    "D4 ['B'] = 2,\n",
    "D4 ['A'] = 3\n",
    "\n",
    "\n",
    "if(D3==D4):\n",
    "    print(True)\n",
    "else:\n",
    "    print(False)"
   ]
  },
  {
   "attachments": {},
   "cell_type": "markdown",
   "metadata": {},
   "source": [
    "<h3>NamedTuple</h3>\n",
    "\n",
    ">> Access by index: The attribute values of namedtuple() are ordered and can be accessed using the index number unlike dictionaries which are not accessible by index.\n",
    "\n",
    "\n",
    ">> Access by keyname: Access by keyname is also allowed as in dictionaries.\n",
    "using getattr(): This is yet another way to access the value by giving namedtuple and key value as its argument."
   ]
  },
  {
   "cell_type": "code",
   "execution_count": null,
   "metadata": {},
   "outputs": [
    {
     "name": "stdout",
     "output_type": "stream",
     "text": [
      "The Student age using index is : 19\n",
      "The Student name using keyname is : Nandini\n"
     ]
    }
   ],
   "source": [
    "from collections import namedtuple\n",
    " \n",
    "# Declaring namedtuple()\n",
    "Student = namedtuple('Student', ['name', 'age', 'DOB'])\n",
    " \n",
    "# Adding values\n",
    "S = Student('Nandini', '19', '2541997')\n",
    " \n",
    "# Access using index\n",
    "print(\"The Student age using index is : \", end=\"\")\n",
    "print(S[1])\n",
    " \n",
    "# Access using name\n",
    "print(\"The Student name using keyname is : \", end=\"\")\n",
    "print(S.name)"
   ]
  },
  {
   "attachments": {},
   "cell_type": "markdown",
   "metadata": {},
   "source": [
    "<h1>File Handling </h1>\n",
    "\n",
    "* There are three steps in file handling.\n",
    "\n",
    ">> Read\n",
    "\n",
    ">>>>Write\n",
    "\n",
    ">>>>>>Append/Amend"
   ]
  },
  {
   "cell_type": "code",
   "execution_count": null,
   "metadata": {},
   "outputs": [
    {
     "name": "stdout",
     "output_type": "stream",
     "text": [
      "['This is Sample Text Line 1\\n', 'This is Sample Text Line 2\\n', 'This is Sample Text Line 3\\n', ' This Line Is Added Via Append Command']\n"
     ]
    }
   ],
   "source": [
    "#f = open(\"Sample.txt\", \"x\") Creates a new file \n",
    "\n",
    "f = open(\"Sample.txt\", \"w+\") #opening File in Read Mode\n",
    "\n",
    "f.write(\"This is Sample Text Line 1\\n\") #Writting in the file \n",
    "f.write(\"This is Sample Text Line 2\\n\")\n",
    "f.write(\"This is Sample Text Line 3\")\n",
    "\n",
    "f.seek(0)  #taking the cursor to the starting point \n",
    "f.readlines() #reading line \n",
    "\n",
    "f = open(\"Sample.txt\", \"a+\") #opening file in append mode\n",
    "\n",
    "f.write(\"\\n This Line Is Added Via Append Command\")\n",
    "\n",
    "f.seek(0)\n",
    "Lines = f.readlines()\n",
    "\n",
    "print(Lines)\n"
   ]
  },
  {
   "attachments": {},
   "cell_type": "markdown",
   "metadata": {},
   "source": [
    "<h1>StringIO</h1>\n",
    "\n",
    ">> module is an in-memory file-like object. This object can be used as input or output to the most function that would expect a standard file object. When the StringIO object is created it is initialized by passing a string to the constructor. If no string is passed the StringIO will start empty. In both cases, the initial cursor on the file starts at zero.\n",
    "\n",
    ">>NOTE: This module does not exist in the latest version of Python so to work with this module we have to import it from the io module in Python as io.StringIO."
   ]
  },
  {
   "cell_type": "code",
   "execution_count": null,
   "metadata": {},
   "outputs": [
    {
     "name": "stdout",
     "output_type": "stream",
     "text": [
      "This is initial string.\n",
      "The string after writing is: This is initial string. Welcome to geeksforgeeks.\n"
     ]
    }
   ],
   "source": [
    "from io import StringIO \n",
    " \n",
    " \n",
    "# The arbitrary string.\n",
    "string ='This is initial string.'\n",
    " \n",
    "# Using the StringIO method to set\n",
    "# as file object. Now we have an\n",
    "# object file that we will able to\n",
    "# treat just like a file.\n",
    "file = StringIO(string)\n",
    " \n",
    "# this will read the file\n",
    "print(file.read())\n",
    " \n",
    "# We can also write this file.\n",
    "file.write(\" Welcome to geeksforgeeks.\")\n",
    " \n",
    "# This will make the cursor at\n",
    "# index 0.\n",
    "file.seek(0)\n",
    " \n",
    "# This will print the file after\n",
    "# writing in the initial string.\n",
    "print('The string after writing is:', file.read())\n"
   ]
  },
  {
   "attachments": {},
   "cell_type": "markdown",
   "metadata": {},
   "source": [
    "<h1>Regular Expression (REGEX) </h1>"
   ]
  },
  {
   "cell_type": "code",
   "execution_count": null,
   "metadata": {},
   "outputs": [
    {
     "name": "stdout",
     "output_type": "stream",
     "text": [
      "match was found\n",
      "match was found\n",
      "['this', 'tring', 'th', 'term', 'the', 'ther', 'term']\n",
      "['sd', 'sd', 'sd', 'sd', 'sd', 'sd', 'sd']\n",
      "['sd', 'sd', 'sdd', 'sddd', 'sddd', 'sd', 'sdddd']\n",
      "['sd', 'sd', 'sssd', 'sd', 'sd', 'sd', 'sd']\n",
      "['sd', 'sd', 's', 's', 'sdd', 'sddd', 'sddd', 'sd', 's', 's', 's', 's', 's', 's', 'sdddd']\n",
      "['sd', 'sd', 'sssd', 'd', 'sd', 'd', 'd', 'sd', 'd', 'd', 'd', 'sd', 'd', 'sd', 'd', 'd', 'd']\n",
      "['sd', 'sd', 'sssdd', 'sddd', 'sddd', 'd', 'sd', 'd', 'sdddd']\n",
      "['sdd', 'sdd', 'sdd', 'sdd']\n",
      "['ssdd']\n",
      "['sddd', 'sddd', 'sddd', 'sdddd']\n",
      "['sd', 'sd', 's', 's', 'sd', 'sd', 'sd', 'sd', 's', 's', 's', 's', 's', 's', 'sd']\n",
      "['sdsd', 'sssdd', 'sdddsddd', 'dsds', 'dsssss', 'sdddd']\n",
      "['sdsd', '', '', '', 'sssdd', '', '', '', 'sdddsddd', '', '', '', 'dsds', '', '', '', 'dsssss', '', '', '', 'sdddd', '']\n",
      "['s', 'd', 's', 'd', '', '', '', 's', 's', 's', 'd', 'd', '', '', '', 's', 'd', 'd', 'd', 's', 'd', 'd', 'd', '', '', '', 'd', 's', 'd', 's', '', '', '', 'd', 's', 's', 's', 's', 's', '', '', '', 's', 'd', 'd', 'd', 'd', '']\n",
      "['sds', 'sss', 'sdd', 'dsd', 'dsd', 'dss', 'sss', 'sdd']\n",
      "['sdsd', 'sssd', 'sddd', 'sddd', 'ssss', 'sddd']\n",
      "['sdsd', 'sssdd', 'sdddsddd', 'sds', 'sssss', 'sdddd']\n",
      "['s', 'd', 's', 'd', 's', 's', 's', 'd', 'd', 's', 'd', 'd', 'd', 's', 'd', 'd', 'd', 'd', 's', 'd', 's', 'd', 's', 's', 's', 's', 's', 's', 'd', 'd', 'd', 'd']\n"
     ]
    }
   ],
   "source": [
    "import re\n",
    "\n",
    "patterns = ['term1' , 'term2']\n",
    "\n",
    "text = 'this is a string with term1, but it dose not have the other term2.'\n",
    "\n",
    "for pattern in patterns:\n",
    "    if re.search(pattern , text):\n",
    "        print('match was found')\n",
    "    else:\n",
    "        print('No match found')\n",
    "\n",
    "FindAll = re.findall('t[a-z]+', text)\n",
    "print(FindAll)\n",
    "\n",
    "#1. finding sd \n",
    "text = 'sdsd...sssdd...sdddsddd...dsds...dsssss...sdddd'\n",
    "patterns = ['sd']\n",
    "FindAll = []\n",
    "for pattern in patterns:\n",
    "  FindAll = re.findall(pattern , text)\n",
    "print(FindAll)\n",
    "\n",
    "#2. Findning 1 occurance of s and 1 or more occurace ofs d\n",
    "text = 'sdsd...sssdd...sdddsddd...dsds...dsssss...sdddd'\n",
    "patterns = ['sd+']\n",
    "FindAll = []\n",
    "for pattern in patterns:\n",
    "  FindAll = re.findall(pattern , text)\n",
    "print(FindAll)\n",
    "\n",
    "#3. Findning 1 or more occurance of s and 1 occurance of d\n",
    "text = 'sdsd...sssdd...sdddsddd...dsds...dsssss...sdddd'\n",
    "patterns = ['s+d']\n",
    "FindAll = []\n",
    "for pattern in patterns:\n",
    "  FindAll = re.findall(pattern , text)\n",
    "print(FindAll)\n",
    "\n",
    "#4. findnig 0 or more sd \n",
    "text = 'sdsd...sssdd...sdddsddd...dsds...dsssss...sdddd'\n",
    "patterns = ['sd*']\n",
    "FindAll = []\n",
    "for pattern in patterns:\n",
    "  FindAll = re.findall(pattern , text)\n",
    "print(FindAll)\n",
    "\n",
    "#5. 0 or more s and only 1 d\n",
    "text = 'sdsd...sssdd...sdddsddd...dsds...dsssss...sdddd'\n",
    "patterns = ['s*d']\n",
    "FindAll = []\n",
    "for pattern in patterns:\n",
    "  FindAll = re.findall(pattern , text)\n",
    "print(FindAll)\n",
    "\n",
    "#6. using combo \n",
    "text = 'sdsd...sssdd...sdddsddd...dsds...dsssss...sdddd'\n",
    "patterns = ['s*d+']\n",
    "FindAll = []\n",
    "for pattern in patterns:\n",
    "  FindAll = re.findall(pattern , text)\n",
    "print(FindAll)\n",
    "\n",
    "#7. finding s followed by 2 d\n",
    "text = 'sdsd...sssdd...sdddsddd...dsds...dsssss...sdddd'\n",
    "patterns = ['sd{2}']\n",
    "FindAll = []\n",
    "for pattern in patterns:\n",
    "  FindAll = re.findall(pattern , text)\n",
    "print(FindAll)\n",
    "\n",
    "#8 exact 2 s and exact 2 d\n",
    "text = 'sdsd...sssdd...sdddsddd...dsds...dsssss...sdddd'\n",
    "patterns = ['s{2}d{2}']\n",
    "FindAll = []\n",
    "for pattern in patterns:\n",
    "  FindAll = re.findall(pattern , text)\n",
    "print(FindAll)\n",
    "\n",
    "#9 1 s followd by 2 or 4 d\n",
    "text = 'sdsd...sssddd...sdddsddd...dsds...dsssss...sdddd'\n",
    "patterns = ['sd{2,4}']\n",
    "FindAll = []\n",
    "for pattern in patterns:\n",
    "  FindAll = re.findall(pattern , text)\n",
    "print(FindAll)\n",
    "\n",
    "#10 s followed by 0 or 1 d.\n",
    "text = 'sdsd...sssdd...sdddsddd...dsds...dsssss...sdddd'\n",
    "patterns = ['sd?']\n",
    "FindAll = []\n",
    "for pattern in patterns:\n",
    "  FindAll = re.findall(pattern , text)\n",
    "print(FindAll)\n",
    "\n",
    "#11 combination of s and d.\n",
    "text = 'sdsd...sssdd...sdddsddd...dsds...dsssss...sdddd'\n",
    "patterns = ['[sd]+']\n",
    "FindAll = []\n",
    "for pattern in patterns:\n",
    "  FindAll = re.findall(pattern , text)\n",
    "print(FindAll)\n",
    "\n",
    "#12 combination 0 or more sd \n",
    "text = 'sdsd...sssdd...sdddsddd...dsds...dsssss...sdddd'\n",
    "patterns = ['[sd]*']\n",
    "FindAll = []\n",
    "for pattern in patterns:\n",
    "  FindAll = re.findall(pattern , text)\n",
    "print(FindAll)\n",
    "\n",
    "#13 combination o or 1 sd\n",
    "text = 'sdsd...sssdd...sdddsddd...dsds...dsssss...sdddd'\n",
    "patterns = ['[sd]?']\n",
    "FindAll = []\n",
    "for pattern in patterns:\n",
    "  FindAll = re.findall(pattern , text)\n",
    "print(FindAll)\n",
    "\n",
    "#14 combination of sd using character set\n",
    "\n",
    "text = 'sdsd...sssdd...sdddsddd...dsds...dsssss...sdddd'\n",
    "patterns = ['[sd]{3}']\n",
    "FindAll = []\n",
    "for pattern in patterns:\n",
    "  FindAll = re.findall(pattern , text)\n",
    "print(FindAll)\n",
    "\n",
    "#15 charactor set complications\n",
    "text = 'sdsd...sssdd...sdddsddd...dsds...dsssss...sdddd'\n",
    "patterns = ['s[sd]{3}']\n",
    "FindAll = []\n",
    "for pattern in patterns:\n",
    "  FindAll = re.findall(pattern , text)\n",
    "print(FindAll)\n",
    "\n",
    "#16 chartor set 1 s followed by s or d atleast 1's.\n",
    "text = 'sdsd...sssdd...sdddsddd...dsds...dsssss...sdddd'\n",
    "patterns = ['s[sd]+']\n",
    "FindAll = []\n",
    "for pattern in patterns:\n",
    "  FindAll = re.findall(pattern , text)\n",
    "print(FindAll)\n",
    "\n",
    "#17 exclusion \n",
    "text = 'sdsd...sssdd...sdddsddd...dsds...dsssss...sdddd'\n",
    "patterns = ['[^.]']\n",
    "FindAll = []\n",
    "for pattern in patterns:\n",
    "  FindAll = re.findall(pattern , text)\n",
    "print(FindAll)"
   ]
  },
  {
   "attachments": {},
   "cell_type": "markdown",
   "metadata": {},
   "source": []
  },
  {
   "attachments": {},
   "cell_type": "markdown",
   "metadata": {},
   "source": [
    "<h1>Advanced Data Types </h1>\n",
    "\n",
    ">Binary\n",
    "\n",
    ">>Decimal\n",
    "\n",
    ">>>HexaDecimal"
   ]
  },
  {
   "cell_type": "code",
   "execution_count": null,
   "metadata": {},
   "outputs": [
    {
     "name": "stdout",
     "output_type": "stream",
     "text": [
      "0x1c\n",
      "0b11100\n",
      "0o34\n"
     ]
    }
   ],
   "source": [
    "print(hex(28)) # hexa decinal \n",
    "print(bin(28)) # Binary\n",
    "print(oct(28)) # Octa"
   ]
  },
  {
   "cell_type": "code",
   "execution_count": 57,
   "metadata": {},
   "outputs": [
    {
     "data": {
      "text/plain": [
       "<matplotlib.collections.PathCollection at 0x15ce579a0>"
      ]
     },
     "execution_count": 57,
     "metadata": {},
     "output_type": "execute_result"
    },
    {
     "data": {
      "image/png": "[encoded data removed]",
      "text/plain": [
       "<Figure size 640x480 with 6 Axes>"
      ]
     },
     "metadata": {},
     "output_type": "display_data"
    }
   ],
   "source": [
    "import matplotlib.pyplot as mtp\n",
    "import numpy as np\n",
    "\n",
    "x = np.array([-5,-4,-3,-2,-1,0,1,2,3,4,5])\n",
    "y = x**3\n",
    "mtp.subplot(3,3,1)\n",
    "mtp.plot(x,y , 'b')\n",
    "\n",
    "\n",
    "x = np.array([-5,-4,-3,-2,-1,0,1,2,3,4,5])\n",
    "y = x**3\n",
    "mtp.subplot(3,3,2)\n",
    "mtp.plot(x,y , '--')\n",
    "\n",
    "\n",
    "x = np.array([-5,-4,-3,-2,-1,0,1,2,3,4,5])\n",
    "y = x**3\n",
    "mtp.subplot(2,3,3)\n",
    "mtp.plot(x,y , '*')\n",
    "\n",
    "x = np.array([-5,-4,-3,-2,-1,0,1,2,3,4,5])\n",
    "y = x**3\n",
    "mtp.subplot(2,3,4)\n",
    "mtp.plot(x,y,'+')\n",
    "\n",
    "x = np.array([-5,-4,-3,-2,-1,0,1,2,3,4,5])\n",
    "y = x**3\n",
    "mtp.subplot(2,3,5)\n",
    "mtp.plot(x,y ,'r*')\n",
    "\n",
    "x = np.array([-5,-4,-3,-2,-1,0,1,2,3,4,5])\n",
    "y = x**3\n",
    "mtp.subplot(2,3,6)\n",
    "mtp.scatter(x,y)"
   ]
  },
  {
   "cell_type": "code",
   "execution_count": 1,
   "metadata": {},
   "outputs": [
    {
     "name": "stderr",
     "output_type": "stream",
     "text": [
      "/opt/homebrew/lib/python3.10/site-packages/seaborn/axisgrid.py:118: UserWarning: The figure layout has changed to tight\n",
      "  self._figure.tight_layout(*args, **kwargs)\n"
     ]
    },
    {
     "data": {
      "text/plain": [
       "<seaborn.axisgrid.FacetGrid at 0x137dbeda0>"
      ]
     },
     "execution_count": 1,
     "metadata": {},
     "output_type": "execute_result"
    },
    {
     "data": {
      "image/png": "[encoded data removed]",
      "text/plain": [
       "<Figure size 1080x500 with 2 Axes>"
      ]
     },
     "metadata": {},
     "output_type": "display_data"
    }
   ],
   "source": []
  }
 ],
 "metadata": {
  "kernelspec": {
   "display_name": "Python 3",
   "language": "python",
   "name": "python3"
  },
  "language_info": {
   "codemirror_mode": {
    "name": "ipython",
    "version": 3
   },
   "file_extension": ".py",
   "mimetype": "text/x-python",
   "name": "python",
   "nbconvert_exporter": "python",
   "pygments_lexer": "ipython3",
   "version": "3.10.9"
  },
  "orig_nbformat": 4,
  "vscode": {
   "interpreter": {
    "hash": "aee8b7b246df8f9039afb4144a1f6fd8d2ca17a180786b69acc140d282b71a49"
   }
  }
 },
 "nbformat": 4,
 "nbformat_minor": 2
}
