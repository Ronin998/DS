{
 "cells": [
  {
   "cell_type": "markdown",
   "metadata": {},
   "source": [
    "<h1>Imports</h1>"
   ]
  },
  {
   "cell_type": "code",
   "execution_count": 3,
   "metadata": {},
   "outputs": [],
   "source": [
    "import pandas as pd"
   ]
  },
  {
   "cell_type": "code",
   "execution_count": 3,
   "metadata": {},
   "outputs": [],
   "source": [
    "CustomerDF = pd.read_csv('/Users/saurabhpalande/Data Science/DS/Python Project/CSV_s1/customers.csv',header=None,index_col=None)\n",
    "CustomerDF.columns = ['CustNo','FirstName','LastName','Gender','Age','profession','contactNo','emailId','city','state','isActive','createdDate','UpdatedDate'] \n",
    "CustomerDF.to_csv('/Users/saurabhpalande/Data Science/DS/Python Project/CSV_s1/customers.csv',index=False)\n",
    "\n",
    "ProductsDF = pd.read_csv('/Users/saurabhpalande/Data Science/DS/Python Project/CSV_s1/products.csv',header=None,index_col=None)\n",
    "ProductsDF.columns = ['ProductNo','ProductName','Description','isActive','CreatedDate','UpdatedDate']\n",
    "ProductsDF.to_csv('/Users/saurabhpalande/Data Science/DS/Python Project/CSV_s1/products.csv',index=False)\n",
    "\n",
    "\n",
    "TransactionDF = pd.read_csv('/Users/saurabhpalande/Data Science/DS/Python Project/CSV_s1/transactions.csv',header=None,index_col=None)\n",
    "TransactionDF.columns = ['TxnNo','TxnDate','CustNo','Amount','ProductNo','SpendBy']\n",
    "TransactionDF.to_csv('/Users/saurabhpalande/Data Science/DS/Python Project/CSV_s1/transactions.csv',index=False)\n",
    "\n"
   ]
  },
  {
   "cell_type": "markdown",
   "metadata": {},
   "source": [
    "<h1>Declarations<h1>"
   ]
  },
  {
   "cell_type": "markdown",
   "metadata": {},
   "source": [
    "<H1>Use case 1 </H1>\n",
    "\n",
    "<h3>Load all three csv datasets in Pandas Data frames and display first 5 records.</h3>"
   ]
  },
  {
   "cell_type": "code",
   "execution_count": 4,
   "metadata": {},
   "outputs": [
    {
     "name": "stdout",
     "output_type": "stream",
     "text": [
      "   CustNo FirstName LastName Gender  Age profession  contactNo  \\\n",
      "0       1    Leslie     Bass      F   27          B      37307   \n",
      "1       2      Judy    Burks      M   53          S      84759   \n",
      "2       3    Marsha    Doyle      F   48          B      80932   \n",
      "3       4    Alexis   Battle      M   27          S      71701   \n",
      "4       5    Martha    Combs      F   49          B      83947   \n",
      "\n",
      "                  emailId     city      state isActive          createdDate  \\\n",
      "0  endslost@everyma1l.org   Gibson   Dellwood        Y  2017-09-21 12:38:22   \n",
      "1  rfleming@hotma1l.co.uk  Suwanee     Trabue        Y  2017-05-22 05:29:22   \n",
      "2    arethe53@ma1lbox.net    Perry  Moxadarla        Y  2017-09-03 12:11:29   \n",
      "3      ofcame@ma1lbox.org   Morven     Dennis        Y  2017-02-16 04:05:35   \n",
      "4   camedied@everyma1l.us   Ocilla  Greenwood        Y  2017-05-15 07:34:35   \n",
      "\n",
      "           UpdatedDate  \n",
      "0  2017-10-18 12:12:28  \n",
      "1  2017-10-18 12:12:28  \n",
      "2  2017-10-18 12:12:28  \n",
      "3  2017-10-18 12:12:28  \n",
      "4  2017-10-18 12:12:28  \n",
      "   ProductNo ProductName Description isActive          CreatedDate  \\\n",
      "0          1    Product1  pgqorighfa        Y  2017-04-03 07:58:55   \n",
      "1          2    Product2  lmndaaweth        Y  2017-09-21 12:38:31   \n",
      "2          3    Product3  urifeubrhh        Y  2017-09-08 10:32:12   \n",
      "3          4    Product4  rlpcjxfarp        Y  2017-05-22 05:29:27   \n",
      "4          5    Product5  hzcpozsgfc        Y  2017-02-02 08:40:29   \n",
      "\n",
      "           UpdatedDate  \n",
      "0  2017-10-18 12:12:38  \n",
      "1  2017-10-18 12:12:38  \n",
      "2  2017-10-18 12:12:38  \n",
      "3  2017-10-18 12:12:38  \n",
      "4  2017-10-18 12:12:38  \n",
      "   TxnNo              TxnDate  CustNo  Amount  ProductNo SpendBy\n",
      "0      1  2017-10-18 12:31:45     923    2559        376    Card\n",
      "1      2  2017-10-18 12:31:45     219    1706        151    Card\n",
      "2      3  2017-10-18 12:31:45     927    3462        707    Cash\n",
      "3      4  2017-10-18 12:31:45     806     865        539    Card\n",
      "4      5  2017-10-18 12:31:45     958    2494         25    Card\n"
     ]
    }
   ],
   "source": [
    "print(CustomerDF.head(5))\n",
    "print(ProductsDF.head(5))\n",
    "print(TransactionDF.head(5))"
   ]
  },
  {
   "cell_type": "markdown",
   "metadata": {},
   "source": [
    "<H1>Use Case 2</H1>\n",
    "\n",
    "<H3>Display only those customers from CSV_s1, who purchased more than 3 products</H3>"
   ]
  },
  {
   "cell_type": "code",
   "execution_count": 5,
   "metadata": {},
   "outputs": [
    {
     "name": "stdout",
     "output_type": "stream",
     "text": [
      "CustNo\n",
      "2      2\n",
      "3      1\n",
      "4      4\n",
      "5      1\n",
      "7      1\n",
      "      ..\n",
      "991    1\n",
      "992    3\n",
      "996    1\n",
      "997    2\n",
      "999    1\n",
      "Name: ProductNo, Length: 648, dtype: int64\n",
      "Int64Index([  4,  86, 167, 187, 237, 241, 321, 326, 331, 356, 391, 537, 558,\n",
      "            578, 709, 735, 753, 828, 989],\n",
      "           dtype='int64', name='CustNo')\n",
      "     CustNo  FirstName  LastName Gender  Age profession  contactNo  \\\n",
      "3         4     Alexis    Battle      M   27          S      71701   \n",
      "85       86     Bonnie    McCall      M   37          S      70907   \n",
      "166     167      Alice     Blake      F   58          B      22324   \n",
      "186     187       Alan   Anthony      F   50          B      40487   \n",
      "236     237       Dawn      West      F   26          B      75618   \n",
      "240     241    Derrick   Pearson      F   33          B      74138   \n",
      "320     321    Crystal        Le      F   64          B      37857   \n",
      "325     326      Heidi   Stanley      M   29          S      78822   \n",
      "330     331    Cynthia  Harrison      F   49          B      53439   \n",
      "355     356   Mitchell     Mason      M   37          S      45064   \n",
      "390     391      Keith    Church      F   19          B      26859   \n",
      "536     537       Jake      Bush      F   23          B      80535   \n",
      "557     558       Lois      Todd      M   58          S      39051   \n",
      "577     578  Christine    Murray      M   40          S      74244   \n",
      "708     709       Kyle    Haynes      F   44          B      30552   \n",
      "734     735      James     Payne      F   39          B      30415   \n",
      "752     753     Denise    Stokes      F   37          B      88779   \n",
      "827     828    Katrina    Barber      M   47          S      61069   \n",
      "943     989     Ronald      Mayo      F   56          B      23161   \n",
      "\n",
      "                      emailId             city       state isActive  \\\n",
      "3          ofcame@ma1lbox.org           Morven      Dennis        Y   \n",
      "85   constantlyfire@gma1l.net          Screven      Farson        Y   \n",
      "166   wherealways@b1zmail.biz       Homerville       Daisy        Y   \n",
      "186        calvarez@ma1l2u.us          Sunbury        Linn        Y   \n",
      "236     oncaves@everyma1l.biz           Adrian   Extension        Y   \n",
      "240    acarpenter@b1zmail.com         Crescent       Grove        Y   \n",
      "320     klawrence@hotma1l.biz      East Dublin       Thorn        Y   \n",
      "325        bhull@everyma1l.us     Fayetteville     Garrell        Y   \n",
      "330            krush@gma1l.us         Mcintosh  Bradington        Y   \n",
      "355      fromwhat@somema1l.us            Cecil    Lazelere        Y   \n",
      "390          tkeith@yah00.com          Collins       Stout        Y   \n",
      "536       lsharpe@somema1l.us        Doraville  Springdale        Y   \n",
      "557       rgarner@ma1lbox.org          Broxton   Cliffwood        Y   \n",
      "577     aacevedo@somema1l.org          Sirmans       Darla        Y   \n",
      "708        ecain@somema1l.com        Riverdale    Eastview        Y   \n",
      "734       inhatch@b1zmail.biz      Gainesville    Hardesty        Y   \n",
      "752      textas98@b1zmail.org       Twin Peaks      Alburn        Y   \n",
      "827     whattook@everyma1l.us  Fort Oglethorpe     Detroit        Y   \n",
      "943      redthrow@ma1lbox.com             Kite   Smithwood        Y   \n",
      "\n",
      "             createdDate          UpdatedDate  \n",
      "3    2017-02-16 04:05:35  2017-10-18 12:12:28  \n",
      "85   2017-10-12 07:35:28  2017-10-18 12:12:28  \n",
      "166  2017-05-01 08:00:29  2017-10-18 12:12:28  \n",
      "186  2017-05-25 04:59:16  2017-10-18 12:12:28  \n",
      "236  2017-03-04 01:29:08  2017-10-18 12:12:28  \n",
      "240  2017-04-02 05:16:41  2017-10-18 12:12:28  \n",
      "320  2017-08-31 06:11:45  2017-10-18 12:12:28  \n",
      "325  2017-08-30 04:10:06  2017-10-18 12:12:28  \n",
      "330  2017-05-07 12:42:19  2017-10-18 12:12:28  \n",
      "355  2017-09-02 06:47:20  2017-10-18 12:12:28  \n",
      "390  2017-08-02 01:12:49  2017-10-18 12:12:28  \n",
      "536  2017-03-10 03:37:40  2017-10-18 12:12:29  \n",
      "557  2017-10-03 05:37:28  2017-10-18 12:12:29  \n",
      "577  2017-02-24 01:15:33  2017-10-18 12:12:29  \n",
      "708  2017-06-03 07:10:55  2017-10-18 12:12:29  \n",
      "734  2017-04-03 05:10:16  2017-10-18 12:12:29  \n",
      "752  2017-04-30 05:25:57  2017-10-18 12:12:29  \n",
      "827  2017-04-14 06:49:04  2017-10-18 12:12:29  \n",
      "943  2017-10-04 04:16:09  2017-10-18 12:12:29  \n"
     ]
    }
   ],
   "source": [
    "TestDF = pd.merge(CustomerDF, TransactionDF, on=['CustNo'])\n",
    "productcount = TestDF.groupby('CustNo')['ProductNo'].count()\n",
    "print(productcount)\n",
    "ProductCountMoreThan3 = productcount[productcount > 3].index\n",
    "print(ProductCountMoreThan3)\n",
    "ANSDF = CustomerDF[CustomerDF['CustNo'].isin(ProductCountMoreThan3)]\n",
    "print(ANSDF)"
   ]
  },
  {
   "cell_type": "markdown",
   "metadata": {},
   "source": [
    "<H1>Use Case 3</H3>\n",
    "\n",
    "<H3>Display top 5 most demanded products from CSV_s1</H3>"
   ]
  },
  {
   "cell_type": "code",
   "execution_count": 6,
   "metadata": {},
   "outputs": [
    {
     "name": "stdout",
     "output_type": "stream",
     "text": [
      "     ProductNo ProductName Description isActive          CreatedDate  \\\n",
      "81          82   Product82  ignxxzodmc        Y  2017-09-24 02:57:26   \n",
      "232        233  Product233  yrblgllvfy        Y  2017-05-31 10:50:17   \n",
      "426        427  Product427  rnqzbzweys        Y  2017-09-14 10:44:57   \n",
      "767        768  Product768  hvfbltpjun        Y  2017-01-27 11:45:21   \n",
      "899        900  Product900  ouoolyahlh        N  2017-01-10 12:35:30   \n",
      "\n",
      "             UpdatedDate  \n",
      "81   2017-10-18 12:12:38  \n",
      "232  2017-10-18 12:12:38  \n",
      "426  2017-10-18 12:12:38  \n",
      "767  2017-10-18 12:12:39  \n",
      "899  2017-10-18 12:12:39  \n"
     ]
    }
   ],
   "source": [
    "TestDF = pd.merge(TransactionDF,ProductsDF, on='ProductNo')\n",
    "ProductNoCount = TestDF.groupby('ProductNo')['ProductNo'].count()\n",
    "Top5Product = ProductNoCount.sort_values(ascending=False).head(5)\n",
    "ANSDF=ProductsDF[ProductsDF['ProductNo'].isin(Top5Product.index)]\n",
    "print(ANSDF)"
   ]
  },
  {
   "cell_type": "markdown",
   "metadata": {},
   "source": [
    "<H1>Use Case 4</H4>\n",
    "\n",
    "<H3>Display top 5 transactions ​amount ​from CSV_s1</H3>"
   ]
  },
  {
   "cell_type": "code",
   "execution_count": 7,
   "metadata": {},
   "outputs": [
    {
     "name": "stdout",
     "output_type": "stream",
     "text": [
      "     TxnNo              TxnDate  CustNo  Amount  ProductNo SpendBy\n",
      "556    557  2017-10-18 12:31:46     670    4996        509    Card\n",
      "305    306  2017-10-18 12:31:46     448    4992        427    Cash\n",
      "574    575  2017-10-18 12:31:46     305    4981        549    Card\n",
      "531    532  2017-10-18 12:31:46     230    4980        658    Card\n",
      "232    233  2017-10-18 12:31:45     287    4966        685    Card\n"
     ]
    }
   ],
   "source": [
    "print(TransactionDF.sort_values('Amount', ascending=False).head(5))"
   ]
  },
  {
   "cell_type": "markdown",
   "metadata": {},
   "source": [
    "<H1>Use Case 5</H1>\n",
    "<H3>Display distinct professions from CSV_s1</H3>"
   ]
  },
  {
   "cell_type": "code",
   "execution_count": 8,
   "metadata": {},
   "outputs": [
    {
     "name": "stdout",
     "output_type": "stream",
     "text": [
      "0    B\n",
      "1    S\n",
      "Name: profession, dtype: object\n"
     ]
    }
   ],
   "source": [
    "distinct_values = CustomerDF['profession'].drop_duplicates()\n",
    "print(distinct_values)"
   ]
  },
  {
   "cell_type": "markdown",
   "metadata": {},
   "source": [
    "<H1>Use Case 6</H1>\n",
    "\n",
    "<H3>Display highest age in CSV_s1 customer’s dataset</H3>"
   ]
  },
  {
   "cell_type": "code",
   "execution_count": 9,
   "metadata": {},
   "outputs": [
    {
     "name": "stdout",
     "output_type": "stream",
     "text": [
      "     CustNo FirstName   LastName Gender  Age profession  contactNo  \\\n",
      "500     501    Morgan  Donaldson      F   64          B      52553   \n",
      "\n",
      "                emailId      city   state isActive          createdDate  \\\n",
      "500  ggordon8@yah00.biz  Elberton  Codell        Y  2017-08-15 01:08:02   \n",
      "\n",
      "             UpdatedDate  \n",
      "500  2017-10-18 12:12:29  \n"
     ]
    }
   ],
   "source": [
    "print(CustomerDF.sort_values('Age',ascending=False).head(1))"
   ]
  },
  {
   "cell_type": "markdown",
   "metadata": {},
   "source": [
    "<H1>Use Case 7</H1>\n",
    "\n",
    "<H3>Display custno, gender, age, profession, contactno, productno, productName, txndate, spendby, amount from CSV_s1 for custno = 923\n",
    "</H3>"
   ]
  },
  {
   "cell_type": "code",
   "execution_count": 10,
   "metadata": {},
   "outputs": [
    {
     "name": "stdout",
     "output_type": "stream",
     "text": [
      "     CustNo Gender  Age profession  contactNo  ProductNo ProductName  \\\n",
      "540     923      F   46          B      25436        113  Product113   \n",
      "\n",
      "                 TxnDate SpendBy  Amount  \n",
      "540  2017-10-18 12:31:46    Card    2303  \n"
     ]
    }
   ],
   "source": [
    "TestDF = pd.merge(CustomerDF, TransactionDF, on='CustNo')\n",
    "TABDF = pd.merge(TestDF,ProductsDF, on='ProductNo')\n",
    "ANSDF = TABDF[TABDF['CustNo'] == 923].head(1)\n",
    "Columns = ['CustNo', 'Gender', 'Age', 'profession', 'contactNo', 'ProductNo', 'ProductName', 'TxnDate', 'SpendBy', 'Amount']\n",
    "result_df = ANSDF[Columns]\n",
    "print(result_df)"
   ]
  },
  {
   "cell_type": "markdown",
   "metadata": {},
   "source": [
    "<H1>Use Case 8</H1>\n",
    "\n",
    "<H3>Load all three PSV (pipe separated values) dataset in Pandas Data frames and display first 5 records.</H3>"
   ]
  },
  {
   "cell_type": "code",
   "execution_count": 4,
   "metadata": {},
   "outputs": [
    {
     "name": "stdout",
     "output_type": "stream",
     "text": [
      "   1   Leslie    Bass  F  27  B  37307      endslost@everyma1l.org   Gibson  \\\n",
      "0  2     Judy   Burks  M  53  S  84759      rfleming@hotma1l.co.uk  Suwanee   \n",
      "1  3   Marsha   Doyle  F  48  B  80932        arethe53@ma1lbox.net    Perry   \n",
      "2  4   Alexis  Battle  M  27  S  71701          ofcame@ma1lbox.org   Morven   \n",
      "3  5   Martha   Combs  F  49  B  83947       camedied@everyma1l.us   Ocilla   \n",
      "4  6  Marilyn  Nguyen  M  57  S  72274  discoveredlist82@gma1l.org    Byron   \n",
      "\n",
      "    Dellwood  Y  2017-09-21 12:38:22  2017-10-18 12:12:28  \n",
      "0     Trabue  Y  2017-05-22 05:29:22  2017-10-18 12:12:28  \n",
      "1  Moxadarla  Y  2017-09-03 12:11:29  2017-10-18 12:12:28  \n",
      "2     Dennis  Y  2017-02-16 04:05:35  2017-10-18 12:12:28  \n",
      "3  Greenwood  Y  2017-05-15 07:34:35  2017-10-18 12:12:28  \n",
      "4    Wetsell  Y  2017-05-12 06:18:16  2017-10-18 12:12:28  \n",
      "   1  Product1  pgqorighfa  Y  2017-04-03 07:58:55  2017-10-18 12:12:38\n",
      "0  2  Product2  lmndaaweth  Y  2017-09-21 12:38:31  2017-10-18 12:12:38\n",
      "1  3  Product3  urifeubrhh  Y  2017-09-08 10:32:12  2017-10-18 12:12:38\n",
      "2  4  Product4  rlpcjxfarp  Y  2017-05-22 05:29:27  2017-10-18 12:12:38\n",
      "3  5  Product5  hzcpozsgfc  Y  2017-02-02 08:40:29  2017-10-18 12:12:38\n",
      "4  6  Product6  ezhxpqxqdg  Y  2017-01-13 12:47:01  2017-10-18 12:12:38\n",
      "   1  2017-10-18 12:31:45  923  2559  376  Card\n",
      "0  2  2017-10-18 12:31:45  219  1706  151  Card\n",
      "1  3  2017-10-18 12:31:45  927  3462  707  Cash\n",
      "2  4  2017-10-18 12:31:45  806   865  539  Card\n",
      "3  5  2017-10-18 12:31:45  958  2494   25  Card\n",
      "4  6  2017-10-18 12:31:45   37  3782  603  Cash\n"
     ]
    }
   ],
   "source": [
    "CustomerPSV = pd.read_csv('/Users/saurabhpalande/Data Science/DS/Python Project/PSV_s2/customers.txt',sep= '|')\n",
    "ProductsPSV = pd.read_csv('/Users/saurabhpalande/Data Science/DS/Python Project/PSV_s2/products.txt',sep= '|')\n",
    "TransactionPSV = pd.read_csv('/Users/saurabhpalande/Data Science/DS/Python Project/PSV_s2/transactions.txt',sep= '|')\n",
    "\n",
    "print(CustomerPSV.head(5))\n",
    "print(ProductsPSV.head(5))\n",
    "print(TransactionPSV.head(5))"
   ]
  },
  {
   "cell_type": "markdown",
   "metadata": {},
   "source": [
    "<H1>Use Case 9</H1>\n",
    "\n",
    "<H3>Load all three JSON datasets in Pandas Data frames and display first 5 records.</H3>"
   ]
  },
  {
   "cell_type": "code",
   "execution_count": 9,
   "metadata": {},
   "outputs": [
    {
     "name": "stdout",
     "output_type": "stream",
     "text": [
      "   custno  firstname lastname  gender  age          profession      contactNo  \\\n",
      "0       1        Dai    Noble       2   53     Human Resources  1644101928099   \n",
      "1       2        Kay     Wise       2   26    Public Relations  1674031917099   \n",
      "2       3       Amir     Pace       1   43  Customer Relations  1636050509999   \n",
      "3       4  Sebastian    Lopez       2   32  Customer Relations  1666010108899   \n",
      "4       5      Brian   Maddox       1   40   Quality Assurance  1646080399299   \n",
      "\n",
      "                        emailId             city       state  isActive  \\\n",
      "0  eu.lacus.Quisque@loremac.com           Berlin      Berlin         1   \n",
      "1          ridiculus@Sednunc.ca        Oldenzaal  Overijssel         2   \n",
      "2    quam.Pellentesque@erat.edu          Cobourg     Ontario         2   \n",
      "3           magna@venenatis.net       Te Awamutu          NI         1   \n",
      "4         ac.facilisis@Duis.com  Greater Sudbury     Ontario         2   \n",
      "\n",
      "  createdDate UpdatedDate  \n",
      "0  2017-03-01  2018-08-25  \n",
      "1  2017-04-10  2018-08-30  \n",
      "2  2017-03-04  2018-09-18  \n",
      "3  2016-12-17  2018-09-12  \n",
      "4  2017-02-18  2018-05-13  \n",
      "   productno     productName Description  isActive createdDate UpdatedDate\n",
      "0        100        Vauxhall        four         2  2016-11-21  2017-11-09\n",
      "1        101          Toyota         six         2  2017-10-03  2017-11-13\n",
      "2        102  General Motors         two         1  2017-09-18  2017-11-03\n",
      "3        103         Renault       eight         2  2017-10-05  2017-11-13\n",
      "4        104        Kenworth       three         1  2017-05-03  2017-11-04\n",
      "   txnno     txndate  custno  amount  productno  spendby\n",
      "0      1  2018-07-31      71     181         19        2\n",
      "1      2  2017-04-02      44     401         48        2\n",
      "2      3  2018-01-31      45    1808         44        2\n",
      "3      4  2018-04-02      62      65         22        2\n",
      "4      5  2017-08-17      88    1149         74        2\n"
     ]
    }
   ],
   "source": [
    "CustomerJSON = pd.read_json('/Users/saurabhpalande/Data Science/DS/Python Project/JSON_s3/customers.json', lines=True)\n",
    "ProductsJSON = pd.read_json('/Users/saurabhpalande/Data Science/DS/Python Project/JSON_s3/products.json', lines=True)\n",
    "TransactionJSON = pd.read_json('/Users/saurabhpalande/Data Science/DS/Python Project/JSON_s3/transactions.json', lines=True)\n",
    "\n",
    "\n",
    "print(CustomerJSON.head(5))\n",
    "print(ProductsJSON.head(5))\n",
    "print(TransactionJSON.head(5))"
   ]
  },
  {
   "cell_type": "markdown",
   "metadata": {},
   "source": [
    "<H1>Use Case 10</H1>\n",
    "\n",
    "<H3>Load all three XML datasets in Pandas Data frames and display first 5 records.</H3>"
   ]
  },
  {
   "cell_type": "code",
   "execution_count": 11,
   "metadata": {},
   "outputs": [
    {
     "name": "stdout",
     "output_type": "stream",
     "text": [
      "   custno firstname  lastname  gender  age          profession      contactNo  \\\n",
      "0       1    Teegan   Hubbard       2   33     Human Resources  1681121691699   \n",
      "1       2    Deacon    Briggs       2   54  Customer Relations  1631082682999   \n",
      "2       3   Mallory   Shelton       1   57  Customer Relations  1627011572699   \n",
      "3       4     Quinn  Clements       2   43     Media Relations  1618122268999   \n",
      "4       5    Arthur     Hurst       2   41        Tech Support  1681021022799   \n",
      "\n",
      "                          emailId             city         state  isActive  \\\n",
      "0       nibh.Quisque@placerat.com       Galashiels  Selkirkshire         1   \n",
      "1      facilisis.eget@Nullaeu.com  Lens-Saint-Remy            LU         1   \n",
      "2    Curabitur.ut@Nullatempor.edu      North Shore            NI         1   \n",
      "3  metus.Vivamus.euismod@urna.edu          Heredia             H         1   \n",
      "4             in@commodoipsum.org        San Diego       Cartago         2   \n",
      "\n",
      "  createdDate UpdatedDate  \n",
      "0  2016-12-07  2018-09-05  \n",
      "1  2017-04-26  2018-06-04  \n",
      "2  2017-01-02  2018-08-01  \n",
      "3  2017-02-11  2018-07-18  \n",
      "4  2017-03-30  2018-05-19  \n",
      "   productno     productName Description  isActive createdDate UpdatedDate\n",
      "0        100  Hyundai Motors       eight         2  2017-10-01  2017-11-04\n",
      "1        101           Honda       eight         1  2017-04-10  2017-11-11\n",
      "2        102             GMC       three         2  2017-02-09  2017-11-17\n",
      "3        103           Lexus       eight         2  2017-06-01  2017-11-04\n",
      "4        104           Smart        five         2  2017-08-10  2017-11-16\n",
      "   txnno     txndate  custno  amount  productno  spendby\n",
      "0      1  2018-09-16       6     576         73        1\n",
      "1      2  2018-02-11      96    1038         40        2\n",
      "2      3  2017-06-13      17     673          2        1\n",
      "3      4  2017-07-25      89    1284        100        2\n",
      "4      5  2017-06-15       9    1685         56        2\n"
     ]
    }
   ],
   "source": [
    "CustomerXML = pd.read_xml('/Users/saurabhpalande/Data Science/DS/Python Project/XML_s4/customers.xml')\n",
    "ProductsXML = pd.read_xml('/Users/saurabhpalande/Data Science/DS/Python Project/XML_s4/products.xml')\n",
    "TransactionXML = pd.read_xml('/Users/saurabhpalande/Data Science/DS/Python Project/XML_s4/transactions.xml')\n",
    "\n",
    "\n",
    "print(CustomerXML.head(5))\n",
    "print(ProductsXML.head(5))\n",
    "print(TransactionXML.head(5))"
   ]
  }
 ],
 "metadata": {
  "kernelspec": {
   "display_name": "Python 3",
   "language": "python",
   "name": "python3"
  },
  "language_info": {
   "codemirror_mode": {
    "name": "ipython",
    "version": 3
   },
   "file_extension": ".py",
   "mimetype": "text/x-python",
   "name": "python",
   "nbconvert_exporter": "python",
   "pygments_lexer": "ipython3",
   "version": "3.10.9"
  }
 },
 "nbformat": 4,
 "nbformat_minor": 2
}
