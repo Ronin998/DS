{
 "cells": [
  {
   "attachments": {},
   "cell_type": "markdown",
   "metadata": {},
   "source": [
    "<h1><b>Assignment 1</b></h1>\n",
    "\n",
    "> <i>Write a program in pythong to check the grade of the student based on the marks</i>\n",
    "\n",
    "> Coditions: Part A\n",
    "\n",
    "> <b> marks > 40 then Grade A else B</b>\n",
    "\n",
    "> Conditions : Part B\n",
    "\n",
    "> <i>Write A code to check the grade b</i>\n",
    "\n",
    "> More than 90 Grade A\n",
    "\n",
    "> More than 70 but less than 89 Grade B\n",
    "\n",
    ">More than 50 but less than 69 Grade C\n",
    "\n",
    ">More than 35 but less than 49 Grade D\n",
    "\n",
    ">Failed"
   ]
  },
  {
   "attachments": {},
   "cell_type": "markdown",
   "metadata": {},
   "source": [
    "<h1> Part A</h1>"
   ]
  },
  {
   "cell_type": "code",
   "execution_count": 7,
   "metadata": {},
   "outputs": [
    {
     "name": "stdout",
     "output_type": "stream",
     "text": [
      "Grade A\n"
     ]
    }
   ],
   "source": [
    "marks = 50\n",
    "\n",
    "if marks > 40 :\n",
    "    print('Grade A')\n",
    "else:\n",
    "    print('Grade B')"
   ]
  },
  {
   "attachments": {},
   "cell_type": "markdown",
   "metadata": {},
   "source": [
    "<h1>Part B </h1>"
   ]
  },
  {
   "cell_type": "code",
   "execution_count": 8,
   "metadata": {},
   "outputs": [
    {
     "name": "stdout",
     "output_type": "stream",
     "text": [
      "Grade C\n"
     ]
    }
   ],
   "source": [
    "Marks = 65\n",
    "\n",
    "if(Marks > 90) :\n",
    "    print('Grade A')\n",
    "elif (marks >= 70 & Marks <= 90)  :\n",
    "    print('Grade B')\n",
    "elif (Marks >= 50 & Marks <= 69)  :\n",
    "    print('Grade C')\n",
    "elif (Marks >= 49 & Marks <= 69)  :\n",
    "    print('Grade C')\n",
    "elif (Marks >= 35 & Marks <= 49)  :\n",
    "    print('Grade D')\n",
    "else:\n",
    "    print(\"Failed\")"
   ]
  },
  {
   "attachments": {},
   "cell_type": "markdown",
   "metadata": {},
   "source": [
    "<h1>Optimaise Code</h1>\n",
    "\n",
    "><i>in python there is no need to find check for the upper limkt cuz it follows the waterfall model</i>"
   ]
  },
  {
   "cell_type": "code",
   "execution_count": 9,
   "metadata": {},
   "outputs": [
    {
     "name": "stdout",
     "output_type": "stream",
     "text": [
      "Grade C\n"
     ]
    }
   ],
   "source": [
    "Marks = 65\n",
    "\n",
    "if(Marks > 90) :\n",
    "    print('Grade A')\n",
    "elif (marks >= 70 )  :\n",
    "    print('Grade B')\n",
    "elif (Marks >= 50)  :\n",
    "    print('Grade C')\n",
    "elif (Marks >= 49 )  :\n",
    "    print('Grade C')\n",
    "elif (Marks >= 35 )  :\n",
    "    print('Grade D')\n",
    "else:\n",
    "    print(\"Failed\")"
   ]
  },
  {
   "cell_type": "code",
   "execution_count": 12,
   "metadata": {},
   "outputs": [
    {
     "name": "stdout",
     "output_type": "stream",
     "text": [
      "2 3 4 5 6 7 8 9 10 \n",
      "4 6 8 10 12 14 16 18 20 \n",
      "6 9 12 15 18 21 24 27 30 \n",
      "8 12 16 20 24 28 32 36 40 \n",
      "10 15 20 25 30 35 40 45 50 \n",
      "12 18 24 30 36 42 48 54 60 \n",
      "14 21 28 35 42 49 56 63 70 \n",
      "16 24 32 40 48 56 64 72 80 \n",
      "18 27 36 45 54 63 72 81 90 \n",
      "20 30 40 50 60 70 80 90 100 \n"
     ]
    }
   ],
   "source": [
    "for i in range(1,11):\n",
    "    for j in range(2,11):\n",
    "        print(i*j, end = ' ')\n",
    "    print()"
   ]
  },
  {
   "attachments": {},
   "cell_type": "markdown",
   "metadata": {},
   "source": [
    "Loops \n",
    "\n",
    ">Q1 & Q2"
   ]
  },
  {
   "cell_type": "code",
   "execution_count": 2,
   "metadata": {},
   "outputs": [
    {
     "name": "stdout",
     "output_type": "stream",
     "text": [
      "B is greater than A :- 20\n"
     ]
    }
   ],
   "source": [
    "A = input(\"Please Input the value of A:-\")\n",
    "\n",
    "B = input(\"Please Input the value of B:-\")\n",
    "\n",
    "if A > B :\n",
    "    print(\"A is greater Than B :-\", A)\n",
    "else:\n",
    "    print(\"B is greater than A :-\", B)"
   ]
  },
  {
   "attachments": {},
   "cell_type": "markdown",
   "metadata": {},
   "source": [
    ">Q3"
   ]
  },
  {
   "cell_type": "code",
   "execution_count": 13,
   "metadata": {},
   "outputs": [
    {
     "name": "stdout",
     "output_type": "stream",
     "text": [
      "[10, 20, 30, 40, 50]\n",
      "The Greater number is :- 50\n",
      "The Smaller number is :- 10\n"
     ]
    }
   ],
   "source": [
    "i = 0\n",
    "lst = []\n",
    "while (i < 5):\n",
    "    Number = int(input(\"Enter your Number\"))\n",
    "    lst.append(Number)\n",
    "    i += 1\n",
    "    \n",
    "print(lst)\n",
    "\n",
    "print(\"The Greater number is :-\", max(lst))\n",
    "print(\"The Smaller number is :-\", min(lst))\n"
   ]
  },
  {
   "attachments": {},
   "cell_type": "markdown",
   "metadata": {},
   "source": [
    ">Q4"
   ]
  },
  {
   "cell_type": "code",
   "execution_count": 35,
   "metadata": {},
   "outputs": [
    {
     "name": "stdout",
     "output_type": "stream",
     "text": [
      "30\n"
     ]
    }
   ],
   "source": [
    "i = 0\n",
    "lst = []\n",
    "while (i < 5):\n",
    "    Number = int(input(\"Enter your Number\"))\n",
    "    lst.append(Number)\n",
    "    i += 1\n",
    "lst.sort()\n",
    "set1 = set(lst)\n",
    "set1.remove(max(set1))\n",
    "print(max(set1))"
   ]
  },
  {
   "attachments": {},
   "cell_type": "markdown",
   "metadata": {},
   "source": [
    ">Q5"
   ]
  },
  {
   "cell_type": "code",
   "execution_count": 19,
   "metadata": {},
   "outputs": [
    {
     "name": "stdout",
     "output_type": "stream",
     "text": [
      "{'1': '10', '2': '20', '3': '30'}\n",
      "3\n"
     ]
    }
   ],
   "source": [
    "choice = 1\n",
    "dict = {}\n",
    "while choice == 1:\n",
    "    Key = input(\"Enter The Value Of Key\")\n",
    "    Value = input(\"Enter the Value\")\n",
    "    dict[Key] = Value\n",
    "    choice = int(input(\"Do You want enter another record if Yes enter 1 else enter 0\"))\n",
    "print(dict)\n",
    "print(len(dict))\n"
   ]
  },
  {
   "attachments": {},
   "cell_type": "markdown",
   "metadata": {},
   "source": [
    ">Q6"
   ]
  },
  {
   "cell_type": "code",
   "execution_count": 21,
   "metadata": {},
   "outputs": [
    {
     "name": "stdout",
     "output_type": "stream",
     "text": [
      "\n",
      "*\n",
      "**\n",
      "***\n",
      "****\n",
      "*****\n"
     ]
    }
   ],
   "source": [
    "for i in range(6):\n",
    "    print(\"*\"*i)"
   ]
  },
  {
   "attachments": {},
   "cell_type": "markdown",
   "metadata": {},
   "source": [
    ">Q6"
   ]
  },
  {
   "cell_type": "code",
   "execution_count": 22,
   "metadata": {},
   "outputs": [
    {
     "name": "stdout",
     "output_type": "stream",
     "text": [
      "\n",
      "Hi\n",
      "HiHi\n",
      "HiHiHi\n"
     ]
    }
   ],
   "source": [
    "for i in range(4):\n",
    "    print(\"Hi\"*i)"
   ]
  },
  {
   "attachments": {},
   "cell_type": "markdown",
   "metadata": {},
   "source": [
    ">Q7"
   ]
  },
  {
   "cell_type": "code",
   "execution_count": 30,
   "metadata": {},
   "outputs": [
    {
     "name": "stdout",
     "output_type": "stream",
     "text": [
      "\n",
      "Hi\n",
      "HiHi\n",
      "HiHiHi\n",
      "ByeByeByeBye\n",
      "ByeByeByeByeBye\n"
     ]
    }
   ],
   "source": [
    "for i in range(6):\n",
    "    if(i <= 3):\n",
    "        print(\"Hi\"*i)\n",
    "    else:\n",
    "        print(\"Bye\"*i)"
   ]
  },
  {
   "attachments": {},
   "cell_type": "markdown",
   "metadata": {},
   "source": [
    ">Q8"
   ]
  },
  {
   "cell_type": "code",
   "execution_count": 32,
   "metadata": {},
   "outputs": [
    {
     "name": "stdout",
     "output_type": "stream",
     "text": [
      "\n",
      "Hi\n",
      "ByeBye\n",
      "HiHiHi\n",
      "ByeByeByeBye\n",
      "HiHiHiHiHi\n"
     ]
    }
   ],
   "source": [
    "for i in range(6):\n",
    "    if(i %2 == 0):\n",
    "        print(\"Bye\"*i)\n",
    "    else:\n",
    "        print(\"Hi\"*i)"
   ]
  },
  {
   "attachments": {},
   "cell_type": "markdown",
   "metadata": {},
   "source": [
    ">Q5"
   ]
  },
  {
   "cell_type": "code",
   "execution_count": 34,
   "metadata": {},
   "outputs": [
    {
     "name": "stdout",
     "output_type": "stream",
     "text": [
      "100\n",
      "1331\n",
      "144\n",
      "2197\n",
      "196\n",
      "3375\n",
      "256\n",
      "4913\n",
      "324\n",
      "6859\n",
      "400\n"
     ]
    }
   ],
   "source": [
    "for i in range(10,21):\n",
    "    if(i % 2 == 0):\n",
    "        print(i**2)\n",
    "    else:\n",
    "        print(i**3)"
   ]
  }
 ],
 "metadata": {
  "kernelspec": {
   "display_name": "Python 3",
   "language": "python",
   "name": "python3"
  },
  "language_info": {
   "codemirror_mode": {
    "name": "ipython",
    "version": 3
   },
   "file_extension": ".py",
   "mimetype": "text/x-python",
   "name": "python",
   "nbconvert_exporter": "python",
   "pygments_lexer": "ipython3",
   "version": "3.11.0"
  },
  "orig_nbformat": 4
 },
 "nbformat": 4,
 "nbformat_minor": 2
}
