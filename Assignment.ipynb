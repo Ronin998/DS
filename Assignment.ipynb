{
 "cells": [
  {
   "attachments": {},
   "cell_type": "markdown",
   "metadata": {},
   "source": [
    "<h1><b>Assignment 1</b></h1>\n",
    "\n",
    "> <i>Write a program in pythong to check the grade of the student based on the marks</i>\n",
    "\n",
    "> Coditions: Part A\n",
    "\n",
    "> <b> marks > 40 then Grade A else B</b>\n",
    "\n",
    "> Conditions : Part B\n",
    "\n",
    "> <i>Write A code to check the grade b</i>\n",
    "\n",
    "> More than 90 Grade A\n",
    "\n",
    "> More than 70 but less than 89 Grade B\n",
    "\n",
    ">More than 50 but less than 69 Grade C\n",
    "\n",
    ">More than 35 but less than 49 Grade D\n",
    "\n",
    ">Failed"
   ]
  },
  {
   "attachments": {},
   "cell_type": "markdown",
   "metadata": {},
   "source": [
    "<h1> Part A</h1>"
   ]
  },
  {
   "cell_type": "code",
   "execution_count": 7,
   "metadata": {},
   "outputs": [
    {
     "name": "stdout",
     "output_type": "stream",
     "text": [
      "Grade A\n"
     ]
    }
   ],
   "source": [
    "marks = 50\n",
    "\n",
    "if marks > 40 :\n",
    "    print('Grade A')\n",
    "else:\n",
    "    print('Grade B')"
   ]
  },
  {
   "attachments": {},
   "cell_type": "markdown",
   "metadata": {},
   "source": [
    "<h1>Part B </h1>"
   ]
  },
  {
   "cell_type": "code",
   "execution_count": 8,
   "metadata": {},
   "outputs": [
    {
     "name": "stdout",
     "output_type": "stream",
     "text": [
      "Grade C\n"
     ]
    }
   ],
   "source": [
    "Marks = 65\n",
    "\n",
    "if(Marks > 90) :\n",
    "    print('Grade A')\n",
    "elif (marks >= 70 & Marks <= 90)  :\n",
    "    print('Grade B')\n",
    "elif (Marks >= 50 & Marks <= 69)  :\n",
    "    print('Grade C')\n",
    "elif (Marks >= 49 & Marks <= 69)  :\n",
    "    print('Grade C')\n",
    "elif (Marks >= 35 & Marks <= 49)  :\n",
    "    print('Grade D')\n",
    "else:\n",
    "    print(\"Failed\")"
   ]
  },
  {
   "attachments": {},
   "cell_type": "markdown",
   "metadata": {},
   "source": [
    "<h1>Optimaise Code</h1>\n",
    "\n",
    "><i>in python there is no need to find check for the upper limkt cuz it follows the waterfall model</i>"
   ]
  },
  {
   "cell_type": "code",
   "execution_count": 9,
   "metadata": {},
   "outputs": [
    {
     "name": "stdout",
     "output_type": "stream",
     "text": [
      "Grade C\n"
     ]
    }
   ],
   "source": [
    "Marks = 65\n",
    "\n",
    "if(Marks > 90) :\n",
    "    print('Grade A')\n",
    "elif (marks >= 70 )  :\n",
    "    print('Grade B')\n",
    "elif (Marks >= 50)  :\n",
    "    print('Grade C')\n",
    "elif (Marks >= 49 )  :\n",
    "    print('Grade C')\n",
    "elif (Marks >= 35 )  :\n",
    "    print('Grade D')\n",
    "else:\n",
    "    print(\"Failed\")"
   ]
  },
  {
   "cell_type": "code",
   "execution_count": 12,
   "metadata": {},
   "outputs": [
    {
     "name": "stdout",
     "output_type": "stream",
     "text": [
      "2 3 4 5 6 7 8 9 10 \n",
      "4 6 8 10 12 14 16 18 20 \n",
      "6 9 12 15 18 21 24 27 30 \n",
      "8 12 16 20 24 28 32 36 40 \n",
      "10 15 20 25 30 35 40 45 50 \n",
      "12 18 24 30 36 42 48 54 60 \n",
      "14 21 28 35 42 49 56 63 70 \n",
      "16 24 32 40 48 56 64 72 80 \n",
      "18 27 36 45 54 63 72 81 90 \n",
      "20 30 40 50 60 70 80 90 100 \n"
     ]
    }
   ],
   "source": [
    "for i in range(1,11):\n",
    "    for j in range(2,11):\n",
    "        print(i*j, end = ' ')\n",
    "    print()"
   ]
  }
 ],
 "metadata": {
  "kernelspec": {
   "display_name": "Python 3",
   "language": "python",
   "name": "python3"
  },
  "language_info": {
   "codemirror_mode": {
    "name": "ipython",
    "version": 3
   },
   "file_extension": ".py",
   "mimetype": "text/x-python",
   "name": "python",
   "nbconvert_exporter": "python",
   "pygments_lexer": "ipython3",
   "version": "3.11.0"
  },
  "orig_nbformat": 4
 },
 "nbformat": 4,
 "nbformat_minor": 2
}
