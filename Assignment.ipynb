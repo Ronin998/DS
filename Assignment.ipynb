{
 "cells": [
  {
   "attachments": {},
   "cell_type": "markdown",
   "metadata": {},
   "source": [
    "<h1><b>Assignment 1</b></h1>\n",
    "\n",
    "> <i>Write a program in pythong to check the grade of the student based on the marks</i>\n",
    "\n",
    "> Coditions: Part A\n",
    "\n",
    "> <b> marks > 40 then Grade A else B</b>\n",
    "\n",
    "> Conditions : Part B\n",
    "\n",
    "> <i>Write A code to check the grade b</i>\n",
    "\n",
    "> More than 90 Grade A\n",
    "\n",
    "> More than 70 but less than 89 Grade B\n",
    "\n",
    ">More than 50 but less than 69 Grade C\n",
    "\n",
    ">More than 35 but less than 49 Grade D\n",
    "\n",
    ">Failed"
   ]
  },
  {
   "attachments": {},
   "cell_type": "markdown",
   "metadata": {},
   "source": [
    "<h1> Part A</h1>"
   ]
  },
  {
   "cell_type": "code",
   "execution_count": 36,
   "metadata": {},
   "outputs": [
    {
     "name": "stdout",
     "output_type": "stream",
     "text": [
      "Grade A\n"
     ]
    }
   ],
   "source": [
    "marks = 50\n",
    "\n",
    "if marks > 40 :\n",
    "    print('Grade A')\n",
    "else:\n",
    "    print('Grade B')"
   ]
  },
  {
   "attachments": {},
   "cell_type": "markdown",
   "metadata": {},
   "source": [
    "<h1>Part B </h1>"
   ]
  },
  {
   "cell_type": "code",
   "execution_count": 37,
   "metadata": {},
   "outputs": [
    {
     "name": "stdout",
     "output_type": "stream",
     "text": [
      "Grade C\n"
     ]
    }
   ],
   "source": [
    "Marks = 65\n",
    "\n",
    "if(Marks > 90) :\n",
    "    print('Grade A')\n",
    "elif (marks >= 70 & Marks <= 90)  :\n",
    "    print('Grade B')\n",
    "elif (Marks >= 50 & Marks <= 69)  :\n",
    "    print('Grade C')\n",
    "elif (Marks >= 49 & Marks <= 69)  :\n",
    "    print('Grade C')\n",
    "elif (Marks >= 35 & Marks <= 49)  :\n",
    "    print('Grade D')\n",
    "else:\n",
    "    print(\"Failed\")"
   ]
  },
  {
   "attachments": {},
   "cell_type": "markdown",
   "metadata": {},
   "source": [
    "<h1>Optimaise Code</h1>\n",
    "\n",
    "><i>in python there is no need to find check for the upper limkt cuz it follows the waterfall model</i>"
   ]
  },
  {
   "cell_type": "code",
   "execution_count": 38,
   "metadata": {},
   "outputs": [
    {
     "name": "stdout",
     "output_type": "stream",
     "text": [
      "Grade C\n"
     ]
    }
   ],
   "source": [
    "Marks = 65\n",
    "\n",
    "if(Marks > 90) :\n",
    "    print('Grade A')\n",
    "elif (marks >= 70 )  :\n",
    "    print('Grade B')\n",
    "elif (Marks >= 50)  :\n",
    "    print('Grade C')\n",
    "elif (Marks >= 49 )  :\n",
    "    print('Grade C')\n",
    "elif (Marks >= 35 )  :\n",
    "    print('Grade D')\n",
    "else:\n",
    "    print(\"Failed\")"
   ]
  },
  {
   "cell_type": "code",
   "execution_count": 39,
   "metadata": {},
   "outputs": [
    {
     "name": "stdout",
     "output_type": "stream",
     "text": [
      "2 3 4 5 6 7 8 9 10 \n",
      "4 6 8 10 12 14 16 18 20 \n",
      "6 9 12 15 18 21 24 27 30 \n",
      "8 12 16 20 24 28 32 36 40 \n",
      "10 15 20 25 30 35 40 45 50 \n",
      "12 18 24 30 36 42 48 54 60 \n",
      "14 21 28 35 42 49 56 63 70 \n",
      "16 24 32 40 48 56 64 72 80 \n",
      "18 27 36 45 54 63 72 81 90 \n",
      "20 30 40 50 60 70 80 90 100 \n"
     ]
    }
   ],
   "source": [
    "for i in range(1,11):\n",
    "    for j in range(2,11):\n",
    "        print(i*j, end = ' ')\n",
    "    print()"
   ]
  },
  {
   "attachments": {},
   "cell_type": "markdown",
   "metadata": {},
   "source": [
    "Loops \n",
    "\n",
    ">Q1 & Q2"
   ]
  },
  {
   "cell_type": "code",
   "execution_count": 40,
   "metadata": {},
   "outputs": [
    {
     "name": "stdout",
     "output_type": "stream",
     "text": [
      "B is greater than A :- \n"
     ]
    }
   ],
   "source": [
    "A = input(\"Please Input the value of A:-\")\n",
    "\n",
    "B = input(\"Please Input the value of B:-\")\n",
    "\n",
    "if A > B :\n",
    "    print(\"A is greater Than B :-\", A)\n",
    "else:\n",
    "    print(\"B is greater than A :-\", B)"
   ]
  },
  {
   "attachments": {},
   "cell_type": "markdown",
   "metadata": {},
   "source": [
    ">Q3"
   ]
  },
  {
   "cell_type": "code",
   "execution_count": 41,
   "metadata": {},
   "outputs": [
    {
     "ename": "ValueError",
     "evalue": "invalid literal for int() with base 10: ''",
     "output_type": "error",
     "traceback": [
      "\u001b[0;31m---------------------------------------------------------------------------\u001b[0m",
      "\u001b[0;31mValueError\u001b[0m                                Traceback (most recent call last)",
      "\u001b[1;32m/Users/saurabhpalande/Data Science/DS/Assignment.ipynb Cell 12\u001b[0m in \u001b[0;36m4\n\u001b[1;32m      <a href='vscode-notebook-cell:/Users/saurabhpalande/Data%20Science/DS/Assignment.ipynb#X15sZmlsZQ%3D%3D?line=1'>2</a>\u001b[0m lst \u001b[39m=\u001b[39m []\n\u001b[1;32m      <a href='vscode-notebook-cell:/Users/saurabhpalande/Data%20Science/DS/Assignment.ipynb#X15sZmlsZQ%3D%3D?line=2'>3</a>\u001b[0m \u001b[39mwhile\u001b[39;00m (i \u001b[39m<\u001b[39m \u001b[39m5\u001b[39m):\n\u001b[0;32m----> <a href='vscode-notebook-cell:/Users/saurabhpalande/Data%20Science/DS/Assignment.ipynb#X15sZmlsZQ%3D%3D?line=3'>4</a>\u001b[0m     Number \u001b[39m=\u001b[39m \u001b[39mint\u001b[39;49m(\u001b[39minput\u001b[39;49m(\u001b[39m\"\u001b[39;49m\u001b[39mEnter your Number\u001b[39;49m\u001b[39m\"\u001b[39;49m))\n\u001b[1;32m      <a href='vscode-notebook-cell:/Users/saurabhpalande/Data%20Science/DS/Assignment.ipynb#X15sZmlsZQ%3D%3D?line=4'>5</a>\u001b[0m     lst\u001b[39m.\u001b[39mappend(Number)\n\u001b[1;32m      <a href='vscode-notebook-cell:/Users/saurabhpalande/Data%20Science/DS/Assignment.ipynb#X15sZmlsZQ%3D%3D?line=5'>6</a>\u001b[0m     i \u001b[39m+\u001b[39m\u001b[39m=\u001b[39m \u001b[39m1\u001b[39m\n",
      "\u001b[0;31mValueError\u001b[0m: invalid literal for int() with base 10: ''"
     ]
    }
   ],
   "source": [
    "i = 0\n",
    "lst = []\n",
    "while (i < 5):\n",
    "    Number = int(input(\"Enter your Number\"))\n",
    "    lst.append(Number)\n",
    "    i += 1\n",
    "    \n",
    "print(lst)\n",
    "\n",
    "print(\"The Greater number is :-\", max(lst))\n",
    "print(\"The Smaller number is :-\", min(lst))\n"
   ]
  },
  {
   "attachments": {},
   "cell_type": "markdown",
   "metadata": {},
   "source": [
    ">Q4"
   ]
  },
  {
   "cell_type": "code",
   "execution_count": null,
   "metadata": {},
   "outputs": [
    {
     "name": "stdout",
     "output_type": "stream",
     "text": [
      "30\n"
     ]
    }
   ],
   "source": [
    "i = 0\n",
    "lst = []\n",
    "while (i < 5):\n",
    "    Number = int(input(\"Enter your Number\"))\n",
    "    lst.append(Number)\n",
    "    i += 1\n",
    "lst.sort()\n",
    "set1 = set(lst)\n",
    "set1.remove(max(set1))\n",
    "print(max(set1))"
   ]
  },
  {
   "attachments": {},
   "cell_type": "markdown",
   "metadata": {},
   "source": [
    ">Q5"
   ]
  },
  {
   "cell_type": "code",
   "execution_count": null,
   "metadata": {},
   "outputs": [
    {
     "name": "stdout",
     "output_type": "stream",
     "text": [
      "{'1': '10', '2': '20', '3': '30'}\n",
      "3\n"
     ]
    }
   ],
   "source": [
    "choice = 1\n",
    "dict = {}\n",
    "while choice == 1:\n",
    "    Key = input(\"Enter The Value Of Key\")\n",
    "    Value = input(\"Enter the Value\")\n",
    "    dict[Key] = Value\n",
    "    choice = int(input(\"Do You want enter another record if Yes enter 1 else enter 0\"))\n",
    "print(dict)\n",
    "print(len(dict))\n"
   ]
  },
  {
   "attachments": {},
   "cell_type": "markdown",
   "metadata": {},
   "source": [
    ">Q6"
   ]
  },
  {
   "cell_type": "code",
   "execution_count": null,
   "metadata": {},
   "outputs": [
    {
     "name": "stdout",
     "output_type": "stream",
     "text": [
      "\n",
      "*\n",
      "**\n",
      "***\n",
      "****\n",
      "*****\n"
     ]
    }
   ],
   "source": [
    "for i in range(6):\n",
    "    print(\"*\"*i)"
   ]
  },
  {
   "attachments": {},
   "cell_type": "markdown",
   "metadata": {},
   "source": [
    ">Q6"
   ]
  },
  {
   "cell_type": "code",
   "execution_count": null,
   "metadata": {},
   "outputs": [
    {
     "name": "stdout",
     "output_type": "stream",
     "text": [
      "\n",
      "Hi\n",
      "HiHi\n",
      "HiHiHi\n"
     ]
    }
   ],
   "source": [
    "for i in range(4):\n",
    "    print(\"Hi\"*i)"
   ]
  },
  {
   "attachments": {},
   "cell_type": "markdown",
   "metadata": {},
   "source": [
    ">Q7"
   ]
  },
  {
   "cell_type": "code",
   "execution_count": null,
   "metadata": {},
   "outputs": [
    {
     "name": "stdout",
     "output_type": "stream",
     "text": [
      "\n",
      "Hi\n",
      "HiHi\n",
      "HiHiHi\n",
      "ByeByeByeBye\n",
      "ByeByeByeByeBye\n"
     ]
    }
   ],
   "source": [
    "for i in range(6):\n",
    "    if(i <= 3):\n",
    "        print(\"Hi\"*i)\n",
    "    else:\n",
    "        print(\"Bye\"*i)"
   ]
  },
  {
   "attachments": {},
   "cell_type": "markdown",
   "metadata": {},
   "source": [
    ">Q8"
   ]
  },
  {
   "cell_type": "code",
   "execution_count": null,
   "metadata": {},
   "outputs": [
    {
     "name": "stdout",
     "output_type": "stream",
     "text": [
      "\n",
      "Hi\n",
      "ByeBye\n",
      "HiHiHi\n",
      "ByeByeByeBye\n",
      "HiHiHiHiHi\n"
     ]
    }
   ],
   "source": [
    "for i in range(6):\n",
    "    if(i %2 == 0):\n",
    "        print(\"Bye\"*i)\n",
    "    else:\n",
    "        print(\"Hi\"*i)"
   ]
  },
  {
   "attachments": {},
   "cell_type": "markdown",
   "metadata": {},
   "source": [
    ">Q5"
   ]
  },
  {
   "cell_type": "code",
   "execution_count": null,
   "metadata": {},
   "outputs": [
    {
     "name": "stdout",
     "output_type": "stream",
     "text": [
      "100\n",
      "1331\n",
      "144\n",
      "2197\n",
      "196\n",
      "3375\n",
      "256\n",
      "4913\n",
      "324\n",
      "6859\n",
      "400\n"
     ]
    }
   ],
   "source": [
    "for i in range(10,21):\n",
    "    if(i % 2 == 0):\n",
    "        print(i**2)\n",
    "    else:\n",
    "        print(i**3)"
   ]
  },
  {
   "attachments": {},
   "cell_type": "markdown",
   "metadata": {},
   "source": [
    "Q1.Write a function that computes the volume of a sphere given its radius.\n",
    "\n",
    "The volume of a sphere is given as\n",
    "4/3π𝑟3"
   ]
  },
  {
   "cell_type": "code",
   "execution_count": 9,
   "metadata": {},
   "outputs": [
    {
     "name": "stdout",
     "output_type": "stream",
     "text": [
      "Radius of a circle 33.52380952380952\n"
     ]
    }
   ],
   "source": [
    "Pi = 22/7\n",
    "def Volumn(int):\n",
    "    Ans = (4/3)*(Pi)*(num**3)\n",
    "    print('Radius of a circle',Ans)\n",
    "\n",
    "num = int(input(\"Enter Your Number to calculate\"))\n",
    "Volumn(num)\n"
   ]
  },
  {
   "attachments": {},
   "cell_type": "markdown",
   "metadata": {},
   "source": [
    "Q2.Write a function that checks whether a number is in a given range (inclusive of high and low)\n",
    "\n"
   ]
  },
  {
   "cell_type": "code",
   "execution_count": 11,
   "metadata": {},
   "outputs": [
    {
     "data": {
      "text/plain": [
       "True"
      ]
     },
     "execution_count": 11,
     "metadata": {},
     "output_type": "execute_result"
    }
   ],
   "source": [
    "high = int(input('Enter the value of the high'))\n",
    "low = int(input('Enter the value of the low'))\n",
    "num = int(input('Enter the value of the num'))\n",
    "\n",
    "def CheckRange(high, low , num):\n",
    "    return(num in range(low,high))\n",
    "\n",
    "CheckRange(high,low,num)"
   ]
  },
  {
   "attachments": {},
   "cell_type": "markdown",
   "metadata": {},
   "source": [
    "Q3. Write a Python function that accepts a string and calculates the number of upper case letters and lower case letters."
   ]
  },
  {
   "cell_type": "code",
   "execution_count": 26,
   "metadata": {},
   "outputs": [
    {
     "name": "stdout",
     "output_type": "stream",
     "text": [
      "No. of Upper case characters : 0 No. of Lower case Characters : 7\n"
     ]
    }
   ],
   "source": [
    "inputstr = input('Enter you Line')\n",
    "\n",
    "\n",
    "def countup_lower(string):\n",
    "    cntupper = 0\n",
    "    cntlower = 0\n",
    "    for ch in inputstr:\n",
    "        if(ch.isupper()):\n",
    "            cntupper += 1\n",
    "        elif(ch.islower()):\n",
    "            cntlower += 1\n",
    "    print('No. of Upper case characters :',cntupper,'No. of Lower case Characters :',cntlower)\n",
    "\n",
    "\n",
    "countup_lower(inputstr)\n",
    "    "
   ]
  },
  {
   "attachments": {},
   "cell_type": "markdown",
   "metadata": {},
   "source": [
    "Q4.Write a Python function that takes a list and returns a new list with unique elements of the first list."
   ]
  },
  {
   "cell_type": "code",
   "execution_count": 22,
   "metadata": {},
   "outputs": [
    {
     "name": "stdout",
     "output_type": "stream",
     "text": [
      "[1, 2, 3, 4, 5]\n"
     ]
    }
   ],
   "source": [
    "lst = [1,1,1,1,2,2,2,2,3,4,4,4,5,5]\n",
    "uniqset = {}\n",
    "def uniq(List):\n",
    "    uniqset = set(lst)\n",
    "    uniqlst = list(uniqset)\n",
    "    print(uniqlst)\n",
    "\n",
    "uniq(lst)"
   ]
  },
  {
   "attachments": {},
   "cell_type": "markdown",
   "metadata": {},
   "source": [
    "Q5.Write a Python function to multiply all the numbers in a list."
   ]
  },
  {
   "cell_type": "code",
   "execution_count": 25,
   "metadata": {},
   "outputs": [
    {
     "name": "stdout",
     "output_type": "stream",
     "text": [
      "Multiplication of the list is: 120\n"
     ]
    }
   ],
   "source": [
    "lst = [1,2,3,4,5]\n",
    "\n",
    "def multiply(List):\n",
    "    ans = 1\n",
    "    for i in lst:\n",
    "        ans = ans * i\n",
    "    print('Multiplication of the list is:', ans)\n",
    "\n",
    "multiply(lst)"
   ]
  },
  {
   "attachments": {},
   "cell_type": "markdown",
   "metadata": {},
   "source": [
    "Q6.Write a Python function that checks whether a passed in string is palindrome or not."
   ]
  },
  {
   "cell_type": "code",
   "execution_count": 28,
   "metadata": {},
   "outputs": [
    {
     "name": "stdout",
     "output_type": "stream",
     "text": [
      "String is palindrom\n"
     ]
    }
   ],
   "source": [
    "str = input(\"Enter your string\")\n",
    "\n",
    "def palindrome(String):\n",
    "    if(str == str[::-1]):\n",
    "        print('String is palindrom')\n",
    "    else:\n",
    "        print('String is not palindrom')\n",
    "\n",
    "palindrome(str)"
   ]
  },
  {
   "attachments": {},
   "cell_type": "markdown",
   "metadata": {},
   "source": [
    "Q.7 Write a Python function to check whether a string is pangram or not.\n",
    "\n"
   ]
  },
  {
   "cell_type": "code",
   "execution_count": 43,
   "metadata": {},
   "outputs": [
    {
     "name": "stdout",
     "output_type": "stream",
     "text": [
      "This is a panagram\n"
     ]
    }
   ],
   "source": [
    "import string\n",
    "\n",
    "str = input('Enter your sentance')\n",
    "\n",
    "def ispanagram(string , alphabet = string.ascii_lowercase):\n",
    "    for ch in alphabet:\n",
    "        if(ch in str):\n",
    "            continue\n",
    "        else:\n",
    "            print('Not A panagram')\n",
    "            return\n",
    "    print('This is a panagram')\n",
    "    \n",
    "ispanagram(str)"
   ]
  },
  {
   "cell_type": "code",
   "execution_count": 1,
   "metadata": {},
   "outputs": [
    {
     "data": {
      "text/plain": [
       "True"
      ]
     },
     "execution_count": 1,
     "metadata": {},
     "output_type": "execute_result"
    }
   ],
   "source": [
    "def maketwenty(num1,num2):\n",
    "    return num1 + num2 == 20 or num1 == 20 or num2 == 20\n",
    "\n",
    "maketwenty(10,10)"
   ]
  },
  {
   "cell_type": "code",
   "execution_count": 2,
   "metadata": {},
   "outputs": [
    {
     "data": {
      "text/plain": [
       "'SauRabh'"
      ]
     },
     "execution_count": 2,
     "metadata": {},
     "output_type": "execute_result"
    }
   ],
   "source": [
    "def capff(str):\n",
    "    return str[0:3].capitalize() + str[3:].capitalize()\n",
    "\n",
    "capff('saurabh')"
   ]
  },
  {
   "cell_type": "code",
   "execution_count": 8,
   "metadata": {},
   "outputs": [
    {
     "data": {
      "text/plain": [
       "'home is saurabh'"
      ]
     },
     "execution_count": 8,
     "metadata": {},
     "output_type": "execute_result"
    }
   ],
   "source": [
    "def yoda(s):\n",
    "    return ' '.join(s.split()[::-1])\n",
    "\n",
    "yoda('saurabh is home')"
   ]
  },
  {
   "cell_type": "code",
   "execution_count": 11,
   "metadata": {},
   "outputs": [
    {
     "data": {
      "text/plain": [
       "False"
      ]
     },
     "execution_count": 11,
     "metadata": {},
     "output_type": "execute_result"
    }
   ],
   "source": [
    "def almostthere(num):\n",
    "    return abs(num -100) <= 10  or abs( num -200) <= 10\n",
    "\n",
    "almostthere(150)\n"
   ]
  },
  {
   "cell_type": "code",
   "execution_count": 19,
   "metadata": {},
   "outputs": [
    {
     "data": {
      "text/plain": [
       "True"
      ]
     },
     "execution_count": 19,
     "metadata": {},
     "output_type": "execute_result"
    }
   ],
   "source": [
    "def find33(lst):\n",
    "    for i in range(len(lst)-1):\n",
    "        if lst[i:i+2] == [3,3]:\n",
    "            return True\n",
    "    return False\n",
    "find33([1,2,3,3,4,4])"
   ]
  },
  {
   "cell_type": "code",
   "execution_count": 22,
   "metadata": {},
   "outputs": [
    {
     "data": {
      "text/plain": [
       "'sssaaauuurrraaabbbhhh'"
      ]
     },
     "execution_count": 22,
     "metadata": {},
     "output_type": "execute_result"
    }
   ],
   "source": [
    "def paperdoll(text):\n",
    "    str1 = \"\"\n",
    "    for ch in text:\n",
    "        str1 += ch*3\n",
    "    return str1\n",
    "\n",
    "paperdoll('saurabh')"
   ]
  },
  {
   "cell_type": "code",
   "execution_count": 23,
   "metadata": {},
   "outputs": [
    {
     "data": {
      "text/plain": [
       "'HHHeeellllllooo'"
      ]
     },
     "execution_count": 23,
     "metadata": {},
     "output_type": "execute_result"
    }
   ],
   "source": [
    "def paperdoll(text):\n",
    "    str1 = \"\"\n",
    "    for ch in text:\n",
    "        str1 += ch*3\n",
    "    return str1\n",
    "\n",
    "paperdoll('saurabh')\n",
    "\n",
    "\n",
    "#''.join([i*3 for i in 'Hello'])"
   ]
  },
  {
   "cell_type": "code",
   "execution_count": 30,
   "metadata": {},
   "outputs": [
    {
     "data": {
      "text/plain": [
       "'bust'"
      ]
     },
     "execution_count": 30,
     "metadata": {},
     "output_type": "execute_result"
    }
   ],
   "source": [
    "n1 = int(input('Enter the value of the high'))\n",
    "n2 = int(input('Enter the value of the low'))\n",
    "n3 = int(input('Enter the value of the num'))\n",
    "\n",
    "def blackjack(n1,n2,n3):\n",
    "    if sum([n1,n2,n3]) <= 21:\n",
    "        return sum([n1,n2,n3])\n",
    "    elif sum([n1,n2,n3]) <= 21 and 11 in (n1,n2,n3):\n",
    "        return sum([n1,n2,n3]) - 10\n",
    "    else:\n",
    "        return 'bust'\n",
    "    \n",
    "blackjack(n1,n2,n3)"
   ]
  },
  {
   "cell_type": "code",
   "execution_count": 32,
   "metadata": {},
   "outputs": [
    {
     "data": {
      "text/plain": [
       "48"
      ]
     },
     "execution_count": 32,
     "metadata": {},
     "output_type": "execute_result"
    }
   ],
   "source": [
    "def sum69(lst):\n",
    "  lst[lst.index(6):lst.index(9) +1] = []\n",
    "  return sum(lst)\n",
    "\n",
    "sum69([1,2,3,4,5,6,7,8,9,10,11,12])"
   ]
  }
 ],
 "metadata": {
  "kernelspec": {
   "display_name": "Python 3",
   "language": "python",
   "name": "python3"
  },
  "language_info": {
   "codemirror_mode": {
    "name": "ipython",
    "version": 3
   },
   "file_extension": ".py",
   "mimetype": "text/x-python",
   "name": "python",
   "nbconvert_exporter": "python",
   "pygments_lexer": "ipython3",
   "version": "3.11.0"
  },
  "orig_nbformat": 4,
  "vscode": {
   "interpreter": {
    "hash": "aee8b7b246df8f9039afb4144a1f6fd8d2ca17a180786b69acc140d282b71a49"
   }
  }
 },
 "nbformat": 4,
 "nbformat_minor": 2
}
